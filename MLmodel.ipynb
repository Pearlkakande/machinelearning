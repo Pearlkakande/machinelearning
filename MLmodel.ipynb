{
  "nbformat": 4,
  "nbformat_minor": 0,
  "metadata": {
    "colab": {
      "provenance": [],
      "authorship_tag": "ABX9TyMFLXHTDKvffmx4o5MxLmND",
      "include_colab_link": true
    },
    "kernelspec": {
      "name": "python3",
      "display_name": "Python 3"
    },
    "language_info": {
      "name": "python"
    }
  },
  "cells": [
    {
      "cell_type": "markdown",
      "metadata": {
        "id": "view-in-github",
        "colab_type": "text"
      },
      "source": [
        "<a href=\"https://colab.research.google.com/github/Pearlkakande/machinelearning/blob/main/MLmodel.ipynb\" target=\"_parent\"><img src=\"https://colab.research.google.com/assets/colab-badge.svg\" alt=\"Open In Colab\"/></a>"
      ]
    },
    {
      "cell_type": "code",
      "source": [
        "# Install required libraries if needed:\n",
        "!pip install datasets scikit-learn\n",
        "\n",
        "import pandas as pd, numpy as np, torch, torch.nn as nn, torch.optim as optim, time\n",
        "from datasets import load_dataset\n",
        "from sklearn.feature_extraction.text import TfidfVectorizer\n",
        "from sklearn.model_selection import train_test_split\n",
        "from sklearn.metrics import mean_squared_error\n",
        "import matplotlib.pyplot as plt\n",
        "\n",
        "device = torch.device(\"cuda\" if torch.cuda.is_available() else \"cpu\")\n",
        "\n",
        "# Load dataset\n",
        "dataset = load_dataset(\"Eitanli/goodreads\", split=\"train\")\n",
        "df = pd.DataFrame(dataset)\n",
        "print(\"Dataset shape:\", df.shape)\n",
        "\n",
        "# Preprocess: Use book descriptions (convert to string) and compute TF-IDF features\n",
        "df['Description'] = df['Description'].astype(str)\n",
        "vectorizer = TfidfVectorizer(max_features=1000, stop_words='english')\n",
        "tfidf_features = vectorizer.fit_transform(df['Description']).toarray()\n",
        "features = torch.tensor(tfidf_features, dtype=torch.float32, device=device)\n",
        "\n",
        "# Use aggregated average rating as target (regression task)\n",
        "ratings = torch.tensor(df['Avg_Rating'].values, dtype=torch.float32, device=device)\n",
        "\n",
        "# Split indices for training and testing\n",
        "indices = np.arange(len(df))\n",
        "train_idx, test_idx = train_test_split(indices, test_size=0.2, random_state=42)\n",
        "train_idx = torch.tensor(train_idx, dtype=torch.long, device=device)\n",
        "test_idx = torch.tensor(test_idx, dtype=torch.long, device=device)\n",
        "\n",
        "# Define a simple linear regression model\n",
        "class LinearMF(nn.Module):\n",
        "    def __init__(self, input_dim):\n",
        "        super(LinearMF, self).__init__()\n",
        "        self.linear = nn.Linear(input_dim, 1)\n",
        "    def forward(self, x):\n",
        "        return self.linear(x).squeeze()\n",
        "\n",
        "model1 = LinearMF(input_dim=features.shape[1]).to(device)\n",
        "criterion = nn.MSELoss()\n",
        "optimizer = optim.Adam(model1.parameters(), lr=0.001)\n",
        "\n",
        "num_epochs = 30\n",
        "train_losses, test_losses, epoch_times = [], [], []\n",
        "\n",
        "for epoch in range(num_epochs):\n",
        "    start_time = time.time()\n",
        "    model1.train()\n",
        "    optimizer.zero_grad()\n",
        "    pred = model1(features)\n",
        "    loss = criterion(pred[train_idx], ratings[train_idx])\n",
        "    loss.backward()\n",
        "    optimizer.step()\n",
        "    epoch_time = time.time() - start_time\n",
        "\n",
        "    model1.eval()\n",
        "    with torch.no_grad():\n",
        "        test_loss = criterion(model1(features)[test_idx], ratings[test_idx]).item()\n",
        "\n",
        "    train_losses.append(loss.item())\n",
        "    test_losses.append(test_loss)\n",
        "    epoch_times.append(epoch_time)\n",
        "    print(f\"Epoch {epoch+1}/{num_epochs}: Train Loss = {loss.item():.4f}, Test Loss = {test_loss:.4f}, Epoch Time = {epoch_time:.2f} sec, LR = {optimizer.param_groups[0]['lr']}\")\n",
        "\n",
        "# Plot losses\n",
        "plt.figure()\n",
        "plt.plot(train_losses, label='Train Loss')\n",
        "plt.plot(test_losses, label='Test Loss')\n",
        "plt.xlabel(\"Epoch\")\n",
        "plt.ylabel(\"MSE Loss\")\n",
        "plt.title(\"Linear MF Baseline Loss over Epochs\")\n",
        "plt.legend()\n",
        "plt.show()\n",
        "\n",
        "print(\"Final Test MSE:\", test_losses[-1])\n"
      ],
      "metadata": {
        "id": "Z0WkLnXF_HJv"
      },
      "execution_count": null,
      "outputs": []
    }
  ]
}
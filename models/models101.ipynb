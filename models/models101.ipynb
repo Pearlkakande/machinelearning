{
  "nbformat": 4,
  "nbformat_minor": 0,
  "metadata": {
    "colab": {
      "provenance": [],
      "authorship_tag": "ABX9TyOFMxOJvv/Xf9QmV6/FYV2z",
      "include_colab_link": true
    },
    "kernelspec": {
      "name": "python3",
      "display_name": "Python 3"
    },
    "language_info": {
      "name": "python"
    },
    "widgets": {
      "application/vnd.jupyter.widget-state+json": {
        "60e01ed37bf14115a97c14fe8a509c51": {
          "model_module": "@jupyter-widgets/controls",
          "model_name": "HBoxModel",
          "model_module_version": "1.5.0",
          "state": {
            "_dom_classes": [],
            "_model_module": "@jupyter-widgets/controls",
            "_model_module_version": "1.5.0",
            "_model_name": "HBoxModel",
            "_view_count": null,
            "_view_module": "@jupyter-widgets/controls",
            "_view_module_version": "1.5.0",
            "_view_name": "HBoxView",
            "box_style": "",
            "children": [
              "IPY_MODEL_60433fde2f504bc6919068d96ed2659f",
              "IPY_MODEL_fad98754faec4e408909b5c32d4274d9",
              "IPY_MODEL_f72b3fe7f453490a8e7436f905acd64b"
            ],
            "layout": "IPY_MODEL_f32cb0d0b1f5477dbd8406a27ae5f068"
          }
        },
        "60433fde2f504bc6919068d96ed2659f": {
          "model_module": "@jupyter-widgets/controls",
          "model_name": "HTMLModel",
          "model_module_version": "1.5.0",
          "state": {
            "_dom_classes": [],
            "_model_module": "@jupyter-widgets/controls",
            "_model_module_version": "1.5.0",
            "_model_name": "HTMLModel",
            "_view_count": null,
            "_view_module": "@jupyter-widgets/controls",
            "_view_module_version": "1.5.0",
            "_view_name": "HTMLView",
            "description": "",
            "description_tooltip": null,
            "layout": "IPY_MODEL_a367fcad9842423ca68f945a29c8e8fa",
            "placeholder": "​",
            "style": "IPY_MODEL_ac6c1596dd3e42bca408f0c42c57adde",
            "value": "README.md: 100%"
          }
        },
        "fad98754faec4e408909b5c32d4274d9": {
          "model_module": "@jupyter-widgets/controls",
          "model_name": "FloatProgressModel",
          "model_module_version": "1.5.0",
          "state": {
            "_dom_classes": [],
            "_model_module": "@jupyter-widgets/controls",
            "_model_module_version": "1.5.0",
            "_model_name": "FloatProgressModel",
            "_view_count": null,
            "_view_module": "@jupyter-widgets/controls",
            "_view_module_version": "1.5.0",
            "_view_name": "ProgressView",
            "bar_style": "success",
            "description": "",
            "description_tooltip": null,
            "layout": "IPY_MODEL_951530001d714a57a1dad42eae12747c",
            "max": 737,
            "min": 0,
            "orientation": "horizontal",
            "style": "IPY_MODEL_f762cedaedc849acbd130214d668f888",
            "value": 737
          }
        },
        "f72b3fe7f453490a8e7436f905acd64b": {
          "model_module": "@jupyter-widgets/controls",
          "model_name": "HTMLModel",
          "model_module_version": "1.5.0",
          "state": {
            "_dom_classes": [],
            "_model_module": "@jupyter-widgets/controls",
            "_model_module_version": "1.5.0",
            "_model_name": "HTMLModel",
            "_view_count": null,
            "_view_module": "@jupyter-widgets/controls",
            "_view_module_version": "1.5.0",
            "_view_name": "HTMLView",
            "description": "",
            "description_tooltip": null,
            "layout": "IPY_MODEL_8967db9a95bf48758956139749d448fc",
            "placeholder": "​",
            "style": "IPY_MODEL_edfb2a6ef4e44a6d85e7706cc6881411",
            "value": " 737/737 [00:00&lt;00:00, 16.1kB/s]"
          }
        },
        "f32cb0d0b1f5477dbd8406a27ae5f068": {
          "model_module": "@jupyter-widgets/base",
          "model_name": "LayoutModel",
          "model_module_version": "1.2.0",
          "state": {
            "_model_module": "@jupyter-widgets/base",
            "_model_module_version": "1.2.0",
            "_model_name": "LayoutModel",
            "_view_count": null,
            "_view_module": "@jupyter-widgets/base",
            "_view_module_version": "1.2.0",
            "_view_name": "LayoutView",
            "align_content": null,
            "align_items": null,
            "align_self": null,
            "border": null,
            "bottom": null,
            "display": null,
            "flex": null,
            "flex_flow": null,
            "grid_area": null,
            "grid_auto_columns": null,
            "grid_auto_flow": null,
            "grid_auto_rows": null,
            "grid_column": null,
            "grid_gap": null,
            "grid_row": null,
            "grid_template_areas": null,
            "grid_template_columns": null,
            "grid_template_rows": null,
            "height": null,
            "justify_content": null,
            "justify_items": null,
            "left": null,
            "margin": null,
            "max_height": null,
            "max_width": null,
            "min_height": null,
            "min_width": null,
            "object_fit": null,
            "object_position": null,
            "order": null,
            "overflow": null,
            "overflow_x": null,
            "overflow_y": null,
            "padding": null,
            "right": null,
            "top": null,
            "visibility": null,
            "width": null
          }
        },
        "a367fcad9842423ca68f945a29c8e8fa": {
          "model_module": "@jupyter-widgets/base",
          "model_name": "LayoutModel",
          "model_module_version": "1.2.0",
          "state": {
            "_model_module": "@jupyter-widgets/base",
            "_model_module_version": "1.2.0",
            "_model_name": "LayoutModel",
            "_view_count": null,
            "_view_module": "@jupyter-widgets/base",
            "_view_module_version": "1.2.0",
            "_view_name": "LayoutView",
            "align_content": null,
            "align_items": null,
            "align_self": null,
            "border": null,
            "bottom": null,
            "display": null,
            "flex": null,
            "flex_flow": null,
            "grid_area": null,
            "grid_auto_columns": null,
            "grid_auto_flow": null,
            "grid_auto_rows": null,
            "grid_column": null,
            "grid_gap": null,
            "grid_row": null,
            "grid_template_areas": null,
            "grid_template_columns": null,
            "grid_template_rows": null,
            "height": null,
            "justify_content": null,
            "justify_items": null,
            "left": null,
            "margin": null,
            "max_height": null,
            "max_width": null,
            "min_height": null,
            "min_width": null,
            "object_fit": null,
            "object_position": null,
            "order": null,
            "overflow": null,
            "overflow_x": null,
            "overflow_y": null,
            "padding": null,
            "right": null,
            "top": null,
            "visibility": null,
            "width": null
          }
        },
        "ac6c1596dd3e42bca408f0c42c57adde": {
          "model_module": "@jupyter-widgets/controls",
          "model_name": "DescriptionStyleModel",
          "model_module_version": "1.5.0",
          "state": {
            "_model_module": "@jupyter-widgets/controls",
            "_model_module_version": "1.5.0",
            "_model_name": "DescriptionStyleModel",
            "_view_count": null,
            "_view_module": "@jupyter-widgets/base",
            "_view_module_version": "1.2.0",
            "_view_name": "StyleView",
            "description_width": ""
          }
        },
        "951530001d714a57a1dad42eae12747c": {
          "model_module": "@jupyter-widgets/base",
          "model_name": "LayoutModel",
          "model_module_version": "1.2.0",
          "state": {
            "_model_module": "@jupyter-widgets/base",
            "_model_module_version": "1.2.0",
            "_model_name": "LayoutModel",
            "_view_count": null,
            "_view_module": "@jupyter-widgets/base",
            "_view_module_version": "1.2.0",
            "_view_name": "LayoutView",
            "align_content": null,
            "align_items": null,
            "align_self": null,
            "border": null,
            "bottom": null,
            "display": null,
            "flex": null,
            "flex_flow": null,
            "grid_area": null,
            "grid_auto_columns": null,
            "grid_auto_flow": null,
            "grid_auto_rows": null,
            "grid_column": null,
            "grid_gap": null,
            "grid_row": null,
            "grid_template_areas": null,
            "grid_template_columns": null,
            "grid_template_rows": null,
            "height": null,
            "justify_content": null,
            "justify_items": null,
            "left": null,
            "margin": null,
            "max_height": null,
            "max_width": null,
            "min_height": null,
            "min_width": null,
            "object_fit": null,
            "object_position": null,
            "order": null,
            "overflow": null,
            "overflow_x": null,
            "overflow_y": null,
            "padding": null,
            "right": null,
            "top": null,
            "visibility": null,
            "width": null
          }
        },
        "f762cedaedc849acbd130214d668f888": {
          "model_module": "@jupyter-widgets/controls",
          "model_name": "ProgressStyleModel",
          "model_module_version": "1.5.0",
          "state": {
            "_model_module": "@jupyter-widgets/controls",
            "_model_module_version": "1.5.0",
            "_model_name": "ProgressStyleModel",
            "_view_count": null,
            "_view_module": "@jupyter-widgets/base",
            "_view_module_version": "1.2.0",
            "_view_name": "StyleView",
            "bar_color": null,
            "description_width": ""
          }
        },
        "8967db9a95bf48758956139749d448fc": {
          "model_module": "@jupyter-widgets/base",
          "model_name": "LayoutModel",
          "model_module_version": "1.2.0",
          "state": {
            "_model_module": "@jupyter-widgets/base",
            "_model_module_version": "1.2.0",
            "_model_name": "LayoutModel",
            "_view_count": null,
            "_view_module": "@jupyter-widgets/base",
            "_view_module_version": "1.2.0",
            "_view_name": "LayoutView",
            "align_content": null,
            "align_items": null,
            "align_self": null,
            "border": null,
            "bottom": null,
            "display": null,
            "flex": null,
            "flex_flow": null,
            "grid_area": null,
            "grid_auto_columns": null,
            "grid_auto_flow": null,
            "grid_auto_rows": null,
            "grid_column": null,
            "grid_gap": null,
            "grid_row": null,
            "grid_template_areas": null,
            "grid_template_columns": null,
            "grid_template_rows": null,
            "height": null,
            "justify_content": null,
            "justify_items": null,
            "left": null,
            "margin": null,
            "max_height": null,
            "max_width": null,
            "min_height": null,
            "min_width": null,
            "object_fit": null,
            "object_position": null,
            "order": null,
            "overflow": null,
            "overflow_x": null,
            "overflow_y": null,
            "padding": null,
            "right": null,
            "top": null,
            "visibility": null,
            "width": null
          }
        },
        "edfb2a6ef4e44a6d85e7706cc6881411": {
          "model_module": "@jupyter-widgets/controls",
          "model_name": "DescriptionStyleModel",
          "model_module_version": "1.5.0",
          "state": {
            "_model_module": "@jupyter-widgets/controls",
            "_model_module_version": "1.5.0",
            "_model_name": "DescriptionStyleModel",
            "_view_count": null,
            "_view_module": "@jupyter-widgets/base",
            "_view_module_version": "1.2.0",
            "_view_name": "StyleView",
            "description_width": ""
          }
        },
        "045be0aeafde44fc8e7fee3def3c089c": {
          "model_module": "@jupyter-widgets/controls",
          "model_name": "HBoxModel",
          "model_module_version": "1.5.0",
          "state": {
            "_dom_classes": [],
            "_model_module": "@jupyter-widgets/controls",
            "_model_module_version": "1.5.0",
            "_model_name": "HBoxModel",
            "_view_count": null,
            "_view_module": "@jupyter-widgets/controls",
            "_view_module_version": "1.5.0",
            "_view_name": "HBoxView",
            "box_style": "",
            "children": [
              "IPY_MODEL_917e200c49d743afa73ef8366da85113",
              "IPY_MODEL_a919c23161a3485bb5d9755d566981f5",
              "IPY_MODEL_0206fb6d07e24616b05244f93bb9c224"
            ],
            "layout": "IPY_MODEL_f4ab309ba1504a6397e084b2ddd939b3"
          }
        },
        "917e200c49d743afa73ef8366da85113": {
          "model_module": "@jupyter-widgets/controls",
          "model_name": "HTMLModel",
          "model_module_version": "1.5.0",
          "state": {
            "_dom_classes": [],
            "_model_module": "@jupyter-widgets/controls",
            "_model_module_version": "1.5.0",
            "_model_name": "HTMLModel",
            "_view_count": null,
            "_view_module": "@jupyter-widgets/controls",
            "_view_module_version": "1.5.0",
            "_view_name": "HTMLView",
            "description": "",
            "description_tooltip": null,
            "layout": "IPY_MODEL_5f196673038c4ee299cc26500fd5d7f3",
            "placeholder": "​",
            "style": "IPY_MODEL_a9867be0dc814b0eac39f6d03ed9d1b7",
            "value": "goodreads_data.csv: 100%"
          }
        },
        "a919c23161a3485bb5d9755d566981f5": {
          "model_module": "@jupyter-widgets/controls",
          "model_name": "FloatProgressModel",
          "model_module_version": "1.5.0",
          "state": {
            "_dom_classes": [],
            "_model_module": "@jupyter-widgets/controls",
            "_model_module_version": "1.5.0",
            "_model_name": "FloatProgressModel",
            "_view_count": null,
            "_view_module": "@jupyter-widgets/controls",
            "_view_module_version": "1.5.0",
            "_view_name": "ProgressView",
            "bar_style": "success",
            "description": "",
            "description_tooltip": null,
            "layout": "IPY_MODEL_eabdc646ac7144dfaedb2bc2cf2e236e",
            "max": 11748831,
            "min": 0,
            "orientation": "horizontal",
            "style": "IPY_MODEL_18c6cb4abb294d61ba51d95d2f68c401",
            "value": 11748831
          }
        },
        "0206fb6d07e24616b05244f93bb9c224": {
          "model_module": "@jupyter-widgets/controls",
          "model_name": "HTMLModel",
          "model_module_version": "1.5.0",
          "state": {
            "_dom_classes": [],
            "_model_module": "@jupyter-widgets/controls",
            "_model_module_version": "1.5.0",
            "_model_name": "HTMLModel",
            "_view_count": null,
            "_view_module": "@jupyter-widgets/controls",
            "_view_module_version": "1.5.0",
            "_view_name": "HTMLView",
            "description": "",
            "description_tooltip": null,
            "layout": "IPY_MODEL_c018bb54f6e543c58d514e6f046c784e",
            "placeholder": "​",
            "style": "IPY_MODEL_61de9c19fb3b46a9aa5501d55d3777b8",
            "value": " 11.7M/11.7M [00:00&lt;00:00, 34.7MB/s]"
          }
        },
        "f4ab309ba1504a6397e084b2ddd939b3": {
          "model_module": "@jupyter-widgets/base",
          "model_name": "LayoutModel",
          "model_module_version": "1.2.0",
          "state": {
            "_model_module": "@jupyter-widgets/base",
            "_model_module_version": "1.2.0",
            "_model_name": "LayoutModel",
            "_view_count": null,
            "_view_module": "@jupyter-widgets/base",
            "_view_module_version": "1.2.0",
            "_view_name": "LayoutView",
            "align_content": null,
            "align_items": null,
            "align_self": null,
            "border": null,
            "bottom": null,
            "display": null,
            "flex": null,
            "flex_flow": null,
            "grid_area": null,
            "grid_auto_columns": null,
            "grid_auto_flow": null,
            "grid_auto_rows": null,
            "grid_column": null,
            "grid_gap": null,
            "grid_row": null,
            "grid_template_areas": null,
            "grid_template_columns": null,
            "grid_template_rows": null,
            "height": null,
            "justify_content": null,
            "justify_items": null,
            "left": null,
            "margin": null,
            "max_height": null,
            "max_width": null,
            "min_height": null,
            "min_width": null,
            "object_fit": null,
            "object_position": null,
            "order": null,
            "overflow": null,
            "overflow_x": null,
            "overflow_y": null,
            "padding": null,
            "right": null,
            "top": null,
            "visibility": null,
            "width": null
          }
        },
        "5f196673038c4ee299cc26500fd5d7f3": {
          "model_module": "@jupyter-widgets/base",
          "model_name": "LayoutModel",
          "model_module_version": "1.2.0",
          "state": {
            "_model_module": "@jupyter-widgets/base",
            "_model_module_version": "1.2.0",
            "_model_name": "LayoutModel",
            "_view_count": null,
            "_view_module": "@jupyter-widgets/base",
            "_view_module_version": "1.2.0",
            "_view_name": "LayoutView",
            "align_content": null,
            "align_items": null,
            "align_self": null,
            "border": null,
            "bottom": null,
            "display": null,
            "flex": null,
            "flex_flow": null,
            "grid_area": null,
            "grid_auto_columns": null,
            "grid_auto_flow": null,
            "grid_auto_rows": null,
            "grid_column": null,
            "grid_gap": null,
            "grid_row": null,
            "grid_template_areas": null,
            "grid_template_columns": null,
            "grid_template_rows": null,
            "height": null,
            "justify_content": null,
            "justify_items": null,
            "left": null,
            "margin": null,
            "max_height": null,
            "max_width": null,
            "min_height": null,
            "min_width": null,
            "object_fit": null,
            "object_position": null,
            "order": null,
            "overflow": null,
            "overflow_x": null,
            "overflow_y": null,
            "padding": null,
            "right": null,
            "top": null,
            "visibility": null,
            "width": null
          }
        },
        "a9867be0dc814b0eac39f6d03ed9d1b7": {
          "model_module": "@jupyter-widgets/controls",
          "model_name": "DescriptionStyleModel",
          "model_module_version": "1.5.0",
          "state": {
            "_model_module": "@jupyter-widgets/controls",
            "_model_module_version": "1.5.0",
            "_model_name": "DescriptionStyleModel",
            "_view_count": null,
            "_view_module": "@jupyter-widgets/base",
            "_view_module_version": "1.2.0",
            "_view_name": "StyleView",
            "description_width": ""
          }
        },
        "eabdc646ac7144dfaedb2bc2cf2e236e": {
          "model_module": "@jupyter-widgets/base",
          "model_name": "LayoutModel",
          "model_module_version": "1.2.0",
          "state": {
            "_model_module": "@jupyter-widgets/base",
            "_model_module_version": "1.2.0",
            "_model_name": "LayoutModel",
            "_view_count": null,
            "_view_module": "@jupyter-widgets/base",
            "_view_module_version": "1.2.0",
            "_view_name": "LayoutView",
            "align_content": null,
            "align_items": null,
            "align_self": null,
            "border": null,
            "bottom": null,
            "display": null,
            "flex": null,
            "flex_flow": null,
            "grid_area": null,
            "grid_auto_columns": null,
            "grid_auto_flow": null,
            "grid_auto_rows": null,
            "grid_column": null,
            "grid_gap": null,
            "grid_row": null,
            "grid_template_areas": null,
            "grid_template_columns": null,
            "grid_template_rows": null,
            "height": null,
            "justify_content": null,
            "justify_items": null,
            "left": null,
            "margin": null,
            "max_height": null,
            "max_width": null,
            "min_height": null,
            "min_width": null,
            "object_fit": null,
            "object_position": null,
            "order": null,
            "overflow": null,
            "overflow_x": null,
            "overflow_y": null,
            "padding": null,
            "right": null,
            "top": null,
            "visibility": null,
            "width": null
          }
        },
        "18c6cb4abb294d61ba51d95d2f68c401": {
          "model_module": "@jupyter-widgets/controls",
          "model_name": "ProgressStyleModel",
          "model_module_version": "1.5.0",
          "state": {
            "_model_module": "@jupyter-widgets/controls",
            "_model_module_version": "1.5.0",
            "_model_name": "ProgressStyleModel",
            "_view_count": null,
            "_view_module": "@jupyter-widgets/base",
            "_view_module_version": "1.2.0",
            "_view_name": "StyleView",
            "bar_color": null,
            "description_width": ""
          }
        },
        "c018bb54f6e543c58d514e6f046c784e": {
          "model_module": "@jupyter-widgets/base",
          "model_name": "LayoutModel",
          "model_module_version": "1.2.0",
          "state": {
            "_model_module": "@jupyter-widgets/base",
            "_model_module_version": "1.2.0",
            "_model_name": "LayoutModel",
            "_view_count": null,
            "_view_module": "@jupyter-widgets/base",
            "_view_module_version": "1.2.0",
            "_view_name": "LayoutView",
            "align_content": null,
            "align_items": null,
            "align_self": null,
            "border": null,
            "bottom": null,
            "display": null,
            "flex": null,
            "flex_flow": null,
            "grid_area": null,
            "grid_auto_columns": null,
            "grid_auto_flow": null,
            "grid_auto_rows": null,
            "grid_column": null,
            "grid_gap": null,
            "grid_row": null,
            "grid_template_areas": null,
            "grid_template_columns": null,
            "grid_template_rows": null,
            "height": null,
            "justify_content": null,
            "justify_items": null,
            "left": null,
            "margin": null,
            "max_height": null,
            "max_width": null,
            "min_height": null,
            "min_width": null,
            "object_fit": null,
            "object_position": null,
            "order": null,
            "overflow": null,
            "overflow_x": null,
            "overflow_y": null,
            "padding": null,
            "right": null,
            "top": null,
            "visibility": null,
            "width": null
          }
        },
        "61de9c19fb3b46a9aa5501d55d3777b8": {
          "model_module": "@jupyter-widgets/controls",
          "model_name": "DescriptionStyleModel",
          "model_module_version": "1.5.0",
          "state": {
            "_model_module": "@jupyter-widgets/controls",
            "_model_module_version": "1.5.0",
            "_model_name": "DescriptionStyleModel",
            "_view_count": null,
            "_view_module": "@jupyter-widgets/base",
            "_view_module_version": "1.2.0",
            "_view_name": "StyleView",
            "description_width": ""
          }
        },
        "c8f1c2864a254ead984c6c5143470ea3": {
          "model_module": "@jupyter-widgets/controls",
          "model_name": "HBoxModel",
          "model_module_version": "1.5.0",
          "state": {
            "_dom_classes": [],
            "_model_module": "@jupyter-widgets/controls",
            "_model_module_version": "1.5.0",
            "_model_name": "HBoxModel",
            "_view_count": null,
            "_view_module": "@jupyter-widgets/controls",
            "_view_module_version": "1.5.0",
            "_view_name": "HBoxView",
            "box_style": "",
            "children": [
              "IPY_MODEL_e157fb5ca3e34c04894bcc89692e4ea7",
              "IPY_MODEL_43f52c9f803b49c18748b8bfe111499d",
              "IPY_MODEL_f2e594a16a394094b0442056b667856a"
            ],
            "layout": "IPY_MODEL_5eb749ab93144b96b466f3d125ba353b"
          }
        },
        "e157fb5ca3e34c04894bcc89692e4ea7": {
          "model_module": "@jupyter-widgets/controls",
          "model_name": "HTMLModel",
          "model_module_version": "1.5.0",
          "state": {
            "_dom_classes": [],
            "_model_module": "@jupyter-widgets/controls",
            "_model_module_version": "1.5.0",
            "_model_name": "HTMLModel",
            "_view_count": null,
            "_view_module": "@jupyter-widgets/controls",
            "_view_module_version": "1.5.0",
            "_view_name": "HTMLView",
            "description": "",
            "description_tooltip": null,
            "layout": "IPY_MODEL_da87764b70b24ebd9048ca229d203597",
            "placeholder": "​",
            "style": "IPY_MODEL_eca0034966a844d994cce3461c3596ba",
            "value": "Generating train split: 100%"
          }
        },
        "43f52c9f803b49c18748b8bfe111499d": {
          "model_module": "@jupyter-widgets/controls",
          "model_name": "FloatProgressModel",
          "model_module_version": "1.5.0",
          "state": {
            "_dom_classes": [],
            "_model_module": "@jupyter-widgets/controls",
            "_model_module_version": "1.5.0",
            "_model_name": "FloatProgressModel",
            "_view_count": null,
            "_view_module": "@jupyter-widgets/controls",
            "_view_module_version": "1.5.0",
            "_view_name": "ProgressView",
            "bar_style": "success",
            "description": "",
            "description_tooltip": null,
            "layout": "IPY_MODEL_a4ed0b066e654a38bdff279edab35edb",
            "max": 10000,
            "min": 0,
            "orientation": "horizontal",
            "style": "IPY_MODEL_a099f4b0deae4aa8af08a791f99642ff",
            "value": 10000
          }
        },
        "f2e594a16a394094b0442056b667856a": {
          "model_module": "@jupyter-widgets/controls",
          "model_name": "HTMLModel",
          "model_module_version": "1.5.0",
          "state": {
            "_dom_classes": [],
            "_model_module": "@jupyter-widgets/controls",
            "_model_module_version": "1.5.0",
            "_model_name": "HTMLModel",
            "_view_count": null,
            "_view_module": "@jupyter-widgets/controls",
            "_view_module_version": "1.5.0",
            "_view_name": "HTMLView",
            "description": "",
            "description_tooltip": null,
            "layout": "IPY_MODEL_2383d9d8fdf8428ebda8555fdc47a6e1",
            "placeholder": "​",
            "style": "IPY_MODEL_a892912855814963b55ba776a9498e2a",
            "value": " 10000/10000 [00:00&lt;00:00, 18825.47 examples/s]"
          }
        },
        "5eb749ab93144b96b466f3d125ba353b": {
          "model_module": "@jupyter-widgets/base",
          "model_name": "LayoutModel",
          "model_module_version": "1.2.0",
          "state": {
            "_model_module": "@jupyter-widgets/base",
            "_model_module_version": "1.2.0",
            "_model_name": "LayoutModel",
            "_view_count": null,
            "_view_module": "@jupyter-widgets/base",
            "_view_module_version": "1.2.0",
            "_view_name": "LayoutView",
            "align_content": null,
            "align_items": null,
            "align_self": null,
            "border": null,
            "bottom": null,
            "display": null,
            "flex": null,
            "flex_flow": null,
            "grid_area": null,
            "grid_auto_columns": null,
            "grid_auto_flow": null,
            "grid_auto_rows": null,
            "grid_column": null,
            "grid_gap": null,
            "grid_row": null,
            "grid_template_areas": null,
            "grid_template_columns": null,
            "grid_template_rows": null,
            "height": null,
            "justify_content": null,
            "justify_items": null,
            "left": null,
            "margin": null,
            "max_height": null,
            "max_width": null,
            "min_height": null,
            "min_width": null,
            "object_fit": null,
            "object_position": null,
            "order": null,
            "overflow": null,
            "overflow_x": null,
            "overflow_y": null,
            "padding": null,
            "right": null,
            "top": null,
            "visibility": null,
            "width": null
          }
        },
        "da87764b70b24ebd9048ca229d203597": {
          "model_module": "@jupyter-widgets/base",
          "model_name": "LayoutModel",
          "model_module_version": "1.2.0",
          "state": {
            "_model_module": "@jupyter-widgets/base",
            "_model_module_version": "1.2.0",
            "_model_name": "LayoutModel",
            "_view_count": null,
            "_view_module": "@jupyter-widgets/base",
            "_view_module_version": "1.2.0",
            "_view_name": "LayoutView",
            "align_content": null,
            "align_items": null,
            "align_self": null,
            "border": null,
            "bottom": null,
            "display": null,
            "flex": null,
            "flex_flow": null,
            "grid_area": null,
            "grid_auto_columns": null,
            "grid_auto_flow": null,
            "grid_auto_rows": null,
            "grid_column": null,
            "grid_gap": null,
            "grid_row": null,
            "grid_template_areas": null,
            "grid_template_columns": null,
            "grid_template_rows": null,
            "height": null,
            "justify_content": null,
            "justify_items": null,
            "left": null,
            "margin": null,
            "max_height": null,
            "max_width": null,
            "min_height": null,
            "min_width": null,
            "object_fit": null,
            "object_position": null,
            "order": null,
            "overflow": null,
            "overflow_x": null,
            "overflow_y": null,
            "padding": null,
            "right": null,
            "top": null,
            "visibility": null,
            "width": null
          }
        },
        "eca0034966a844d994cce3461c3596ba": {
          "model_module": "@jupyter-widgets/controls",
          "model_name": "DescriptionStyleModel",
          "model_module_version": "1.5.0",
          "state": {
            "_model_module": "@jupyter-widgets/controls",
            "_model_module_version": "1.5.0",
            "_model_name": "DescriptionStyleModel",
            "_view_count": null,
            "_view_module": "@jupyter-widgets/base",
            "_view_module_version": "1.2.0",
            "_view_name": "StyleView",
            "description_width": ""
          }
        },
        "a4ed0b066e654a38bdff279edab35edb": {
          "model_module": "@jupyter-widgets/base",
          "model_name": "LayoutModel",
          "model_module_version": "1.2.0",
          "state": {
            "_model_module": "@jupyter-widgets/base",
            "_model_module_version": "1.2.0",
            "_model_name": "LayoutModel",
            "_view_count": null,
            "_view_module": "@jupyter-widgets/base",
            "_view_module_version": "1.2.0",
            "_view_name": "LayoutView",
            "align_content": null,
            "align_items": null,
            "align_self": null,
            "border": null,
            "bottom": null,
            "display": null,
            "flex": null,
            "flex_flow": null,
            "grid_area": null,
            "grid_auto_columns": null,
            "grid_auto_flow": null,
            "grid_auto_rows": null,
            "grid_column": null,
            "grid_gap": null,
            "grid_row": null,
            "grid_template_areas": null,
            "grid_template_columns": null,
            "grid_template_rows": null,
            "height": null,
            "justify_content": null,
            "justify_items": null,
            "left": null,
            "margin": null,
            "max_height": null,
            "max_width": null,
            "min_height": null,
            "min_width": null,
            "object_fit": null,
            "object_position": null,
            "order": null,
            "overflow": null,
            "overflow_x": null,
            "overflow_y": null,
            "padding": null,
            "right": null,
            "top": null,
            "visibility": null,
            "width": null
          }
        },
        "a099f4b0deae4aa8af08a791f99642ff": {
          "model_module": "@jupyter-widgets/controls",
          "model_name": "ProgressStyleModel",
          "model_module_version": "1.5.0",
          "state": {
            "_model_module": "@jupyter-widgets/controls",
            "_model_module_version": "1.5.0",
            "_model_name": "ProgressStyleModel",
            "_view_count": null,
            "_view_module": "@jupyter-widgets/base",
            "_view_module_version": "1.2.0",
            "_view_name": "StyleView",
            "bar_color": null,
            "description_width": ""
          }
        },
        "2383d9d8fdf8428ebda8555fdc47a6e1": {
          "model_module": "@jupyter-widgets/base",
          "model_name": "LayoutModel",
          "model_module_version": "1.2.0",
          "state": {
            "_model_module": "@jupyter-widgets/base",
            "_model_module_version": "1.2.0",
            "_model_name": "LayoutModel",
            "_view_count": null,
            "_view_module": "@jupyter-widgets/base",
            "_view_module_version": "1.2.0",
            "_view_name": "LayoutView",
            "align_content": null,
            "align_items": null,
            "align_self": null,
            "border": null,
            "bottom": null,
            "display": null,
            "flex": null,
            "flex_flow": null,
            "grid_area": null,
            "grid_auto_columns": null,
            "grid_auto_flow": null,
            "grid_auto_rows": null,
            "grid_column": null,
            "grid_gap": null,
            "grid_row": null,
            "grid_template_areas": null,
            "grid_template_columns": null,
            "grid_template_rows": null,
            "height": null,
            "justify_content": null,
            "justify_items": null,
            "left": null,
            "margin": null,
            "max_height": null,
            "max_width": null,
            "min_height": null,
            "min_width": null,
            "object_fit": null,
            "object_position": null,
            "order": null,
            "overflow": null,
            "overflow_x": null,
            "overflow_y": null,
            "padding": null,
            "right": null,
            "top": null,
            "visibility": null,
            "width": null
          }
        },
        "a892912855814963b55ba776a9498e2a": {
          "model_module": "@jupyter-widgets/controls",
          "model_name": "DescriptionStyleModel",
          "model_module_version": "1.5.0",
          "state": {
            "_model_module": "@jupyter-widgets/controls",
            "_model_module_version": "1.5.0",
            "_model_name": "DescriptionStyleModel",
            "_view_count": null,
            "_view_module": "@jupyter-widgets/base",
            "_view_module_version": "1.2.0",
            "_view_name": "StyleView",
            "description_width": ""
          }
        },
        "12feec7ff1824532a12abaae559371a3": {
          "model_module": "@jupyter-widgets/controls",
          "model_name": "VBoxModel",
          "model_module_version": "1.5.0",
          "state": {
            "_dom_classes": [],
            "_model_module": "@jupyter-widgets/controls",
            "_model_module_version": "1.5.0",
            "_model_name": "VBoxModel",
            "_view_count": null,
            "_view_module": "@jupyter-widgets/controls",
            "_view_module_version": "1.5.0",
            "_view_name": "VBoxView",
            "box_style": "",
            "children": [
              "IPY_MODEL_e88eaff76baf400ea942c273decf7eb2",
              "IPY_MODEL_10a4c5c3907146ffbe84fdbde76fc727"
            ],
            "layout": "IPY_MODEL_24e8fa91736e4baa83e1bad1990d6092"
          }
        },
        "e88eaff76baf400ea942c273decf7eb2": {
          "model_module": "@jupyter-widgets/controls",
          "model_name": "LabelModel",
          "model_module_version": "1.5.0",
          "state": {
            "_dom_classes": [],
            "_model_module": "@jupyter-widgets/controls",
            "_model_module_version": "1.5.0",
            "_model_name": "LabelModel",
            "_view_count": null,
            "_view_module": "@jupyter-widgets/controls",
            "_view_module_version": "1.5.0",
            "_view_name": "LabelView",
            "description": "",
            "description_tooltip": null,
            "layout": "IPY_MODEL_e525effe0b1f43dfb1e6112095a900cc",
            "placeholder": "​",
            "style": "IPY_MODEL_d014e149b8b34d278eae24030dd61e95",
            "value": "Waiting for wandb.init()...\r"
          }
        },
        "10a4c5c3907146ffbe84fdbde76fc727": {
          "model_module": "@jupyter-widgets/controls",
          "model_name": "FloatProgressModel",
          "model_module_version": "1.5.0",
          "state": {
            "_dom_classes": [],
            "_model_module": "@jupyter-widgets/controls",
            "_model_module_version": "1.5.0",
            "_model_name": "FloatProgressModel",
            "_view_count": null,
            "_view_module": "@jupyter-widgets/controls",
            "_view_module_version": "1.5.0",
            "_view_name": "ProgressView",
            "bar_style": "",
            "description": "",
            "description_tooltip": null,
            "layout": "IPY_MODEL_75fd8fde301b4e6290cf8c75f699d35c",
            "max": 1,
            "min": 0,
            "orientation": "horizontal",
            "style": "IPY_MODEL_5675a5eee68e4f708a3e0e1454c291b6",
            "value": 0.9974205924366683
          }
        },
        "24e8fa91736e4baa83e1bad1990d6092": {
          "model_module": "@jupyter-widgets/base",
          "model_name": "LayoutModel",
          "model_module_version": "1.2.0",
          "state": {
            "_model_module": "@jupyter-widgets/base",
            "_model_module_version": "1.2.0",
            "_model_name": "LayoutModel",
            "_view_count": null,
            "_view_module": "@jupyter-widgets/base",
            "_view_module_version": "1.2.0",
            "_view_name": "LayoutView",
            "align_content": null,
            "align_items": null,
            "align_self": null,
            "border": null,
            "bottom": null,
            "display": null,
            "flex": null,
            "flex_flow": null,
            "grid_area": null,
            "grid_auto_columns": null,
            "grid_auto_flow": null,
            "grid_auto_rows": null,
            "grid_column": null,
            "grid_gap": null,
            "grid_row": null,
            "grid_template_areas": null,
            "grid_template_columns": null,
            "grid_template_rows": null,
            "height": null,
            "justify_content": null,
            "justify_items": null,
            "left": null,
            "margin": null,
            "max_height": null,
            "max_width": null,
            "min_height": null,
            "min_width": null,
            "object_fit": null,
            "object_position": null,
            "order": null,
            "overflow": null,
            "overflow_x": null,
            "overflow_y": null,
            "padding": null,
            "right": null,
            "top": null,
            "visibility": null,
            "width": null
          }
        },
        "e525effe0b1f43dfb1e6112095a900cc": {
          "model_module": "@jupyter-widgets/base",
          "model_name": "LayoutModel",
          "model_module_version": "1.2.0",
          "state": {
            "_model_module": "@jupyter-widgets/base",
            "_model_module_version": "1.2.0",
            "_model_name": "LayoutModel",
            "_view_count": null,
            "_view_module": "@jupyter-widgets/base",
            "_view_module_version": "1.2.0",
            "_view_name": "LayoutView",
            "align_content": null,
            "align_items": null,
            "align_self": null,
            "border": null,
            "bottom": null,
            "display": null,
            "flex": null,
            "flex_flow": null,
            "grid_area": null,
            "grid_auto_columns": null,
            "grid_auto_flow": null,
            "grid_auto_rows": null,
            "grid_column": null,
            "grid_gap": null,
            "grid_row": null,
            "grid_template_areas": null,
            "grid_template_columns": null,
            "grid_template_rows": null,
            "height": null,
            "justify_content": null,
            "justify_items": null,
            "left": null,
            "margin": null,
            "max_height": null,
            "max_width": null,
            "min_height": null,
            "min_width": null,
            "object_fit": null,
            "object_position": null,
            "order": null,
            "overflow": null,
            "overflow_x": null,
            "overflow_y": null,
            "padding": null,
            "right": null,
            "top": null,
            "visibility": null,
            "width": null
          }
        },
        "d014e149b8b34d278eae24030dd61e95": {
          "model_module": "@jupyter-widgets/controls",
          "model_name": "DescriptionStyleModel",
          "model_module_version": "1.5.0",
          "state": {
            "_model_module": "@jupyter-widgets/controls",
            "_model_module_version": "1.5.0",
            "_model_name": "DescriptionStyleModel",
            "_view_count": null,
            "_view_module": "@jupyter-widgets/base",
            "_view_module_version": "1.2.0",
            "_view_name": "StyleView",
            "description_width": ""
          }
        },
        "75fd8fde301b4e6290cf8c75f699d35c": {
          "model_module": "@jupyter-widgets/base",
          "model_name": "LayoutModel",
          "model_module_version": "1.2.0",
          "state": {
            "_model_module": "@jupyter-widgets/base",
            "_model_module_version": "1.2.0",
            "_model_name": "LayoutModel",
            "_view_count": null,
            "_view_module": "@jupyter-widgets/base",
            "_view_module_version": "1.2.0",
            "_view_name": "LayoutView",
            "align_content": null,
            "align_items": null,
            "align_self": null,
            "border": null,
            "bottom": null,
            "display": null,
            "flex": null,
            "flex_flow": null,
            "grid_area": null,
            "grid_auto_columns": null,
            "grid_auto_flow": null,
            "grid_auto_rows": null,
            "grid_column": null,
            "grid_gap": null,
            "grid_row": null,
            "grid_template_areas": null,
            "grid_template_columns": null,
            "grid_template_rows": null,
            "height": null,
            "justify_content": null,
            "justify_items": null,
            "left": null,
            "margin": null,
            "max_height": null,
            "max_width": null,
            "min_height": null,
            "min_width": null,
            "object_fit": null,
            "object_position": null,
            "order": null,
            "overflow": null,
            "overflow_x": null,
            "overflow_y": null,
            "padding": null,
            "right": null,
            "top": null,
            "visibility": null,
            "width": null
          }
        },
        "5675a5eee68e4f708a3e0e1454c291b6": {
          "model_module": "@jupyter-widgets/controls",
          "model_name": "ProgressStyleModel",
          "model_module_version": "1.5.0",
          "state": {
            "_model_module": "@jupyter-widgets/controls",
            "_model_module_version": "1.5.0",
            "_model_name": "ProgressStyleModel",
            "_view_count": null,
            "_view_module": "@jupyter-widgets/base",
            "_view_module_version": "1.2.0",
            "_view_name": "StyleView",
            "bar_color": null,
            "description_width": ""
          }
        }
      }
    }
  },
  "cells": [
    {
      "cell_type": "markdown",
      "metadata": {
        "id": "view-in-github",
        "colab_type": "text"
      },
      "source": [
        "<a href=\"https://colab.research.google.com/github/Pearlkakande/machinelearning/blob/main/models/models101.ipynb\" target=\"_parent\"><img src=\"https://colab.research.google.com/assets/colab-badge.svg\" alt=\"Open In Colab\"/></a>"
      ]
    },
    {
      "cell_type": "markdown",
      "source": [
        "\n",
        "MODEL TRAINING FOR GRAPH-BASED KNOWLEDGE DISTILLATION AND FEATURE LEARNING FOR BOOK RECOMMENDATIONS\n",
        "\n",
        "Ten models are to be trained with model evaluation being handled by wandb\n",
        "\n",
        "dataset= Eitanli/goodreads for the hugging face dataset library\n",
        "\n",
        "SET UP\n",
        "\n",
        "packages, dataset, wandb"
      ],
      "metadata": {
        "id": "DJYQgjLTLE3l"
      }
    },
    {
      "cell_type": "code",
      "execution_count": 2,
      "metadata": {
        "colab": {
          "base_uri": "https://localhost:8080/"
        },
        "id": "99LipbECK65-",
        "outputId": "795ce734-97e8-447d-e855-3fb9639f7852"
      },
      "outputs": [
        {
          "output_type": "stream",
          "name": "stdout",
          "text": [
            "Collecting datasets\n",
            "  Downloading datasets-3.3.2-py3-none-any.whl.metadata (19 kB)\n",
            "Requirement already satisfied: torch in /usr/local/lib/python3.11/dist-packages (2.5.1+cu124)\n",
            "Requirement already satisfied: wandb in /usr/local/lib/python3.11/dist-packages (0.19.6)\n",
            "Requirement already satisfied: sentence-transformers in /usr/local/lib/python3.11/dist-packages (3.4.1)\n",
            "Requirement already satisfied: scikit-learn in /usr/local/lib/python3.11/dist-packages (1.6.1)\n",
            "Requirement already satisfied: filelock in /usr/local/lib/python3.11/dist-packages (from datasets) (3.17.0)\n",
            "Requirement already satisfied: numpy>=1.17 in /usr/local/lib/python3.11/dist-packages (from datasets) (1.26.4)\n",
            "Requirement already satisfied: pyarrow>=15.0.0 in /usr/local/lib/python3.11/dist-packages (from datasets) (17.0.0)\n",
            "Collecting dill<0.3.9,>=0.3.0 (from datasets)\n",
            "  Downloading dill-0.3.8-py3-none-any.whl.metadata (10 kB)\n",
            "Requirement already satisfied: pandas in /usr/local/lib/python3.11/dist-packages (from datasets) (2.2.2)\n",
            "Requirement already satisfied: requests>=2.32.2 in /usr/local/lib/python3.11/dist-packages (from datasets) (2.32.3)\n",
            "Requirement already satisfied: tqdm>=4.66.3 in /usr/local/lib/python3.11/dist-packages (from datasets) (4.67.1)\n",
            "Collecting xxhash (from datasets)\n",
            "  Downloading xxhash-3.5.0-cp311-cp311-manylinux_2_17_x86_64.manylinux2014_x86_64.whl.metadata (12 kB)\n",
            "Collecting multiprocess<0.70.17 (from datasets)\n",
            "  Downloading multiprocess-0.70.16-py311-none-any.whl.metadata (7.2 kB)\n",
            "Requirement already satisfied: fsspec<=2024.12.0,>=2023.1.0 in /usr/local/lib/python3.11/dist-packages (from fsspec[http]<=2024.12.0,>=2023.1.0->datasets) (2024.10.0)\n",
            "Requirement already satisfied: aiohttp in /usr/local/lib/python3.11/dist-packages (from datasets) (3.11.12)\n",
            "Requirement already satisfied: huggingface-hub>=0.24.0 in /usr/local/lib/python3.11/dist-packages (from datasets) (0.28.1)\n",
            "Requirement already satisfied: packaging in /usr/local/lib/python3.11/dist-packages (from datasets) (24.2)\n",
            "Requirement already satisfied: pyyaml>=5.1 in /usr/local/lib/python3.11/dist-packages (from datasets) (6.0.2)\n",
            "Requirement already satisfied: typing-extensions>=4.8.0 in /usr/local/lib/python3.11/dist-packages (from torch) (4.12.2)\n",
            "Requirement already satisfied: networkx in /usr/local/lib/python3.11/dist-packages (from torch) (3.4.2)\n",
            "Requirement already satisfied: jinja2 in /usr/local/lib/python3.11/dist-packages (from torch) (3.1.5)\n",
            "Collecting nvidia-cuda-nvrtc-cu12==12.4.127 (from torch)\n",
            "  Downloading nvidia_cuda_nvrtc_cu12-12.4.127-py3-none-manylinux2014_x86_64.whl.metadata (1.5 kB)\n",
            "Collecting nvidia-cuda-runtime-cu12==12.4.127 (from torch)\n",
            "  Downloading nvidia_cuda_runtime_cu12-12.4.127-py3-none-manylinux2014_x86_64.whl.metadata (1.5 kB)\n",
            "Collecting nvidia-cuda-cupti-cu12==12.4.127 (from torch)\n",
            "  Downloading nvidia_cuda_cupti_cu12-12.4.127-py3-none-manylinux2014_x86_64.whl.metadata (1.6 kB)\n",
            "Collecting nvidia-cudnn-cu12==9.1.0.70 (from torch)\n",
            "  Downloading nvidia_cudnn_cu12-9.1.0.70-py3-none-manylinux2014_x86_64.whl.metadata (1.6 kB)\n",
            "Collecting nvidia-cublas-cu12==12.4.5.8 (from torch)\n",
            "  Downloading nvidia_cublas_cu12-12.4.5.8-py3-none-manylinux2014_x86_64.whl.metadata (1.5 kB)\n",
            "Collecting nvidia-cufft-cu12==11.2.1.3 (from torch)\n",
            "  Downloading nvidia_cufft_cu12-11.2.1.3-py3-none-manylinux2014_x86_64.whl.metadata (1.5 kB)\n",
            "Collecting nvidia-curand-cu12==10.3.5.147 (from torch)\n",
            "  Downloading nvidia_curand_cu12-10.3.5.147-py3-none-manylinux2014_x86_64.whl.metadata (1.5 kB)\n",
            "Collecting nvidia-cusolver-cu12==11.6.1.9 (from torch)\n",
            "  Downloading nvidia_cusolver_cu12-11.6.1.9-py3-none-manylinux2014_x86_64.whl.metadata (1.6 kB)\n",
            "Collecting nvidia-cusparse-cu12==12.3.1.170 (from torch)\n",
            "  Downloading nvidia_cusparse_cu12-12.3.1.170-py3-none-manylinux2014_x86_64.whl.metadata (1.6 kB)\n",
            "Requirement already satisfied: nvidia-nccl-cu12==2.21.5 in /usr/local/lib/python3.11/dist-packages (from torch) (2.21.5)\n",
            "Requirement already satisfied: nvidia-nvtx-cu12==12.4.127 in /usr/local/lib/python3.11/dist-packages (from torch) (12.4.127)\n",
            "Collecting nvidia-nvjitlink-cu12==12.4.127 (from torch)\n",
            "  Downloading nvidia_nvjitlink_cu12-12.4.127-py3-none-manylinux2014_x86_64.whl.metadata (1.5 kB)\n",
            "Requirement already satisfied: triton==3.1.0 in /usr/local/lib/python3.11/dist-packages (from torch) (3.1.0)\n",
            "Requirement already satisfied: sympy==1.13.1 in /usr/local/lib/python3.11/dist-packages (from torch) (1.13.1)\n",
            "Requirement already satisfied: mpmath<1.4,>=1.1.0 in /usr/local/lib/python3.11/dist-packages (from sympy==1.13.1->torch) (1.3.0)\n",
            "Requirement already satisfied: click!=8.0.0,>=7.1 in /usr/local/lib/python3.11/dist-packages (from wandb) (8.1.8)\n",
            "Requirement already satisfied: docker-pycreds>=0.4.0 in /usr/local/lib/python3.11/dist-packages (from wandb) (0.4.0)\n",
            "Requirement already satisfied: gitpython!=3.1.29,>=1.0.0 in /usr/local/lib/python3.11/dist-packages (from wandb) (3.1.44)\n",
            "Requirement already satisfied: platformdirs in /usr/local/lib/python3.11/dist-packages (from wandb) (4.3.6)\n",
            "Requirement already satisfied: protobuf!=4.21.0,!=5.28.0,<6,>=3.19.0 in /usr/local/lib/python3.11/dist-packages (from wandb) (4.25.6)\n",
            "Requirement already satisfied: psutil>=5.0.0 in /usr/local/lib/python3.11/dist-packages (from wandb) (5.9.5)\n",
            "Requirement already satisfied: pydantic<3,>=2.6 in /usr/local/lib/python3.11/dist-packages (from wandb) (2.10.6)\n",
            "Requirement already satisfied: sentry-sdk>=2.0.0 in /usr/local/lib/python3.11/dist-packages (from wandb) (2.22.0)\n",
            "Requirement already satisfied: setproctitle in /usr/local/lib/python3.11/dist-packages (from wandb) (1.3.4)\n",
            "Requirement already satisfied: setuptools in /usr/local/lib/python3.11/dist-packages (from wandb) (75.1.0)\n",
            "Requirement already satisfied: transformers<5.0.0,>=4.41.0 in /usr/local/lib/python3.11/dist-packages (from sentence-transformers) (4.48.3)\n",
            "Requirement already satisfied: scipy in /usr/local/lib/python3.11/dist-packages (from sentence-transformers) (1.13.1)\n",
            "Requirement already satisfied: Pillow in /usr/local/lib/python3.11/dist-packages (from sentence-transformers) (11.1.0)\n",
            "Requirement already satisfied: joblib>=1.2.0 in /usr/local/lib/python3.11/dist-packages (from scikit-learn) (1.4.2)\n",
            "Requirement already satisfied: threadpoolctl>=3.1.0 in /usr/local/lib/python3.11/dist-packages (from scikit-learn) (3.5.0)\n",
            "Requirement already satisfied: six>=1.4.0 in /usr/local/lib/python3.11/dist-packages (from docker-pycreds>=0.4.0->wandb) (1.17.0)\n",
            "Requirement already satisfied: aiohappyeyeballs>=2.3.0 in /usr/local/lib/python3.11/dist-packages (from aiohttp->datasets) (2.4.6)\n",
            "Requirement already satisfied: aiosignal>=1.1.2 in /usr/local/lib/python3.11/dist-packages (from aiohttp->datasets) (1.3.2)\n",
            "Requirement already satisfied: attrs>=17.3.0 in /usr/local/lib/python3.11/dist-packages (from aiohttp->datasets) (25.1.0)\n",
            "Requirement already satisfied: frozenlist>=1.1.1 in /usr/local/lib/python3.11/dist-packages (from aiohttp->datasets) (1.5.0)\n",
            "Requirement already satisfied: multidict<7.0,>=4.5 in /usr/local/lib/python3.11/dist-packages (from aiohttp->datasets) (6.1.0)\n",
            "Requirement already satisfied: propcache>=0.2.0 in /usr/local/lib/python3.11/dist-packages (from aiohttp->datasets) (0.2.1)\n",
            "Requirement already satisfied: yarl<2.0,>=1.17.0 in /usr/local/lib/python3.11/dist-packages (from aiohttp->datasets) (1.18.3)\n",
            "Requirement already satisfied: gitdb<5,>=4.0.1 in /usr/local/lib/python3.11/dist-packages (from gitpython!=3.1.29,>=1.0.0->wandb) (4.0.12)\n",
            "Requirement already satisfied: annotated-types>=0.6.0 in /usr/local/lib/python3.11/dist-packages (from pydantic<3,>=2.6->wandb) (0.7.0)\n",
            "Requirement already satisfied: pydantic-core==2.27.2 in /usr/local/lib/python3.11/dist-packages (from pydantic<3,>=2.6->wandb) (2.27.2)\n",
            "Requirement already satisfied: charset-normalizer<4,>=2 in /usr/local/lib/python3.11/dist-packages (from requests>=2.32.2->datasets) (3.4.1)\n",
            "Requirement already satisfied: idna<4,>=2.5 in /usr/local/lib/python3.11/dist-packages (from requests>=2.32.2->datasets) (3.10)\n",
            "Requirement already satisfied: urllib3<3,>=1.21.1 in /usr/local/lib/python3.11/dist-packages (from requests>=2.32.2->datasets) (2.3.0)\n",
            "Requirement already satisfied: certifi>=2017.4.17 in /usr/local/lib/python3.11/dist-packages (from requests>=2.32.2->datasets) (2025.1.31)\n",
            "Requirement already satisfied: regex!=2019.12.17 in /usr/local/lib/python3.11/dist-packages (from transformers<5.0.0,>=4.41.0->sentence-transformers) (2024.11.6)\n",
            "Requirement already satisfied: tokenizers<0.22,>=0.21 in /usr/local/lib/python3.11/dist-packages (from transformers<5.0.0,>=4.41.0->sentence-transformers) (0.21.0)\n",
            "Requirement already satisfied: safetensors>=0.4.1 in /usr/local/lib/python3.11/dist-packages (from transformers<5.0.0,>=4.41.0->sentence-transformers) (0.5.2)\n",
            "Requirement already satisfied: MarkupSafe>=2.0 in /usr/local/lib/python3.11/dist-packages (from jinja2->torch) (3.0.2)\n",
            "Requirement already satisfied: python-dateutil>=2.8.2 in /usr/local/lib/python3.11/dist-packages (from pandas->datasets) (2.8.2)\n",
            "Requirement already satisfied: pytz>=2020.1 in /usr/local/lib/python3.11/dist-packages (from pandas->datasets) (2025.1)\n",
            "Requirement already satisfied: tzdata>=2022.7 in /usr/local/lib/python3.11/dist-packages (from pandas->datasets) (2025.1)\n",
            "Requirement already satisfied: smmap<6,>=3.0.1 in /usr/local/lib/python3.11/dist-packages (from gitdb<5,>=4.0.1->gitpython!=3.1.29,>=1.0.0->wandb) (5.0.2)\n",
            "Downloading datasets-3.3.2-py3-none-any.whl (485 kB)\n",
            "\u001b[2K   \u001b[90m━━━━━━━━━━━━━━━━━━━━━━━━━━━━━━━━━━━━━━━━\u001b[0m \u001b[32m485.4/485.4 kB\u001b[0m \u001b[31m5.7 MB/s\u001b[0m eta \u001b[36m0:00:00\u001b[0m\n",
            "\u001b[?25hDownloading nvidia_cublas_cu12-12.4.5.8-py3-none-manylinux2014_x86_64.whl (363.4 MB)\n",
            "\u001b[2K   \u001b[90m━━━━━━━━━━━━━━━━━━━━━━━━━━━━━━━━━━━━━━━━\u001b[0m \u001b[32m363.4/363.4 MB\u001b[0m \u001b[31m4.0 MB/s\u001b[0m eta \u001b[36m0:00:00\u001b[0m\n",
            "\u001b[?25hDownloading nvidia_cuda_cupti_cu12-12.4.127-py3-none-manylinux2014_x86_64.whl (13.8 MB)\n",
            "\u001b[2K   \u001b[90m━━━━━━━━━━━━━━━━━━━━━━━━━━━━━━━━━━━━━━━━\u001b[0m \u001b[32m13.8/13.8 MB\u001b[0m \u001b[31m61.5 MB/s\u001b[0m eta \u001b[36m0:00:00\u001b[0m\n",
            "\u001b[?25hDownloading nvidia_cuda_nvrtc_cu12-12.4.127-py3-none-manylinux2014_x86_64.whl (24.6 MB)\n",
            "\u001b[2K   \u001b[90m━━━━━━━━━━━━━━━━━━━━━━━━━━━━━━━━━━━━━━━━\u001b[0m \u001b[32m24.6/24.6 MB\u001b[0m \u001b[31m45.2 MB/s\u001b[0m eta \u001b[36m0:00:00\u001b[0m\n",
            "\u001b[?25hDownloading nvidia_cuda_runtime_cu12-12.4.127-py3-none-manylinux2014_x86_64.whl (883 kB)\n",
            "\u001b[2K   \u001b[90m━━━━━━━━━━━━━━━━━━━━━━━━━━━━━━━━━━━━━━━━\u001b[0m \u001b[32m883.7/883.7 kB\u001b[0m \u001b[31m26.0 MB/s\u001b[0m eta \u001b[36m0:00:00\u001b[0m\n",
            "\u001b[?25hDownloading nvidia_cudnn_cu12-9.1.0.70-py3-none-manylinux2014_x86_64.whl (664.8 MB)\n",
            "\u001b[2K   \u001b[90m━━━━━━━━━━━━━━━━━━━━━━━━━━━━━━━━━━━━━━━━\u001b[0m \u001b[32m664.8/664.8 MB\u001b[0m \u001b[31m2.5 MB/s\u001b[0m eta \u001b[36m0:00:00\u001b[0m\n",
            "\u001b[?25hDownloading nvidia_cufft_cu12-11.2.1.3-py3-none-manylinux2014_x86_64.whl (211.5 MB)\n",
            "\u001b[2K   \u001b[90m━━━━━━━━━━━━━━━━━━━━━━━━━━━━━━━━━━━━━━━━\u001b[0m \u001b[32m211.5/211.5 MB\u001b[0m \u001b[31m4.7 MB/s\u001b[0m eta \u001b[36m0:00:00\u001b[0m\n",
            "\u001b[?25hDownloading nvidia_curand_cu12-10.3.5.147-py3-none-manylinux2014_x86_64.whl (56.3 MB)\n",
            "\u001b[2K   \u001b[90m━━━━━━━━━━━━━━━━━━━━━━━━━━━━━━━━━━━━━━━━\u001b[0m \u001b[32m56.3/56.3 MB\u001b[0m \u001b[31m15.0 MB/s\u001b[0m eta \u001b[36m0:00:00\u001b[0m\n",
            "\u001b[?25hDownloading nvidia_cusolver_cu12-11.6.1.9-py3-none-manylinux2014_x86_64.whl (127.9 MB)\n",
            "\u001b[2K   \u001b[90m━━━━━━━━━━━━━━━━━━━━━━━━━━━━━━━━━━━━━━━━\u001b[0m \u001b[32m127.9/127.9 MB\u001b[0m \u001b[31m5.7 MB/s\u001b[0m eta \u001b[36m0:00:00\u001b[0m\n",
            "\u001b[?25hDownloading nvidia_cusparse_cu12-12.3.1.170-py3-none-manylinux2014_x86_64.whl (207.5 MB)\n",
            "\u001b[2K   \u001b[90m━━━━━━━━━━━━━━━━━━━━━━━━━━━━━━━━━━━━━━━━\u001b[0m \u001b[32m207.5/207.5 MB\u001b[0m \u001b[31m5.3 MB/s\u001b[0m eta \u001b[36m0:00:00\u001b[0m\n",
            "\u001b[?25hDownloading nvidia_nvjitlink_cu12-12.4.127-py3-none-manylinux2014_x86_64.whl (21.1 MB)\n",
            "\u001b[2K   \u001b[90m━━━━━━━━━━━━━━━━━━━━━━━━━━━━━━━━━━━━━━━━\u001b[0m \u001b[32m21.1/21.1 MB\u001b[0m \u001b[31m47.7 MB/s\u001b[0m eta \u001b[36m0:00:00\u001b[0m\n",
            "\u001b[?25hDownloading dill-0.3.8-py3-none-any.whl (116 kB)\n",
            "\u001b[2K   \u001b[90m━━━━━━━━━━━━━━━━━━━━━━━━━━━━━━━━━━━━━━━━\u001b[0m \u001b[32m116.3/116.3 kB\u001b[0m \u001b[31m8.3 MB/s\u001b[0m eta \u001b[36m0:00:00\u001b[0m\n",
            "\u001b[?25hDownloading multiprocess-0.70.16-py311-none-any.whl (143 kB)\n",
            "\u001b[2K   \u001b[90m━━━━━━━━━━━━━━━━━━━━━━━━━━━━━━━━━━━━━━━━\u001b[0m \u001b[32m143.5/143.5 kB\u001b[0m \u001b[31m9.9 MB/s\u001b[0m eta \u001b[36m0:00:00\u001b[0m\n",
            "\u001b[?25hDownloading xxhash-3.5.0-cp311-cp311-manylinux_2_17_x86_64.manylinux2014_x86_64.whl (194 kB)\n",
            "\u001b[2K   \u001b[90m━━━━━━━━━━━━━━━━━━━━━━━━━━━━━━━━━━━━━━━━\u001b[0m \u001b[32m194.8/194.8 kB\u001b[0m \u001b[31m12.4 MB/s\u001b[0m eta \u001b[36m0:00:00\u001b[0m\n",
            "\u001b[?25hInstalling collected packages: xxhash, nvidia-nvjitlink-cu12, nvidia-curand-cu12, nvidia-cufft-cu12, nvidia-cuda-runtime-cu12, nvidia-cuda-nvrtc-cu12, nvidia-cuda-cupti-cu12, nvidia-cublas-cu12, dill, nvidia-cusparse-cu12, nvidia-cudnn-cu12, multiprocess, nvidia-cusolver-cu12, datasets\n",
            "  Attempting uninstall: nvidia-nvjitlink-cu12\n",
            "    Found existing installation: nvidia-nvjitlink-cu12 12.5.82\n",
            "    Uninstalling nvidia-nvjitlink-cu12-12.5.82:\n",
            "      Successfully uninstalled nvidia-nvjitlink-cu12-12.5.82\n",
            "  Attempting uninstall: nvidia-curand-cu12\n",
            "    Found existing installation: nvidia-curand-cu12 10.3.6.82\n",
            "    Uninstalling nvidia-curand-cu12-10.3.6.82:\n",
            "      Successfully uninstalled nvidia-curand-cu12-10.3.6.82\n",
            "  Attempting uninstall: nvidia-cufft-cu12\n",
            "    Found existing installation: nvidia-cufft-cu12 11.2.3.61\n",
            "    Uninstalling nvidia-cufft-cu12-11.2.3.61:\n",
            "      Successfully uninstalled nvidia-cufft-cu12-11.2.3.61\n",
            "  Attempting uninstall: nvidia-cuda-runtime-cu12\n",
            "    Found existing installation: nvidia-cuda-runtime-cu12 12.5.82\n",
            "    Uninstalling nvidia-cuda-runtime-cu12-12.5.82:\n",
            "      Successfully uninstalled nvidia-cuda-runtime-cu12-12.5.82\n",
            "  Attempting uninstall: nvidia-cuda-nvrtc-cu12\n",
            "    Found existing installation: nvidia-cuda-nvrtc-cu12 12.5.82\n",
            "    Uninstalling nvidia-cuda-nvrtc-cu12-12.5.82:\n",
            "      Successfully uninstalled nvidia-cuda-nvrtc-cu12-12.5.82\n",
            "  Attempting uninstall: nvidia-cuda-cupti-cu12\n",
            "    Found existing installation: nvidia-cuda-cupti-cu12 12.5.82\n",
            "    Uninstalling nvidia-cuda-cupti-cu12-12.5.82:\n",
            "      Successfully uninstalled nvidia-cuda-cupti-cu12-12.5.82\n",
            "  Attempting uninstall: nvidia-cublas-cu12\n",
            "    Found existing installation: nvidia-cublas-cu12 12.5.3.2\n",
            "    Uninstalling nvidia-cublas-cu12-12.5.3.2:\n",
            "      Successfully uninstalled nvidia-cublas-cu12-12.5.3.2\n",
            "  Attempting uninstall: nvidia-cusparse-cu12\n",
            "    Found existing installation: nvidia-cusparse-cu12 12.5.1.3\n",
            "    Uninstalling nvidia-cusparse-cu12-12.5.1.3:\n",
            "      Successfully uninstalled nvidia-cusparse-cu12-12.5.1.3\n",
            "  Attempting uninstall: nvidia-cudnn-cu12\n",
            "    Found existing installation: nvidia-cudnn-cu12 9.3.0.75\n",
            "    Uninstalling nvidia-cudnn-cu12-9.3.0.75:\n",
            "      Successfully uninstalled nvidia-cudnn-cu12-9.3.0.75\n",
            "  Attempting uninstall: nvidia-cusolver-cu12\n",
            "    Found existing installation: nvidia-cusolver-cu12 11.6.3.83\n",
            "    Uninstalling nvidia-cusolver-cu12-11.6.3.83:\n",
            "      Successfully uninstalled nvidia-cusolver-cu12-11.6.3.83\n",
            "Successfully installed datasets-3.3.2 dill-0.3.8 multiprocess-0.70.16 nvidia-cublas-cu12-12.4.5.8 nvidia-cuda-cupti-cu12-12.4.127 nvidia-cuda-nvrtc-cu12-12.4.127 nvidia-cuda-runtime-cu12-12.4.127 nvidia-cudnn-cu12-9.1.0.70 nvidia-cufft-cu12-11.2.1.3 nvidia-curand-cu12-10.3.5.147 nvidia-cusolver-cu12-11.6.1.9 nvidia-cusparse-cu12-12.3.1.170 nvidia-nvjitlink-cu12-12.4.127 xxhash-3.5.0\n",
            "Looking in links: https://data.pyg.org/whl/torch-2.0.0+cpu.html\n",
            "Collecting torch-scatter\n",
            "  Downloading https://data.pyg.org/whl/torch-2.0.0%2Bcpu/torch_scatter-2.1.2%2Bpt20cpu-cp311-cp311-linux_x86_64.whl (494 kB)\n",
            "\u001b[2K     \u001b[90m━━━━━━━━━━━━━━━━━━━━━━━━━━━━━━━━━━━━━━━━\u001b[0m \u001b[32m494.0/494.0 kB\u001b[0m \u001b[31m23.3 MB/s\u001b[0m eta \u001b[36m0:00:00\u001b[0m\n",
            "\u001b[?25hCollecting torch-sparse\n",
            "  Downloading https://data.pyg.org/whl/torch-2.0.0%2Bcpu/torch_sparse-0.6.18%2Bpt20cpu-cp311-cp311-linux_x86_64.whl (1.2 MB)\n",
            "\u001b[2K     \u001b[90m━━━━━━━━━━━━━━━━━━━━━━━━━━━━━━━━━━━━━━━━\u001b[0m \u001b[32m1.2/1.2 MB\u001b[0m \u001b[31m44.9 MB/s\u001b[0m eta \u001b[36m0:00:00\u001b[0m\n",
            "\u001b[?25hCollecting torch-cluster\n",
            "  Downloading https://data.pyg.org/whl/torch-2.0.0%2Bcpu/torch_cluster-1.6.3%2Bpt20cpu-cp311-cp311-linux_x86_64.whl (750 kB)\n",
            "\u001b[2K     \u001b[90m━━━━━━━━━━━━━━━━━━━━━━━━━━━━━━━━━━━━━━━━\u001b[0m \u001b[32m750.9/750.9 kB\u001b[0m \u001b[31m35.0 MB/s\u001b[0m eta \u001b[36m0:00:00\u001b[0m\n",
            "\u001b[?25hCollecting torch-geometric\n",
            "  Downloading torch_geometric-2.6.1-py3-none-any.whl.metadata (63 kB)\n",
            "\u001b[2K     \u001b[90m━━━━━━━━━━━━━━━━━━━━━━━━━━━━━━━━━━━━━━━━\u001b[0m \u001b[32m63.1/63.1 kB\u001b[0m \u001b[31m4.7 MB/s\u001b[0m eta \u001b[36m0:00:00\u001b[0m\n",
            "\u001b[?25hRequirement already satisfied: scipy in /usr/local/lib/python3.11/dist-packages (from torch-sparse) (1.13.1)\n",
            "Requirement already satisfied: aiohttp in /usr/local/lib/python3.11/dist-packages (from torch-geometric) (3.11.12)\n",
            "Requirement already satisfied: fsspec in /usr/local/lib/python3.11/dist-packages (from torch-geometric) (2024.10.0)\n",
            "Requirement already satisfied: jinja2 in /usr/local/lib/python3.11/dist-packages (from torch-geometric) (3.1.5)\n",
            "Requirement already satisfied: numpy in /usr/local/lib/python3.11/dist-packages (from torch-geometric) (1.26.4)\n",
            "Requirement already satisfied: psutil>=5.8.0 in /usr/local/lib/python3.11/dist-packages (from torch-geometric) (5.9.5)\n",
            "Requirement already satisfied: pyparsing in /usr/local/lib/python3.11/dist-packages (from torch-geometric) (3.2.1)\n",
            "Requirement already satisfied: requests in /usr/local/lib/python3.11/dist-packages (from torch-geometric) (2.32.3)\n",
            "Requirement already satisfied: tqdm in /usr/local/lib/python3.11/dist-packages (from torch-geometric) (4.67.1)\n",
            "Requirement already satisfied: aiohappyeyeballs>=2.3.0 in /usr/local/lib/python3.11/dist-packages (from aiohttp->torch-geometric) (2.4.6)\n",
            "Requirement already satisfied: aiosignal>=1.1.2 in /usr/local/lib/python3.11/dist-packages (from aiohttp->torch-geometric) (1.3.2)\n",
            "Requirement already satisfied: attrs>=17.3.0 in /usr/local/lib/python3.11/dist-packages (from aiohttp->torch-geometric) (25.1.0)\n",
            "Requirement already satisfied: frozenlist>=1.1.1 in /usr/local/lib/python3.11/dist-packages (from aiohttp->torch-geometric) (1.5.0)\n",
            "Requirement already satisfied: multidict<7.0,>=4.5 in /usr/local/lib/python3.11/dist-packages (from aiohttp->torch-geometric) (6.1.0)\n",
            "Requirement already satisfied: propcache>=0.2.0 in /usr/local/lib/python3.11/dist-packages (from aiohttp->torch-geometric) (0.2.1)\n",
            "Requirement already satisfied: yarl<2.0,>=1.17.0 in /usr/local/lib/python3.11/dist-packages (from aiohttp->torch-geometric) (1.18.3)\n",
            "Requirement already satisfied: MarkupSafe>=2.0 in /usr/local/lib/python3.11/dist-packages (from jinja2->torch-geometric) (3.0.2)\n",
            "Requirement already satisfied: charset-normalizer<4,>=2 in /usr/local/lib/python3.11/dist-packages (from requests->torch-geometric) (3.4.1)\n",
            "Requirement already satisfied: idna<4,>=2.5 in /usr/local/lib/python3.11/dist-packages (from requests->torch-geometric) (3.10)\n",
            "Requirement already satisfied: urllib3<3,>=1.21.1 in /usr/local/lib/python3.11/dist-packages (from requests->torch-geometric) (2.3.0)\n",
            "Requirement already satisfied: certifi>=2017.4.17 in /usr/local/lib/python3.11/dist-packages (from requests->torch-geometric) (2025.1.31)\n",
            "Downloading torch_geometric-2.6.1-py3-none-any.whl (1.1 MB)\n",
            "\u001b[2K   \u001b[90m━━━━━━━━━━━━━━━━━━━━━━━━━━━━━━━━━━━━━━━━\u001b[0m \u001b[32m1.1/1.1 MB\u001b[0m \u001b[31m50.3 MB/s\u001b[0m eta \u001b[36m0:00:00\u001b[0m\n",
            "\u001b[?25hInstalling collected packages: torch-scatter, torch-sparse, torch-cluster, torch-geometric\n",
            "Successfully installed torch-cluster-1.6.3+pt20cpu torch-geometric-2.6.1 torch-scatter-2.1.2+pt20cpu torch-sparse-0.6.18+pt20cpu\n"
          ]
        },
        {
          "output_type": "stream",
          "name": "stderr",
          "text": [
            "/usr/local/lib/python3.11/dist-packages/torch_geometric/typing.py:86: UserWarning: An issue occurred while importing 'torch-scatter'. Disabling its usage. Stacktrace: /usr/local/lib/python3.11/dist-packages/torch_scatter/_version_cpu.so: undefined symbol: _ZN3c1017RegisterOperatorsD1Ev\n",
            "  warnings.warn(f\"An issue occurred while importing 'torch-scatter'. \"\n",
            "/usr/local/lib/python3.11/dist-packages/torch_geometric/typing.py:97: UserWarning: An issue occurred while importing 'torch-cluster'. Disabling its usage. Stacktrace: /usr/local/lib/python3.11/dist-packages/torch_cluster/_version_cpu.so: undefined symbol: _ZN3c1017RegisterOperatorsD1Ev\n",
            "  warnings.warn(f\"An issue occurred while importing 'torch-cluster'. \"\n",
            "/usr/local/lib/python3.11/dist-packages/torch_geometric/typing.py:124: UserWarning: An issue occurred while importing 'torch-sparse'. Disabling its usage. Stacktrace: /usr/local/lib/python3.11/dist-packages/torch_sparse/_version_cpu.so: undefined symbol: _ZN3c1017RegisterOperatorsD1Ev\n",
            "  warnings.warn(f\"An issue occurred while importing 'torch-sparse'. \"\n"
          ]
        }
      ],
      "source": [
        "# Install necessary packages (uncomment if needed)\n",
        "!pip install datasets torch wandb sentence-transformers scikit-learn\n",
        "!pip install torch-scatter torch-sparse torch-cluster torch-geometric -f https://data.pyg.org/whl/torch-2.0.0+cpu.html\n",
        "import torch\n",
        "import torch.nn.functional as F\n",
        "from torch_geometric.data import HeteroData, DataLoader\n",
        "from torch_geometric.nn import GCNConv, GATConv  # and other layers as needed\n",
        "from datasets import load_dataset\n",
        "from sentence_transformers import SentenceTransformer\n",
        "from sklearn.metrics import accuracy_score, precision_score, recall_score, f1_score\n",
        "import wandb\n",
        "import numpy as np\n",
        "import pandas as pd"
      ]
    },
    {
      "cell_type": "markdown",
      "source": [
        "WANDB"
      ],
      "metadata": {
        "id": "wqUMxbAwMuPa"
      }
    },
    {
      "cell_type": "code",
      "source": [
        "# (Global W&B login is fine to do once)\n",
        "wandb.login()"
      ],
      "metadata": {
        "colab": {
          "base_uri": "https://localhost:8080/"
        },
        "id": "tNCHfaKDMv9x",
        "outputId": "d45d8b6d-f7ea-482d-fe81-4e110b6ebd9f"
      },
      "execution_count": 18,
      "outputs": [
        {
          "output_type": "execute_result",
          "data": {
            "text/plain": [
              "True"
            ]
          },
          "metadata": {},
          "execution_count": 18
        }
      ]
    },
    {
      "cell_type": "markdown",
      "source": [
        "Dataset Loading"
      ],
      "metadata": {
        "id": "qdcPd3-ON1iS"
      }
    },
    {
      "cell_type": "code",
      "source": [
        "# Load the dataset from Hugging Face\n",
        "dataset = load_dataset(\"Eitanli/goodreads\")[\"train\"]  # assume 'train' split\n",
        "df = pd.DataFrame(dataset)\n",
        "print(df.columns.tolist())\n"
      ],
      "metadata": {
        "colab": {
          "base_uri": "https://localhost:8080/",
          "height": 165,
          "referenced_widgets": [
            "60e01ed37bf14115a97c14fe8a509c51",
            "60433fde2f504bc6919068d96ed2659f",
            "fad98754faec4e408909b5c32d4274d9",
            "f72b3fe7f453490a8e7436f905acd64b",
            "f32cb0d0b1f5477dbd8406a27ae5f068",
            "a367fcad9842423ca68f945a29c8e8fa",
            "ac6c1596dd3e42bca408f0c42c57adde",
            "951530001d714a57a1dad42eae12747c",
            "f762cedaedc849acbd130214d668f888",
            "8967db9a95bf48758956139749d448fc",
            "edfb2a6ef4e44a6d85e7706cc6881411",
            "045be0aeafde44fc8e7fee3def3c089c",
            "917e200c49d743afa73ef8366da85113",
            "a919c23161a3485bb5d9755d566981f5",
            "0206fb6d07e24616b05244f93bb9c224",
            "f4ab309ba1504a6397e084b2ddd939b3",
            "5f196673038c4ee299cc26500fd5d7f3",
            "a9867be0dc814b0eac39f6d03ed9d1b7",
            "eabdc646ac7144dfaedb2bc2cf2e236e",
            "18c6cb4abb294d61ba51d95d2f68c401",
            "c018bb54f6e543c58d514e6f046c784e",
            "61de9c19fb3b46a9aa5501d55d3777b8",
            "c8f1c2864a254ead984c6c5143470ea3",
            "e157fb5ca3e34c04894bcc89692e4ea7",
            "43f52c9f803b49c18748b8bfe111499d",
            "f2e594a16a394094b0442056b667856a",
            "5eb749ab93144b96b466f3d125ba353b",
            "da87764b70b24ebd9048ca229d203597",
            "eca0034966a844d994cce3461c3596ba",
            "a4ed0b066e654a38bdff279edab35edb",
            "a099f4b0deae4aa8af08a791f99642ff",
            "2383d9d8fdf8428ebda8555fdc47a6e1",
            "a892912855814963b55ba776a9498e2a"
          ]
        },
        "id": "xBkE1RjcN81e",
        "outputId": "bc9e2876-8c98-4c7d-92e8-0528c19f4e10"
      },
      "execution_count": 4,
      "outputs": [
        {
          "output_type": "display_data",
          "data": {
            "text/plain": [
              "README.md:   0%|          | 0.00/737 [00:00<?, ?B/s]"
            ],
            "application/vnd.jupyter.widget-view+json": {
              "version_major": 2,
              "version_minor": 0,
              "model_id": "60e01ed37bf14115a97c14fe8a509c51"
            }
          },
          "metadata": {}
        },
        {
          "output_type": "stream",
          "name": "stderr",
          "text": [
            "Repo card metadata block was not found. Setting CardData to empty.\n",
            "WARNING:huggingface_hub.repocard:Repo card metadata block was not found. Setting CardData to empty.\n"
          ]
        },
        {
          "output_type": "display_data",
          "data": {
            "text/plain": [
              "goodreads_data.csv:   0%|          | 0.00/11.7M [00:00<?, ?B/s]"
            ],
            "application/vnd.jupyter.widget-view+json": {
              "version_major": 2,
              "version_minor": 0,
              "model_id": "045be0aeafde44fc8e7fee3def3c089c"
            }
          },
          "metadata": {}
        },
        {
          "output_type": "display_data",
          "data": {
            "text/plain": [
              "Generating train split:   0%|          | 0/10000 [00:00<?, ? examples/s]"
            ],
            "application/vnd.jupyter.widget-view+json": {
              "version_major": 2,
              "version_minor": 0,
              "model_id": "c8f1c2864a254ead984c6c5143470ea3"
            }
          },
          "metadata": {}
        },
        {
          "output_type": "stream",
          "name": "stdout",
          "text": [
            "['Unnamed: 0', 'Book', 'Author', 'Description', 'Genres', 'Avg_Rating', 'Num_Ratings', 'URL']\n"
          ]
        }
      ]
    },
    {
      "cell_type": "markdown",
      "source": [
        "GRAPH CONSTUCTION\n",
        "\n",
        "Description embedding, spliting of dataset\n",
        "\n",
        "the book, author and genre are nodes\n",
        "\n",
        "edges show relationship and addding rating-based popularity as a node attribute or as edge weight"
      ],
      "metadata": {
        "id": "km7l4-XFQgyL"
      }
    },
    {
      "cell_type": "code",
      "source": [
        "# Use a pre-trained sentence transformer to embed the book descriptions.\n",
        "model_st = SentenceTransformer('all-MiniLM-L6-v2')\n",
        "df['desc_emb'] = df['Description'].fillna(\"\").apply(lambda x: model_st.encode(x))\n",
        "\n",
        "\n",
        "# Split into train/test (e.g., 80/20 split by index for simplicity)\n",
        "train_df = df.sample(frac=0.8, random_state=42)\n",
        "test_df = df.drop(train_df.index)\n",
        "\n",
        "# Build a simple heterogeneous graph (using PyG's HeteroData):\n",
        "def build_hetero_graph(df):\n",
        "    data = HeteroData()\n",
        "\n",
        "    # Create book nodes: use description embeddings as features.\n",
        "    book_emb = np.stack(df['desc_emb'].values)\n",
        "    data['book'].x = torch.tensor(book_emb, dtype=torch.float)\n",
        "\n",
        "    # For authors and genres, create a mapping.\n",
        "    authors = list(df['Author'].unique())\n",
        "    genres = list(df['Genres'].unique())\n",
        "    author2id = {a: i for i, a in enumerate(authors)}\n",
        "    genre2id = {g: i for i, g in enumerate(genres)}\n",
        "\n",
        "    # Create author nodes with one-hot features.\n",
        "    data['author'].num_nodes = len(authors)\n",
        "    data['author'].x = F.one_hot(torch.arange(len(authors)), num_classes=len(authors)).float()\n",
        "\n",
        "    # Create genre nodes.\n",
        "    data['genre'].num_nodes = len(genres)\n",
        "    data['genre'].x = F.one_hot(torch.arange(len(genres)), num_classes=len(genres)).float()\n",
        "\n",
        "    # Build edges: book -> author and book -> genre.\n",
        "    book_ids = np.arange(len(df))\n",
        "    author_ids = [author2id[a] for a in df['Author']]\n",
        "    genre_ids = [genre2id[g] for g in df['Genres']]\n",
        "\n",
        "    data['book', 'written_by', 'author'].edge_index = torch.tensor([book_ids, author_ids], dtype=torch.long)\n",
        "    data['book', 'has_genre', 'genre'].edge_index = torch.tensor([book_ids, genre_ids], dtype=torch.long)\n",
        "\n",
        "    # (Optional) Build book-to-book similarity edges based on cosine similarity between description embeddings:\n",
        "    # For simplicity, here we add edges for pairs with similarity > 0.9.\n",
        "    from sklearn.metrics.pairwise import cosine_similarity\n",
        "    sim_matrix = cosine_similarity(book_emb)\n",
        "    src, dst = np.where(sim_matrix > 0.9)\n",
        "    # remove self-loops:\n",
        "    mask = src != dst\n",
        "    data['book', 'similar_to', 'book'].edge_index = torch.tensor([src[mask], dst[mask]], dtype=torch.long)\n",
        "\n",
        "    # You can also include rating-based popularity as a node attribute or as edge weight.\n",
        "    # For example, store ratings_count and average_rating in a separate tensor.\n",
        "    #convert num ratings to int type for later manipulation\n",
        "    df['Num_Ratings'] = df['Num_Ratings'].str.replace(',', '').astype(int)\n",
        "    data['book'].ratings_count = torch.tensor(df['Num_Ratings'].values.astype(float), dtype=torch.float)\n",
        "    data['book'].average_rating = torch.tensor(df['Avg_Rating'].values.astype(float), dtype=torch.float)\n",
        "\n",
        "    return data\n",
        "\n",
        "data = build_hetero_graph(train_df)  # build graph from training data"
      ],
      "metadata": {
        "colab": {
          "base_uri": "https://localhost:8080/"
        },
        "id": "Redz0Ifg8wIu",
        "outputId": "f694d779-325a-4207-adf6-c131bce45431"
      },
      "execution_count": 5,
      "outputs": [
        {
          "output_type": "stream",
          "name": "stderr",
          "text": [
            "<ipython-input-5-209a83e14140>:37: UserWarning: Creating a tensor from a list of numpy.ndarrays is extremely slow. Please consider converting the list to a single numpy.ndarray with numpy.array() before converting to a tensor. (Triggered internally at ../torch/csrc/utils/tensor_new.cpp:278.)\n",
            "  data['book', 'written_by', 'author'].edge_index = torch.tensor([book_ids, author_ids], dtype=torch.long)\n"
          ]
        }
      ]
    },
    {
      "cell_type": "markdown",
      "source": [
        "MODEL 1 LightGCN for Book Recommendation\n",
        "\n"
      ],
      "metadata": {
        "id": "CzptPv-rvluf"
      }
    },
    {
      "cell_type": "code",
      "source": [
        "import torch\n",
        "import torch.nn.functional as F\n",
        "from torch_geometric.nn import GCNConv\n",
        "from torch import nn\n",
        "from sklearn.metrics import accuracy_score, precision_score, recall_score, f1_score, confusion_matrix\n",
        "import pandas as pd\n",
        "import wandb\n",
        "import matplotlib.pyplot as plt\n",
        "import numpy as np\n",
        "\n",
        "# Initialize wandb before training the model\n",
        "wandb.init(project=\"book-rmodel\",    # Replace with your project name\n",
        "           entity=\"pearlkakande-makerere-university\",       # Replace with your wandb username or team name\n",
        "           config={\"model\": \"LightGCN\", \"epochs\": 30, \"learning_rate\": 0.01})\n",
        "\n",
        "# Assume wandb.login() was called in an earlier cell\n",
        "\n",
        "class LightGCN(nn.Module):\n",
        "    def __init__(self, in_channels, hidden_channels, num_layers=2):\n",
        "        super(LightGCN, self).__init__()\n",
        "        self.convs = nn.ModuleList()\n",
        "        self.convs.append(GCNConv(in_channels, hidden_channels))\n",
        "        for _ in range(num_layers - 1):\n",
        "            self.convs.append(GCNConv(hidden_channels, hidden_channels))\n",
        "        # Final linear layer: note we later concatenate popularity signal so input dims change.\n",
        "        # Here we assume hidden_channels remains unchanged; adjust if needed.\n",
        "        self.lin = nn.Linear(hidden_channels + 1, 2)  # binary classification: warm vs cold\n",
        "\n",
        "    def forward(self, data):\n",
        "        # Use only 'book' nodes for prediction.\n",
        "        x = data['book'].x  # initial features from description embeddings\n",
        "        for conv in self.convs:\n",
        "            x = conv(x, data['book', 'similar_to', 'book'].edge_index)\n",
        "            x = F.relu(x)\n",
        "        # Concatenate popularity signal (ratings_count)\n",
        "        ratings = data['book'].ratings_count.unsqueeze(1)\n",
        "        x_cat = torch.cat([x, ratings], dim=1)\n",
        "        out = self.lin(x_cat)\n",
        "        return out, x_cat  # also return latent embedding for potential distillation\n",
        "\n",
        "# Define warm items based on ratings_count > threshold.\n",
        "threshold = train_df['Num_Ratings'].median()\n",
        "labels = (train_df['Num_Ratings'] > threshold).astype(int).values\n",
        "labels = torch.tensor(labels, dtype=torch.long)\n",
        "\n",
        "# Set device and create model instance\n",
        "device = torch.device('cuda' if torch.cuda.is_available() else 'cpu')\n",
        "model1 = LightGCN(in_channels=data['book'].x.size(1), hidden_channels=64, num_layers=2).to(device)\n",
        "optimizer = torch.optim.Adam(model1.parameters(), lr=0.01)\n",
        "\n",
        "# Move data to device\n",
        "data['book'].x = data['book'].x.to(device)\n",
        "data['book', 'similar_to', 'book'].edge_index = data['book', 'similar_to', 'book'].edge_index.to(device)\n",
        "data['book'].ratings_count = data['book'].ratings_count.to(device)\n",
        "labels = labels.to(device)\n",
        "\n",
        "# Training loop for 30 epochs\n",
        "num_epochs = 30\n",
        "model1.train()\n",
        "for epoch in range(num_epochs):\n",
        "    optimizer.zero_grad()\n",
        "    out, _ = model1(data)\n",
        "    loss = F.cross_entropy(out, labels)\n",
        "    loss.backward()\n",
        "    optimizer.step()\n",
        "\n",
        "    # Evaluate on training data (for demo purposes)\n",
        "    preds = out.argmax(dim=1).cpu().numpy()\n",
        "    truelabels = labels.cpu().numpy()\n",
        "    acc = accuracy_score(truelabels, preds)\n",
        "    prec = precision_score(truelabels, preds, zero_division=0)\n",
        "    rec = recall_score(truelabels, preds, zero_division=0)\n",
        "    f1 = f1_score(truelabels, preds, zero_division=0)\n",
        "\n",
        "    wandb.log({\n",
        "        \"Model\": \"LightGCN\",\n",
        "        \"epoch\": epoch,\n",
        "        \"loss\": loss.item(),\n",
        "        \"accuracy\": acc,\n",
        "        \"precision\": prec,\n",
        "        \"recall\": rec,\n",
        "        \"f1\": f1\n",
        "    })\n",
        "\n",
        "    if epoch % 10 == 0:\n",
        "        print(f\"Epoch {epoch}: Loss={loss.item():.4f}, Acc={acc:.4f}, Prec={prec:.4f}, Rec={rec:.4f}, F1={f1:.4f}\")\n",
        "\n",
        "# After training, create a summary table for the training set.\n",
        "results = {\"Model\": \"LightGCN\", \"Loss\": loss.item(), \"Accuracy\": acc, \"Precision\": prec, \"Recall\": rec, \"F1\": f1}\n",
        "print(pd.DataFrame([results]))\n",
        "\n",
        "# Compute confusion matrix on training data\n",
        "cm = confusion_matrix(truelabels, preds)\n",
        "print(\"Confusion Matrix:\")\n",
        "print(cm)\n",
        "\n",
        "# Optionally, log the confusion matrix as a plot to wandb:\n",
        "plt.figure(figsize=(4,4))\n",
        "plt.imshow(cm, interpolation='nearest', cmap=plt.cm.Blues)\n",
        "plt.title(\"Confusion Matrix\")\n",
        "plt.colorbar()\n",
        "tick_marks = np.arange(2)\n",
        "plt.xticks(tick_marks, [\"Cold\", \"Warm\"])\n",
        "plt.yticks(tick_marks, [\"Cold\", \"Warm\"])\n",
        "plt.xlabel(\"Predicted label\")\n",
        "plt.ylabel(\"True label\")\n",
        "plt.tight_layout()\n",
        "wandb.log({\"confusion_matrix\": wandb.Image(plt)})\n",
        "plt.show()\n",
        "\n",
        "# Finish the wandb run\n",
        "wandb.finish()\n"
      ],
      "metadata": {
        "colab": {
          "base_uri": "https://localhost:8080/",
          "height": 1000
        },
        "id": "GG1-ZQuub2Z_",
        "outputId": "6b32ecab-570d-4631-f24b-7aa1e63cad7c"
      },
      "execution_count": 6,
      "outputs": [
        {
          "output_type": "display_data",
          "data": {
            "text/plain": [
              "<IPython.core.display.Javascript object>"
            ],
            "application/javascript": [
              "\n",
              "        window._wandbApiKey = new Promise((resolve, reject) => {\n",
              "            function loadScript(url) {\n",
              "            return new Promise(function(resolve, reject) {\n",
              "                let newScript = document.createElement(\"script\");\n",
              "                newScript.onerror = reject;\n",
              "                newScript.onload = resolve;\n",
              "                document.body.appendChild(newScript);\n",
              "                newScript.src = url;\n",
              "            });\n",
              "            }\n",
              "            loadScript(\"https://cdn.jsdelivr.net/npm/postmate/build/postmate.min.js\").then(() => {\n",
              "            const iframe = document.createElement('iframe')\n",
              "            iframe.style.cssText = \"width:0;height:0;border:none\"\n",
              "            document.body.appendChild(iframe)\n",
              "            const handshake = new Postmate({\n",
              "                container: iframe,\n",
              "                url: 'https://wandb.ai/authorize'\n",
              "            });\n",
              "            const timeout = setTimeout(() => reject(\"Couldn't auto authenticate\"), 5000)\n",
              "            handshake.then(function(child) {\n",
              "                child.on('authorize', data => {\n",
              "                    clearTimeout(timeout)\n",
              "                    resolve(data)\n",
              "                });\n",
              "            });\n",
              "            })\n",
              "        });\n",
              "    "
            ]
          },
          "metadata": {}
        },
        {
          "output_type": "stream",
          "name": "stderr",
          "text": [
            "\u001b[34m\u001b[1mwandb\u001b[0m: Logging into wandb.ai. (Learn how to deploy a W&B server locally: https://wandb.me/wandb-server)\n",
            "\u001b[34m\u001b[1mwandb\u001b[0m: You can find your API key in your browser here: https://wandb.ai/authorize\n",
            "wandb: Paste an API key from your profile and hit enter:"
          ]
        },
        {
          "name": "stdout",
          "output_type": "stream",
          "text": [
            " ··········\n"
          ]
        },
        {
          "output_type": "stream",
          "name": "stderr",
          "text": [
            "\u001b[34m\u001b[1mwandb\u001b[0m: \u001b[33mWARNING\u001b[0m If you're specifying your api key in code, ensure this code is not shared publicly.\n",
            "\u001b[34m\u001b[1mwandb\u001b[0m: \u001b[33mWARNING\u001b[0m Consider setting the WANDB_API_KEY environment variable, or running `wandb login` from the command line.\n",
            "\u001b[34m\u001b[1mwandb\u001b[0m: Appending key for api.wandb.ai to your netrc file: /root/.netrc\n",
            "\u001b[34m\u001b[1mwandb\u001b[0m: Currently logged in as: \u001b[33mpearlkakande\u001b[0m (\u001b[33mpearlkakande-makerere-university\u001b[0m) to \u001b[32mhttps://api.wandb.ai\u001b[0m. Use \u001b[1m`wandb login --relogin`\u001b[0m to force relogin\n",
            "\u001b[34m\u001b[1mwandb\u001b[0m: Using wandb-core as the SDK backend.  Please refer to https://wandb.me/wandb-core for more information.\n"
          ]
        },
        {
          "output_type": "display_data",
          "data": {
            "text/plain": [
              "<IPython.core.display.HTML object>"
            ],
            "text/html": [
              "Tracking run with wandb version 0.19.6"
            ]
          },
          "metadata": {}
        },
        {
          "output_type": "display_data",
          "data": {
            "text/plain": [
              "<IPython.core.display.HTML object>"
            ],
            "text/html": [
              "Run data is saved locally in <code>/content/wandb/run-20250226_165909-psoojoip</code>"
            ]
          },
          "metadata": {}
        },
        {
          "output_type": "display_data",
          "data": {
            "text/plain": [
              "<IPython.core.display.HTML object>"
            ],
            "text/html": [
              "Syncing run <strong><a href='https://wandb.ai/pearlkakande-makerere-university/book-rmodel/runs/psoojoip' target=\"_blank\">hardy-rain-1</a></strong> to <a href='https://wandb.ai/pearlkakande-makerere-university/book-rmodel' target=\"_blank\">Weights & Biases</a> (<a href='https://wandb.me/developer-guide' target=\"_blank\">docs</a>)<br>"
            ]
          },
          "metadata": {}
        },
        {
          "output_type": "display_data",
          "data": {
            "text/plain": [
              "<IPython.core.display.HTML object>"
            ],
            "text/html": [
              " View project at <a href='https://wandb.ai/pearlkakande-makerere-university/book-rmodel' target=\"_blank\">https://wandb.ai/pearlkakande-makerere-university/book-rmodel</a>"
            ]
          },
          "metadata": {}
        },
        {
          "output_type": "display_data",
          "data": {
            "text/plain": [
              "<IPython.core.display.HTML object>"
            ],
            "text/html": [
              " View run at <a href='https://wandb.ai/pearlkakande-makerere-university/book-rmodel/runs/psoojoip' target=\"_blank\">https://wandb.ai/pearlkakande-makerere-university/book-rmodel/runs/psoojoip</a>"
            ]
          },
          "metadata": {}
        },
        {
          "output_type": "stream",
          "name": "stdout",
          "text": [
            "Epoch 0: Loss=113.6603, Acc=0.5090, Prec=0.5045, Rec=1.0000, F1=0.6707\n",
            "Epoch 10: Loss=51.6101, Acc=0.7030, Prec=0.6274, Rec=1.0000, F1=0.7710\n",
            "Epoch 20: Loss=63.6574, Acc=0.8004, Prec=0.7147, Rec=1.0000, F1=0.8336\n",
            "      Model       Loss  Accuracy  Precision  Recall        F1\n",
            "0  LightGCN  10.965269   0.93025   0.877578     1.0  0.934798\n",
            "Confusion Matrix:\n",
            "[[3442  558]\n",
            " [   0 4000]]\n"
          ]
        },
        {
          "output_type": "display_data",
          "data": {
            "text/plain": [
              "<Figure size 400x400 with 2 Axes>"
            ],
            "image/png": "[encoded data removed]"
          },
          "metadata": {}
        },
        {
          "output_type": "display_data",
          "data": {
            "text/plain": [
              "<IPython.core.display.HTML object>"
            ],
            "text/html": []
          },
          "metadata": {}
        },
        {
          "output_type": "display_data",
          "data": {
            "text/plain": [
              "<IPython.core.display.HTML object>"
            ],
            "text/html": [
              "<br>    <style><br>        .wandb-row {<br>            display: flex;<br>            flex-direction: row;<br>            flex-wrap: wrap;<br>            justify-content: flex-start;<br>            width: 100%;<br>        }<br>        .wandb-col {<br>            display: flex;<br>            flex-direction: column;<br>            flex-basis: 100%;<br>            flex: 1;<br>            padding: 10px;<br>        }<br>    </style><br><div class=\"wandb-row\"><div class=\"wandb-col\"><h3>Run history:</h3><br/><table class=\"wandb\"><tr><td>accuracy</td><td>▁▂▃▄▁█▅▄▄▄▄▄▅▅▅▅▅▅▆▆▆▆▆▆▇▇▇▇██</td></tr><tr><td>epoch</td><td>▁▁▁▂▂▂▂▃▃▃▃▄▄▄▄▅▅▅▅▆▆▆▆▇▇▇▇███</td></tr><tr><td>f1</td><td>▆▆▆▇▁█▇▇▇▇▇▇▇▇▇▇▇▇▇▇▇▇▇▇▇█████</td></tr><tr><td>loss</td><td>▂▂▁▁█▁▁▁▁▁▁▁▁▂▂▂▂▂▂▂▁▁▁▁▁▁▁▁▁▁</td></tr><tr><td>precision</td><td>▅▅▅▆▁█▆▆▆▆▆▆▆▆▆▆▆▆▇▇▇▇▇▇▇▇▇███</td></tr><tr><td>recall</td><td>████▁█████████████████████████</td></tr></table><br/></div><div class=\"wandb-col\"><h3>Run summary:</h3><br/><table class=\"wandb\"><tr><td>Model</td><td>LightGCN</td></tr><tr><td>accuracy</td><td>0.93025</td></tr><tr><td>epoch</td><td>29</td></tr><tr><td>f1</td><td>0.9348</td></tr><tr><td>loss</td><td>10.96527</td></tr><tr><td>precision</td><td>0.87758</td></tr><tr><td>recall</td><td>1</td></tr></table><br/></div></div>"
            ]
          },
          "metadata": {}
        },
        {
          "output_type": "display_data",
          "data": {
            "text/plain": [
              "<IPython.core.display.HTML object>"
            ],
            "text/html": [
              " View run <strong style=\"color:#cdcd00\">hardy-rain-1</strong> at: <a href='https://wandb.ai/pearlkakande-makerere-university/book-rmodel/runs/psoojoip' target=\"_blank\">https://wandb.ai/pearlkakande-makerere-university/book-rmodel/runs/psoojoip</a><br> View project at: <a href='https://wandb.ai/pearlkakande-makerere-university/book-rmodel' target=\"_blank\">https://wandb.ai/pearlkakande-makerere-university/book-rmodel</a><br>Synced 5 W&B file(s), 1 media file(s), 0 artifact file(s) and 0 other file(s)"
            ]
          },
          "metadata": {}
        },
        {
          "output_type": "display_data",
          "data": {
            "text/plain": [
              "<IPython.core.display.HTML object>"
            ],
            "text/html": [
              "Find logs at: <code>./wandb/run-20250226_165909-psoojoip/logs</code>"
            ]
          },
          "metadata": {}
        }
      ]
    },
    {
      "cell_type": "markdown",
      "source": [
        "MODEL 2 Graph Attention Network (GAT) for Books\n"
      ],
      "metadata": {
        "id": "nPWE6ZTSh77N"
      }
    },
    {
      "cell_type": "code",
      "source": [
        "import torch\n",
        "import torch.nn.functional as F\n",
        "from torch_geometric.nn import GATConv\n",
        "from torch import nn\n",
        "from sklearn.metrics import accuracy_score, precision_score, recall_score, f1_score, confusion_matrix\n",
        "import pandas as pd\n",
        "import seaborn as sns\n",
        "import matplotlib.pyplot as plt\n",
        "import wandb\n",
        "\n",
        "# Initialize wandb before training the model\n",
        "wandb.init(project=\"book-rmodel\",    # Replace with your project name\n",
        "           entity=\"pearlkakande-makerere-university\",     # Replace with your wandb username or team name\n",
        "           config={\"model\": \"GATBook\", \"epochs\": 30, \"learning_rate\": 0.01})\n",
        "\n",
        "class GATBook(nn.Module):\n",
        "    def __init__(self, in_channels, hidden_channels, heads=2, num_layers=2):\n",
        "        super(GATBook, self).__init__()\n",
        "        self.gat_layers = nn.ModuleList()\n",
        "        self.gat_layers.append(GATConv(in_channels, hidden_channels, heads=heads))\n",
        "        for _ in range(num_layers - 1):\n",
        "            self.gat_layers.append(GATConv(hidden_channels * heads, hidden_channels, heads=heads))\n",
        "        self.lin = nn.Linear(hidden_channels * heads + 1, 2)  # add ratings_count\n",
        "\n",
        "    def forward(self, data):\n",
        "        x = data['book'].x\n",
        "        for gat in self.gat_layers:\n",
        "            x = gat(x, data['book', 'similar_to', 'book'].edge_index)\n",
        "            x = F.elu(x)\n",
        "        ratings = data['book'].ratings_count.unsqueeze(1)\n",
        "        x = torch.cat([x, ratings], dim=1)\n",
        "        out = self.lin(x)\n",
        "        return out\n",
        "\n",
        "# Define warm items based on ratings_count > threshold.\n",
        "threshold = train_df['Num_Ratings'].median()\n",
        "labels = (train_df['Num_Ratings'] > threshold).astype(int).values\n",
        "labels = torch.tensor(labels, dtype=torch.long)\n",
        "\n",
        "# Set device and create model instance\n",
        "device = torch.device('cuda' if torch.cuda.is_available() else 'cpu')\n",
        "model2 = GATBook(in_channels=data['book'].x.size(1), hidden_channels=32, heads=2).to(device)\n",
        "optimizer2 = torch.optim.Adam(model2.parameters(), lr=0.005)\n",
        "\n",
        "# Move data to device\n",
        "data['book'].x = data['book'].x.to(device)\n",
        "data['book', 'similar_to', 'book'].edge_index = data['book', 'similar_to', 'book'].edge_index.to(device)\n",
        "data['book'].ratings_count = data['book'].ratings_count.to(device)\n",
        "labels = labels.to(device)\n",
        "\n",
        "# Training loop for 30 epochs\n",
        "num_epochs = 30\n",
        "model2.train()\n",
        "for epoch in range(num_epochs):\n",
        "    optimizer2.zero_grad()\n",
        "    out = model2(data)\n",
        "    loss = F.cross_entropy(out, labels)\n",
        "    loss.backward()\n",
        "    optimizer2.step()\n",
        "\n",
        "    # Evaluate on training data (for demo purposes)\n",
        "    preds = out.argmax(dim=1).cpu().numpy()\n",
        "    truelabels = labels.cpu().numpy()\n",
        "    acc = accuracy_score(truelabels, preds)\n",
        "    prec = precision_score(truelabels, preds, zero_division=0)\n",
        "    rec = recall_score(truelabels, preds, zero_division=0)\n",
        "    f1 = f1_score(truelabels, preds, zero_division=0)\n",
        "\n",
        "    # Compute confusion matrix\n",
        "    cm = confusion_matrix(truelabels, preds)\n",
        "\n",
        "    # Log metrics and confusion matrix to wandb\n",
        "    wandb.log({\n",
        "        \"Model\": \"GATBook\",\n",
        "        \"epoch\": epoch,\n",
        "        \"loss\": loss.item(),\n",
        "        \"accuracy\": acc,\n",
        "        \"precision\": prec,\n",
        "        \"recall\": rec,\n",
        "        \"f1\": f1,\n",
        "        \"confusion_matrix\": wandb.plot.confusion_matrix(probs=None,\n",
        "                                                        y_true=truelabels,\n",
        "                                                        preds=preds,\n",
        "                                                        class_names=[\"Cold\", \"Warm\"])\n",
        "    })\n",
        "\n",
        "    if epoch % 10 == 0:\n",
        "        print(f\"GAT Epoch {epoch}: Loss={loss.item():.4f}, Acc={acc:.4f}, Prec={prec:.4f}, Rec={rec:.4f}, F1={f1:.4f}\")\n",
        "\n",
        "# After training, create a summary table for the training set.\n",
        "results2 = {\"Model\": \"GATBook\", \"Loss\": loss.item(), \"Accuracy\": acc, \"Precision\": prec, \"Recall\": rec, \"F1\": f1}\n",
        "print(pd.DataFrame([results2]))\n",
        "\n",
        "# Finish the wandb run\n",
        "wandb.finish()\n"
      ],
      "metadata": {
        "colab": {
          "base_uri": "https://localhost:8080/",
          "height": 727
        },
        "id": "6ovH_ZRDjihL",
        "outputId": "fba0fa61-a1e7-4646-81df-544edab2eeeb"
      },
      "execution_count": 8,
      "outputs": [
        {
          "output_type": "display_data",
          "data": {
            "text/plain": [
              "<IPython.core.display.HTML object>"
            ],
            "text/html": [
              "Tracking run with wandb version 0.19.6"
            ]
          },
          "metadata": {}
        },
        {
          "output_type": "display_data",
          "data": {
            "text/plain": [
              "<IPython.core.display.HTML object>"
            ],
            "text/html": [
              "Run data is saved locally in <code>/content/wandb/run-20250226_170208-zczft4c2</code>"
            ]
          },
          "metadata": {}
        },
        {
          "output_type": "display_data",
          "data": {
            "text/plain": [
              "<IPython.core.display.HTML object>"
            ],
            "text/html": [
              "Syncing run <strong><a href='https://wandb.ai/pearlkakande-makerere-university/book-rmodel/runs/zczft4c2' target=\"_blank\">bright-sound-3</a></strong> to <a href='https://wandb.ai/pearlkakande-makerere-university/book-rmodel' target=\"_blank\">Weights & Biases</a> (<a href='https://wandb.me/developer-guide' target=\"_blank\">docs</a>)<br>"
            ]
          },
          "metadata": {}
        },
        {
          "output_type": "display_data",
          "data": {
            "text/plain": [
              "<IPython.core.display.HTML object>"
            ],
            "text/html": [
              " View project at <a href='https://wandb.ai/pearlkakande-makerere-university/book-rmodel' target=\"_blank\">https://wandb.ai/pearlkakande-makerere-university/book-rmodel</a>"
            ]
          },
          "metadata": {}
        },
        {
          "output_type": "display_data",
          "data": {
            "text/plain": [
              "<IPython.core.display.HTML object>"
            ],
            "text/html": [
              " View run at <a href='https://wandb.ai/pearlkakande-makerere-university/book-rmodel/runs/zczft4c2' target=\"_blank\">https://wandb.ai/pearlkakande-makerere-university/book-rmodel/runs/zczft4c2</a>"
            ]
          },
          "metadata": {}
        },
        {
          "output_type": "stream",
          "name": "stdout",
          "text": [
            "GAT Epoch 0: Loss=216.7625, Acc=0.3561, Prec=0.0000, Rec=0.0000, F1=0.0000\n",
            "GAT Epoch 10: Loss=58.0050, Acc=0.6232, Prec=0.5703, Rec=1.0000, F1=0.7263\n",
            "GAT Epoch 20: Loss=60.0834, Acc=0.7415, Prec=0.6592, Rec=1.0000, F1=0.7946\n",
            "     Model       Loss  Accuracy  Precision  Recall        F1\n",
            "0  GATBook  43.788372  0.798125   0.712378     1.0  0.832033\n"
          ]
        },
        {
          "output_type": "display_data",
          "data": {
            "text/plain": [
              "<IPython.core.display.HTML object>"
            ],
            "text/html": []
          },
          "metadata": {}
        },
        {
          "output_type": "display_data",
          "data": {
            "text/plain": [
              "<IPython.core.display.HTML object>"
            ],
            "text/html": [
              "<br>    <style><br>        .wandb-row {<br>            display: flex;<br>            flex-direction: row;<br>            flex-wrap: wrap;<br>            justify-content: flex-start;<br>            width: 100%;<br>        }<br>        .wandb-col {<br>            display: flex;<br>            flex-direction: column;<br>            flex-basis: 100%;<br>            flex: 1;<br>            padding: 10px;<br>        }<br>    </style><br><div class=\"wandb-row\"><div class=\"wandb-col\"><h3>Run history:</h3><br/><table class=\"wandb\"><tr><td>accuracy</td><td>▁▃▃▃▃▃▄▄▅▅▅▅▆▆▆▆▇▇▇▇▇▇▇▇▇█████</td></tr><tr><td>epoch</td><td>▁▁▁▂▂▂▂▃▃▃▃▄▄▄▄▅▅▅▅▆▆▆▆▇▇▇▇███</td></tr><tr><td>f1</td><td>▁▇▇▇▇▇▇▇▇▇▇▇▇▇▇▇▇█████████████</td></tr><tr><td>loss</td><td>█▁▁▂▂▂▂▂▂▂▃▃▃▃▃▃▃▃▃▃▃▃▃▂▂▂▂▂▂▂</td></tr><tr><td>precision</td><td>▁▆▆▆▆▆▆▆▆▆▇▇▇▇▇▇▇▇▇▇▇█████████</td></tr><tr><td>recall</td><td>▁█████████████████████████████</td></tr></table><br/></div><div class=\"wandb-col\"><h3>Run summary:</h3><br/><table class=\"wandb\"><tr><td>Model</td><td>GATBook</td></tr><tr><td>accuracy</td><td>0.79812</td></tr><tr><td>epoch</td><td>29</td></tr><tr><td>f1</td><td>0.83203</td></tr><tr><td>loss</td><td>43.78837</td></tr><tr><td>precision</td><td>0.71238</td></tr><tr><td>recall</td><td>1</td></tr></table><br/></div></div>"
            ]
          },
          "metadata": {}
        },
        {
          "output_type": "display_data",
          "data": {
            "text/plain": [
              "<IPython.core.display.HTML object>"
            ],
            "text/html": [
              " View run <strong style=\"color:#cdcd00\">bright-sound-3</strong> at: <a href='https://wandb.ai/pearlkakande-makerere-university/book-rmodel/runs/zczft4c2' target=\"_blank\">https://wandb.ai/pearlkakande-makerere-university/book-rmodel/runs/zczft4c2</a><br> View project at: <a href='https://wandb.ai/pearlkakande-makerere-university/book-rmodel' target=\"_blank\">https://wandb.ai/pearlkakande-makerere-university/book-rmodel</a><br>Synced 5 W&B file(s), 30 media file(s), 56 artifact file(s) and 0 other file(s)"
            ]
          },
          "metadata": {}
        },
        {
          "output_type": "display_data",
          "data": {
            "text/plain": [
              "<IPython.core.display.HTML object>"
            ],
            "text/html": [
              "Find logs at: <code>./wandb/run-20250226_170208-zczft4c2/logs</code>"
            ]
          },
          "metadata": {}
        }
      ]
    },
    {
      "cell_type": "markdown",
      "source": [
        "MODEL 3"
      ],
      "metadata": {
        "id": "_zdfIKYCp4YW"
      }
    },
    {
      "cell_type": "code",
      "source": [
        "import torch\n",
        "import torch.nn.functional as F\n",
        "from torch_geometric.nn import GCNConv\n",
        "from torch import nn\n",
        "from sklearn.metrics import accuracy_score, precision_score, recall_score, f1_score, confusion_matrix\n",
        "import pandas as pd\n",
        "import wandb\n",
        "import matplotlib.pyplot as plt\n",
        "import numpy as np\n",
        "\n",
        "# Initialize wandb before training the model\n",
        "wandb.init(project=\"book-rmodel\",    # Replace with your project name\n",
        "           entity=\"pearlkakande-makerere-university\",  # your wandb username or team name\n",
        "           config={\"model\": \"PGD\", \"epochs\": 30, \"learning_rate\": 0.01})\n",
        "\n",
        "# Define Teacher and Student models for PGD\n",
        "class TeacherGCN(nn.Module):\n",
        "    def __init__(self, in_channels, hidden_channels):\n",
        "        super(TeacherGCN, self).__init__()\n",
        "        self.conv1 = GCNConv(in_channels, hidden_channels)\n",
        "        self.conv2 = GCNConv(hidden_channels, hidden_channels)\n",
        "\n",
        "    def forward(self, data):\n",
        "        x = data['book'].x\n",
        "        x = F.relu(self.conv1(x, data['book', 'similar_to', 'book'].edge_index))\n",
        "        x = self.conv2(x, data['book', 'similar_to', 'book'].edge_index)\n",
        "        return x\n",
        "\n",
        "class StudentGCN(nn.Module):\n",
        "    def __init__(self, in_channels, hidden_channels):\n",
        "        super(StudentGCN, self).__init__()\n",
        "        self.conv1 = GCNConv(in_channels, hidden_channels)\n",
        "        self.conv2 = GCNConv(hidden_channels, hidden_channels)\n",
        "        self.lin = nn.Linear(hidden_channels + 1, 2)  # +1 for ratings_count feature\n",
        "\n",
        "    def forward(self, data):\n",
        "        x = data['book'].x\n",
        "        x = F.relu(self.conv1(x, data['book', 'similar_to', 'book'].edge_index))\n",
        "        x = self.conv2(x, data['book', 'similar_to', 'book'].edge_index)\n",
        "        ratings = data['book'].ratings_count.unsqueeze(1)\n",
        "        x_cat = torch.cat([x, ratings], dim=1)\n",
        "        out = self.lin(x_cat)\n",
        "        return out, x\n",
        "\n",
        "# Define warm items based on ratings_count > threshold.\n",
        "# Here we use 'Num_Ratings' from train_df for labeling and 'average_rating' as teacher target.\n",
        "threshold = train_df['Num_Ratings'].median()\n",
        "labels = (train_df['Num_Ratings'] > threshold).astype(int).values\n",
        "labels = torch.tensor(labels, dtype=torch.long)\n",
        "\n",
        "# Set device and create model instances\n",
        "device = torch.device('cuda' if torch.cuda.is_available() else 'cpu')\n",
        "teacher = TeacherGCN(in_channels=data['book'].x.size(1), hidden_channels=64).to(device)\n",
        "student = StudentGCN(in_channels=data['book'].x.size(1), hidden_channels=64).to(device)\n",
        "\n",
        "optimizer_teacher = torch.optim.Adam(teacher.parameters(), lr=0.01)\n",
        "optimizer_student = torch.optim.Adam(student.parameters(), lr=0.01)\n",
        "\n",
        "# Move data and labels to device\n",
        "data['book'].x = data['book'].x.to(device)\n",
        "data['book', 'similar_to', 'book'].edge_index = data['book', 'similar_to', 'book'].edge_index.to(device)\n",
        "data['book'].ratings_count = data['book'].ratings_count.to(device)\n",
        "data['book'].average_rating = data['book'].average_rating.to(device)  # used as target for teacher\n",
        "labels = labels.to(device)\n",
        "\n",
        "num_epochs = 30\n",
        "\n",
        "# --- Teacher Training ---\n",
        "teacher.train()\n",
        "for epoch in range(num_epochs):\n",
        "    optimizer_teacher.zero_grad()\n",
        "    teacher_emb = teacher(data)\n",
        "    # Use a regression loss to predict average_rating as a proxy for CF signals.\n",
        "    target = data['book'].average_rating.unsqueeze(1)\n",
        "    # Here we take the mean over the embedding dimensions as a simple proxy.\n",
        "    loss_teacher = F.mse_loss(teacher_emb.mean(dim=1, keepdim=True), target)\n",
        "    loss_teacher.backward()\n",
        "    optimizer_teacher.step()\n",
        "    wandb.log({\"Model\": \"PGD_Teacher\", \"epoch\": epoch, \"loss\": loss_teacher.item()})\n",
        "    if epoch % 10 == 0:\n",
        "        print(f\"Teacher Epoch {epoch}: Loss={loss_teacher.item():.4f}\")\n",
        "\n",
        "# Freeze teacher parameters\n",
        "for param in teacher.parameters():\n",
        "    param.requires_grad = False\n",
        "\n",
        "# --- Student Training with Knowledge Distillation ---\n",
        "student.train()\n",
        "alpha = 0.7  # weight for distillation loss; 0.3 for ground truth classification\n",
        "for epoch in range(num_epochs):\n",
        "    optimizer_student.zero_grad()\n",
        "    out_student, student_emb = student(data)\n",
        "    with torch.no_grad():\n",
        "        teacher_emb = teacher(data)\n",
        "    # Distillation loss: MSE between student and teacher embeddings.\n",
        "    loss_distill = F.mse_loss(student_emb, teacher_emb)\n",
        "    # Classification loss: cross-entropy loss against warm/cold labels.\n",
        "    loss_class = F.cross_entropy(out_student, labels)\n",
        "    loss_total = alpha * loss_distill + (1 - alpha) * loss_class\n",
        "    loss_total.backward()\n",
        "    optimizer_student.step()\n",
        "\n",
        "    preds = out_student.argmax(dim=1).cpu().numpy()\n",
        "    truelabels = labels.cpu().numpy()\n",
        "    acc = accuracy_score(truelabels, preds)\n",
        "    prec = precision_score(truelabels, preds, zero_division=0)\n",
        "    rec = recall_score(truelabels, preds, zero_division=0)\n",
        "    f1 = f1_score(truelabels, preds, zero_division=0)\n",
        "\n",
        "    wandb.log({\"Model\": \"PGD_Student\", \"epoch\": epoch, \"loss_total\": loss_total.item(),\n",
        "               \"distill_loss\": loss_distill.item(), \"class_loss\": loss_class.item(),\n",
        "               \"accuracy\": acc, \"precision\": prec, \"recall\": rec, \"f1\": f1})\n",
        "    if epoch % 10 == 0:\n",
        "        print(f\"Student Epoch {epoch}: Total Loss={loss_total.item():.4f}\")\n",
        "\n",
        "results3 = {\"Model\": \"PGD (Student)\", \"Loss\": loss_total.item(), \"Accuracy\": acc,\n",
        "            \"Precision\": prec, \"Recall\": rec, \"F1\": f1}\n",
        "print(pd.DataFrame([results3]))\n",
        "\n",
        "# Compute confusion matrix on training data using final predictions\n",
        "cm = confusion_matrix(truelabels, preds)\n",
        "print(\"Confusion Matrix:\")\n",
        "print(cm)\n",
        "\n",
        "# Plot and log the confusion matrix to wandb\n",
        "plt.figure(figsize=(4,4))\n",
        "plt.imshow(cm, interpolation='nearest', cmap=plt.cm.Blues)\n",
        "plt.title(\"Confusion Matrix (PGD Student)\")\n",
        "plt.colorbar()\n",
        "tick_marks = np.arange(2)\n",
        "plt.xticks(tick_marks, [\"Cold\", \"Warm\"])\n",
        "plt.yticks(tick_marks, [\"Cold\", \"Warm\"])\n",
        "plt.xlabel(\"Predicted label\")\n",
        "plt.ylabel(\"True label\")\n",
        "plt.tight_layout()\n",
        "wandb.log({\"confusion_matrix\": wandb.Image(plt)})\n",
        "plt.show()\n",
        "\n",
        "# Finish the wandb run\n",
        "wandb.finish()\n"
      ],
      "metadata": {
        "colab": {
          "base_uri": "https://localhost:8080/",
          "height": 1000
        },
        "id": "xe--QZEMvQ3O",
        "outputId": "c519d96c-1d9d-4dbe-f731-22955c000eaa"
      },
      "execution_count": 10,
      "outputs": [
        {
          "output_type": "display_data",
          "data": {
            "text/plain": [
              "<IPython.core.display.HTML object>"
            ],
            "text/html": [
              "Tracking run with wandb version 0.19.6"
            ]
          },
          "metadata": {}
        },
        {
          "output_type": "display_data",
          "data": {
            "text/plain": [
              "<IPython.core.display.HTML object>"
            ],
            "text/html": [
              "Run data is saved locally in <code>/content/wandb/run-20250226_170616-lvf7e9n4</code>"
            ]
          },
          "metadata": {}
        },
        {
          "output_type": "display_data",
          "data": {
            "text/plain": [
              "<IPython.core.display.HTML object>"
            ],
            "text/html": [
              "Syncing run <strong><a href='https://wandb.ai/pearlkakande-makerere-university/book-rmodel/runs/lvf7e9n4' target=\"_blank\">comfy-fog-4</a></strong> to <a href='https://wandb.ai/pearlkakande-makerere-university/book-rmodel' target=\"_blank\">Weights & Biases</a> (<a href='https://wandb.me/developer-guide' target=\"_blank\">docs</a>)<br>"
            ]
          },
          "metadata": {}
        },
        {
          "output_type": "display_data",
          "data": {
            "text/plain": [
              "<IPython.core.display.HTML object>"
            ],
            "text/html": [
              " View project at <a href='https://wandb.ai/pearlkakande-makerere-university/book-rmodel' target=\"_blank\">https://wandb.ai/pearlkakande-makerere-university/book-rmodel</a>"
            ]
          },
          "metadata": {}
        },
        {
          "output_type": "display_data",
          "data": {
            "text/plain": [
              "<IPython.core.display.HTML object>"
            ],
            "text/html": [
              " View run at <a href='https://wandb.ai/pearlkakande-makerere-university/book-rmodel/runs/lvf7e9n4' target=\"_blank\">https://wandb.ai/pearlkakande-makerere-university/book-rmodel/runs/lvf7e9n4</a>"
            ]
          },
          "metadata": {}
        },
        {
          "output_type": "stream",
          "name": "stdout",
          "text": [
            "Teacher Epoch 0: Loss=16.6575\n",
            "Teacher Epoch 10: Loss=1.4180\n",
            "Teacher Epoch 20: Loss=0.9045\n",
            "Student Epoch 0: Total Loss=5383.7178\n",
            "Student Epoch 10: Total Loss=5.2667\n",
            "Student Epoch 20: Total Loss=56.9377\n",
            "           Model       Loss  Accuracy  Precision  Recall        F1\n",
            "0  PGD (Student)  71.883003  0.720625    0.64154     1.0  0.781632\n",
            "Confusion Matrix:\n",
            "[[1765 2235]\n",
            " [   0 4000]]\n"
          ]
        },
        {
          "output_type": "display_data",
          "data": {
            "text/plain": [
              "<Figure size 400x400 with 2 Axes>"
            ],
            "image/png": "[encoded data removed]"
          },
          "metadata": {}
        },
        {
          "output_type": "display_data",
          "data": {
            "text/plain": [
              "<IPython.core.display.HTML object>"
            ],
            "text/html": []
          },
          "metadata": {}
        },
        {
          "output_type": "display_data",
          "data": {
            "text/plain": [
              "<IPython.core.display.HTML object>"
            ],
            "text/html": [
              "<br>    <style><br>        .wandb-row {<br>            display: flex;<br>            flex-direction: row;<br>            flex-wrap: wrap;<br>            justify-content: flex-start;<br>            width: 100%;<br>        }<br>        .wandb-col {<br>            display: flex;<br>            flex-direction: column;<br>            flex-basis: 100%;<br>            flex: 1;<br>            padding: 10px;<br>        }<br>    </style><br><div class=\"wandb-row\"><div class=\"wandb-col\"><h3>Run history:</h3><br/><table class=\"wandb\"><tr><td>accuracy</td><td>▅▅▅▅▄▄▃▂▂▁▅▅▅▅▅▅▅▅▅▅▆▇▇▇▇█████</td></tr><tr><td>class_loss</td><td>█▇▇▆▅▄▄▃▂▂▁▁▁▁▁▁▁▁▁▁▁▁▁▁▁▁▁▁▁▁</td></tr><tr><td>distill_loss</td><td>██▇▇▆▅▄▃▃▂▁▁▁▁▁▁▁▁▁▁▁▁▁▁▁▁▁▁▁▁</td></tr><tr><td>epoch</td><td>▁▁▁▂▂▃▃▃▄▄▅▅▆▆▆▇▇██▁▂▂▂▃▃▃▄▄▅▅▅▆▆▆▆▇▇▇██</td></tr><tr><td>f1</td><td>▁▁▁▁▁▁▁▁▁▁▇▇▇▇▇▇▇▇▇▇▇█████████</td></tr><tr><td>loss</td><td>██▇▇▆▅▄▃▃▂▁▁▁▂▂▂▂▂▁▁▁▁▁▁▁▁▁▁▁▁</td></tr><tr><td>loss_total</td><td>█▇▇▆▅▄▄▃▂▂▁▁▁▁▁▁▁▁▁▁▁▁▁▁▁▁▁▁▁▁</td></tr><tr><td>precision</td><td>▁▁▁▁▁▁▁▁▁▁▆▆▆▆▆▆▆▆▆▆▇▇████████</td></tr><tr><td>recall</td><td>▁▁▁▁▁▁▁▁▁▁████████████████████</td></tr></table><br/></div><div class=\"wandb-col\"><h3>Run summary:</h3><br/><table class=\"wandb\"><tr><td>Model</td><td>PGD_Student</td></tr><tr><td>accuracy</td><td>0.72062</td></tr><tr><td>class_loss</td><td>237.04695</td></tr><tr><td>distill_loss</td><td>1.09845</td></tr><tr><td>epoch</td><td>29</td></tr><tr><td>f1</td><td>0.78163</td></tr><tr><td>loss</td><td>0.97838</td></tr><tr><td>loss_total</td><td>71.883</td></tr><tr><td>precision</td><td>0.64154</td></tr><tr><td>recall</td><td>1</td></tr></table><br/></div></div>"
            ]
          },
          "metadata": {}
        },
        {
          "output_type": "display_data",
          "data": {
            "text/plain": [
              "<IPython.core.display.HTML object>"
            ],
            "text/html": [
              " View run <strong style=\"color:#cdcd00\">comfy-fog-4</strong> at: <a href='https://wandb.ai/pearlkakande-makerere-university/book-rmodel/runs/lvf7e9n4' target=\"_blank\">https://wandb.ai/pearlkakande-makerere-university/book-rmodel/runs/lvf7e9n4</a><br> View project at: <a href='https://wandb.ai/pearlkakande-makerere-university/book-rmodel' target=\"_blank\">https://wandb.ai/pearlkakande-makerere-university/book-rmodel</a><br>Synced 5 W&B file(s), 1 media file(s), 0 artifact file(s) and 0 other file(s)"
            ]
          },
          "metadata": {}
        },
        {
          "output_type": "display_data",
          "data": {
            "text/plain": [
              "<IPython.core.display.HTML object>"
            ],
            "text/html": [
              "Find logs at: <code>./wandb/run-20250226_170616-lvf7e9n4/logs</code>"
            ]
          },
          "metadata": {}
        }
      ]
    },
    {
      "cell_type": "markdown",
      "source": [
        "MODEL 4 Hybrid Graph-based Model for Cold-Start Recommendations"
      ],
      "metadata": {
        "id": "ZSp4b1mEx-F1"
      }
    },
    {
      "cell_type": "code",
      "source": [
        "import torch\n",
        "import torch.nn.functional as F\n",
        "from torch_geometric.nn import GCNConv\n",
        "from torch import nn\n",
        "from sklearn.metrics import accuracy_score, precision_score, recall_score, f1_score, confusion_matrix\n",
        "import pandas as pd\n",
        "import wandb\n",
        "import matplotlib.pyplot as plt\n",
        "import numpy as np\n",
        "\n",
        "# Initialize wandb before training the model\n",
        "wandb.init(project=\"book-rmodel\",\n",
        "           entity=\"pearlkakande-makerere-university\",\n",
        "           config={\"model\": \"Hybrid\", \"epochs\": 30, \"learning_rate\": 0.005})\n",
        "\n",
        "class HybridModel(nn.Module):\n",
        "    def __init__(self, in_channels, hidden_channels, text_dim):\n",
        "        super(HybridModel, self).__init__()\n",
        "        # Graph branch\n",
        "        self.gcn1 = GCNConv(in_channels, hidden_channels)\n",
        "        self.gcn2 = GCNConv(hidden_channels, hidden_channels)\n",
        "        # Text branch\n",
        "        self.fc_text = nn.Linear(text_dim, hidden_channels)\n",
        "        # Fusion and final classifier (with popularity)\n",
        "        self.fc_final = nn.Linear(hidden_channels * 2 + 1, 2)\n",
        "\n",
        "    def forward(self, data):\n",
        "        # Graph branch\n",
        "        x_graph = F.relu(self.gcn1(data['book'].x, data['book', 'similar_to', 'book'].edge_index))\n",
        "        x_graph = self.gcn2(x_graph, data['book', 'similar_to', 'book'].edge_index)\n",
        "        # Text branch\n",
        "        x_text = F.relu(self.fc_text(data['book'].x))\n",
        "        # Combine graph, text, and popularity features\n",
        "        ratings = data['book'].ratings_count.unsqueeze(1)\n",
        "        x_comb = torch.cat([x_graph, x_text, ratings], dim=1)\n",
        "        out = self.fc_final(x_comb)\n",
        "        return out\n",
        "\n",
        "# Define warm items based on ratings_count > threshold.\n",
        "threshold = train_df['Num_Ratings'].median()\n",
        "labels = (train_df['Num_Ratings'] > threshold).astype(int).values\n",
        "labels = torch.tensor(labels, dtype=torch.long)\n",
        "\n",
        "# Set device and create model instance\n",
        "device = torch.device('cuda' if torch.cuda.is_available() else 'cpu')\n",
        "model4 = HybridModel(in_channels=data['book'].x.size(1), hidden_channels=32, text_dim=data['book'].x.size(1)).to(device)\n",
        "optimizer4 = torch.optim.Adam(model4.parameters(), lr=0.005)\n",
        "\n",
        "# Move data to device\n",
        "data['book'].x = data['book'].x.to(device)\n",
        "data['book', 'similar_to', 'book'].edge_index = data['book', 'similar_to', 'book'].edge_index.to(device)\n",
        "data['book'].ratings_count = data['book'].ratings_count.to(device)\n",
        "labels = labels.to(device)\n",
        "\n",
        "# Training loop for 30 epochs\n",
        "num_epochs = 30\n",
        "model4.train()\n",
        "for epoch in range(num_epochs):\n",
        "    optimizer4.zero_grad()\n",
        "    out = model4(data)\n",
        "    loss = F.cross_entropy(out, labels)\n",
        "    loss.backward()\n",
        "    optimizer4.step()\n",
        "\n",
        "    # Evaluate on training data\n",
        "    preds = out.argmax(dim=1).cpu().numpy()\n",
        "    truelabels = labels.cpu().numpy()\n",
        "    acc = accuracy_score(truelabels, preds)\n",
        "    prec = precision_score(truelabels, preds, zero_division=0)\n",
        "    rec = recall_score(truelabels, preds, zero_division=0)\n",
        "    f1 = f1_score(truelabels, preds, zero_division=0)\n",
        "\n",
        "    wandb.log({\n",
        "        \"Model\": \"Hybrid\",\n",
        "        \"epoch\": epoch,\n",
        "        \"loss\": loss.item(),\n",
        "        \"accuracy\": acc,\n",
        "        \"precision\": prec,\n",
        "        \"recall\": rec,\n",
        "        \"f1\": f1\n",
        "    })\n",
        "\n",
        "    if epoch % 10 == 0:\n",
        "        print(f\"Hybrid Epoch {epoch}: Loss={loss.item():.4f}\")\n",
        "\n",
        "# Compute confusion matrix\n",
        "cm = confusion_matrix(truelabels, preds)\n",
        "print(\"Confusion Matrix:\")\n",
        "print(cm)\n",
        "\n",
        "# Plot and log the confusion matrix as an image to wandb\n",
        "plt.figure(figsize=(4,4))\n",
        "plt.imshow(cm, interpolation='nearest', cmap=plt.cm.Blues)\n",
        "plt.title(\"Confusion Matrix (Hybrid Model)\")\n",
        "plt.colorbar()\n",
        "tick_marks = np.arange(2)\n",
        "plt.xticks(tick_marks, [\"Cold\", \"Warm\"])\n",
        "plt.yticks(tick_marks, [\"Cold\", \"Warm\"])\n",
        "plt.xlabel(\"Predicted label\")\n",
        "plt.ylabel(\"True label\")\n",
        "plt.tight_layout()\n",
        "wandb.log({\"confusion_matrix\": wandb.Image(plt)})\n",
        "plt.show()\n",
        "\n",
        "results4 = {\"Model\": \"Hybrid\", \"Loss\": loss.item(), \"Accuracy\": acc, \"Precision\": prec, \"Recall\": rec, \"F1\": f1}\n",
        "print(pd.DataFrame([results4]))\n",
        "\n",
        "# Finish the wandb run\n",
        "wandb.finish()\n"
      ],
      "metadata": {
        "colab": {
          "base_uri": "https://localhost:8080/",
          "height": 1000
        },
        "id": "p1nlLLH7HJmn",
        "outputId": "6c59f70e-9055-4d2d-a290-03a846a0c1c7"
      },
      "execution_count": 11,
      "outputs": [
        {
          "output_type": "display_data",
          "data": {
            "text/plain": [
              "<IPython.core.display.HTML object>"
            ],
            "text/html": [
              "Tracking run with wandb version 0.19.6"
            ]
          },
          "metadata": {}
        },
        {
          "output_type": "display_data",
          "data": {
            "text/plain": [
              "<IPython.core.display.HTML object>"
            ],
            "text/html": [
              "Run data is saved locally in <code>/content/wandb/run-20250226_170737-2f2450ya</code>"
            ]
          },
          "metadata": {}
        },
        {
          "output_type": "display_data",
          "data": {
            "text/plain": [
              "<IPython.core.display.HTML object>"
            ],
            "text/html": [
              "Syncing run <strong><a href='https://wandb.ai/pearlkakande-makerere-university/book-rmodel/runs/2f2450ya' target=\"_blank\">comfy-cloud-5</a></strong> to <a href='https://wandb.ai/pearlkakande-makerere-university/book-rmodel' target=\"_blank\">Weights & Biases</a> (<a href='https://wandb.me/developer-guide' target=\"_blank\">docs</a>)<br>"
            ]
          },
          "metadata": {}
        },
        {
          "output_type": "display_data",
          "data": {
            "text/plain": [
              "<IPython.core.display.HTML object>"
            ],
            "text/html": [
              " View project at <a href='https://wandb.ai/pearlkakande-makerere-university/book-rmodel' target=\"_blank\">https://wandb.ai/pearlkakande-makerere-university/book-rmodel</a>"
            ]
          },
          "metadata": {}
        },
        {
          "output_type": "display_data",
          "data": {
            "text/plain": [
              "<IPython.core.display.HTML object>"
            ],
            "text/html": [
              " View run at <a href='https://wandb.ai/pearlkakande-makerere-university/book-rmodel/runs/2f2450ya' target=\"_blank\">https://wandb.ai/pearlkakande-makerere-university/book-rmodel/runs/2f2450ya</a>"
            ]
          },
          "metadata": {}
        },
        {
          "output_type": "stream",
          "name": "stdout",
          "text": [
            "Hybrid Epoch 0: Loss=130.9296\n",
            "Hybrid Epoch 10: Loss=442.6020\n",
            "Hybrid Epoch 20: Loss=52.3907\n",
            "Confusion Matrix:\n",
            "[[1994 2006]\n",
            " [   0 4000]]\n"
          ]
        },
        {
          "output_type": "display_data",
          "data": {
            "text/plain": [
              "<Figure size 400x400 with 2 Axes>"
            ],
            "image/png": "[encoded data removed]"
          },
          "metadata": {}
        },
        {
          "output_type": "stream",
          "name": "stdout",
          "text": [
            "    Model       Loss  Accuracy  Precision  Recall       F1\n",
            "0  Hybrid  63.890675   0.74925   0.666001     1.0  0.79952\n"
          ]
        },
        {
          "output_type": "display_data",
          "data": {
            "text/plain": [
              "<IPython.core.display.HTML object>"
            ],
            "text/html": []
          },
          "metadata": {}
        },
        {
          "output_type": "display_data",
          "data": {
            "text/plain": [
              "<IPython.core.display.HTML object>"
            ],
            "text/html": [
              "<br>    <style><br>        .wandb-row {<br>            display: flex;<br>            flex-direction: row;<br>            flex-wrap: wrap;<br>            justify-content: flex-start;<br>            width: 100%;<br>        }<br>        .wandb-col {<br>            display: flex;<br>            flex-direction: column;<br>            flex-basis: 100%;<br>            flex: 1;<br>            padding: 10px;<br>        }<br>    </style><br><div class=\"wandb-row\"><div class=\"wandb-col\"><h3>Run history:</h3><br/><table class=\"wandb\"><tr><td>accuracy</td><td>▁▁▁▂▂▃▄▅█▁▁▇▆▆▅▅▅▅▅▅▅▅▅▅▆▆▆▆▆▆</td></tr><tr><td>epoch</td><td>▁▁▁▂▂▂▂▃▃▃▃▄▄▄▄▅▅▅▅▆▆▆▆▇▇▇▇███</td></tr><tr><td>f1</td><td>▆▆▆▇▇▇▇▇█▁▁█▇▇▇▇▇▇▇▇▇▇▇▇▇▇▇▇▇▇</td></tr><tr><td>loss</td><td>▂▂▂▂▂▁▁▁▁█▅▁▁▁▁▁▁▁▁▁▁▁▁▁▂▂▂▂▂▂</td></tr><tr><td>precision</td><td>▆▆▆▆▆▆▆▇█▁▁█▇▇▇▇▇▇▇▇▇▇▇▇▇▇▇▇▇▇</td></tr><tr><td>recall</td><td>█████████▁▁███████████████████</td></tr></table><br/></div><div class=\"wandb-col\"><h3>Run summary:</h3><br/><table class=\"wandb\"><tr><td>Model</td><td>Hybrid</td></tr><tr><td>accuracy</td><td>0.74925</td></tr><tr><td>epoch</td><td>29</td></tr><tr><td>f1</td><td>0.79952</td></tr><tr><td>loss</td><td>63.89067</td></tr><tr><td>precision</td><td>0.666</td></tr><tr><td>recall</td><td>1</td></tr></table><br/></div></div>"
            ]
          },
          "metadata": {}
        },
        {
          "output_type": "display_data",
          "data": {
            "text/plain": [
              "<IPython.core.display.HTML object>"
            ],
            "text/html": [
              " View run <strong style=\"color:#cdcd00\">comfy-cloud-5</strong> at: <a href='https://wandb.ai/pearlkakande-makerere-university/book-rmodel/runs/2f2450ya' target=\"_blank\">https://wandb.ai/pearlkakande-makerere-university/book-rmodel/runs/2f2450ya</a><br> View project at: <a href='https://wandb.ai/pearlkakande-makerere-university/book-rmodel' target=\"_blank\">https://wandb.ai/pearlkakande-makerere-university/book-rmodel</a><br>Synced 5 W&B file(s), 1 media file(s), 0 artifact file(s) and 0 other file(s)"
            ]
          },
          "metadata": {}
        },
        {
          "output_type": "display_data",
          "data": {
            "text/plain": [
              "<IPython.core.display.HTML object>"
            ],
            "text/html": [
              "Find logs at: <code>./wandb/run-20250226_170737-2f2450ya/logs</code>"
            ]
          },
          "metadata": {}
        }
      ]
    },
    {
      "cell_type": "markdown",
      "source": [
        "MODEL 5 Knowledge Distillation with ALDI Framework"
      ],
      "metadata": {
        "id": "a4Z9JrMpR6CH"
      }
    },
    {
      "cell_type": "code",
      "source": [
        "import torch\n",
        "import torch.nn.functional as F\n",
        "from torch_geometric.nn import GCNConv\n",
        "from torch import nn\n",
        "from sklearn.metrics import accuracy_score, precision_score, recall_score, f1_score, confusion_matrix\n",
        "import pandas as pd\n",
        "import wandb\n",
        "import matplotlib.pyplot as plt\n",
        "import numpy as np\n",
        "\n",
        "# Initialize wandb before training the model\n",
        "wandb.init(project=\"book-rmodel\",    # Replace with your project name\n",
        "           entity=\"pearlkakande-makerere-university\",  # your wandb username or team name\n",
        "           config={\"model\": \"ALDI\", \"epochs\": 30, \"learning_rate\": 0.01})\n",
        "\n",
        "class ALDITeacher(nn.Module):\n",
        "    def __init__(self, in_channels, hidden_channels):\n",
        "        super(ALDITeacher, self).__init__()\n",
        "        self.conv = GCNConv(in_channels, hidden_channels)\n",
        "\n",
        "    def forward(self, data):\n",
        "        x = self.conv(data['book'].x, data['book', 'similar_to', 'book'].edge_index)\n",
        "        return x\n",
        "\n",
        "class ALDIStudent(nn.Module):\n",
        "    def __init__(self, in_channels, hidden_channels):\n",
        "        super(ALDIStudent, self).__init__()\n",
        "        self.conv = GCNConv(in_channels, hidden_channels)\n",
        "        self.lin = nn.Linear(hidden_channels + 1, 2)  # +1 for ratings_count\n",
        "\n",
        "    def forward(self, data):\n",
        "        x = self.conv(data['book'].x, data['book', 'similar_to', 'book'].edge_index)\n",
        "        ratings = data['book'].ratings_count.unsqueeze(1)\n",
        "        x_cat = torch.cat([x, ratings], dim=1)\n",
        "        out = self.lin(x_cat)\n",
        "        return out, x\n",
        "\n",
        "# Create model instances\n",
        "teacher_aldi = ALDITeacher(in_channels=data['book'].x.size(1), hidden_channels=64).to(device)\n",
        "student_aldi = ALDIStudent(in_channels=data['book'].x.size(1), hidden_channels=64).to(device)\n",
        "\n",
        "optimizer_teacher_aldi = torch.optim.Adam(teacher_aldi.parameters(), lr=0.01)\n",
        "optimizer_student_aldi = torch.optim.Adam(student_aldi.parameters(), lr=0.01)\n",
        "\n",
        "# Define warm items based on ratings_count > threshold.\n",
        "threshold = train_df['Num_Ratings'].median()\n",
        "labels = (train_df['Num_Ratings'] > threshold).astype(int).values\n",
        "labels = torch.tensor(labels, dtype=torch.long)\n",
        "\n",
        "# Move data and labels to device\n",
        "data['book'].x = data['book'].x.to(device)\n",
        "data['book', 'similar_to', 'book'].edge_index = data['book', 'similar_to', 'book'].edge_index.to(device)\n",
        "data['book'].ratings_count = data['book'].ratings_count.to(device)\n",
        "data['book'].average_rating = data['book'].average_rating.to(device)\n",
        "labels = labels.to(device)\n",
        "\n",
        "num_epochs = 30\n",
        "\n",
        "# --- Teacher Training ---\n",
        "teacher_aldi.train()\n",
        "for epoch in range(num_epochs):\n",
        "    optimizer_teacher_aldi.zero_grad()\n",
        "    emb = teacher_aldi(data)\n",
        "    # Use MSE loss to predict the average rating as a proxy for CF signals.\n",
        "    target = data['book'].average_rating.unsqueeze(1)\n",
        "    loss_teacher = F.mse_loss(emb.mean(dim=1), target)\n",
        "    loss_teacher.backward()\n",
        "    optimizer_teacher_aldi.step()\n",
        "    wandb.log({\"Model\": \"ALDI_Teacher\", \"epoch\": epoch, \"loss\": loss_teacher.item()})\n",
        "    if epoch % 10 == 0:\n",
        "        print(f\"ALDI Teacher Epoch {epoch}: Loss={loss_teacher.item():.4f}\")\n",
        "\n",
        "# Freeze teacher parameters\n",
        "for param in teacher_aldi.parameters():\n",
        "    param.requires_grad = False\n",
        "\n",
        "# --- Student Training with Knowledge Distillation ---\n",
        "student_aldi.train()\n",
        "alpha = 0.6  # weight for distillation loss; 0.4 for ground truth classification\n",
        "for epoch in range(num_epochs):\n",
        "    optimizer_student_aldi.zero_grad()\n",
        "    out_student, emb_student = student_aldi(data)\n",
        "    with torch.no_grad():\n",
        "        teacher_emb = teacher_aldi(data)\n",
        "    # Distillation loss: MSE between student and teacher embeddings.\n",
        "    loss_distill = F.mse_loss(emb_student, teacher_emb)\n",
        "    # Classification loss: cross-entropy loss against warm/cold labels.\n",
        "    loss_class = F.cross_entropy(out_student, labels)\n",
        "    loss_total = alpha * loss_distill + (1 - alpha) * loss_class\n",
        "    loss_total.backward()\n",
        "    optimizer_student_aldi.step()\n",
        "\n",
        "    preds = out_student.argmax(dim=1).cpu().numpy()\n",
        "    truelabels = labels.cpu().numpy()\n",
        "    acc = accuracy_score(truelabels, preds)\n",
        "    prec = precision_score(truelabels, preds, zero_division=0)\n",
        "    rec = recall_score(truelabels, preds, zero_division=0)\n",
        "    f1 = f1_score(truelabels, preds, zero_division=0)\n",
        "\n",
        "    wandb.log({\"Model\": \"ALDI_Student\", \"epoch\": epoch, \"loss_total\": loss_total.item(),\n",
        "               \"distill_loss\": loss_distill.item(), \"class_loss\": loss_class.item(),\n",
        "               \"accuracy\": acc, \"precision\": prec, \"recall\": rec, \"f1\": f1})\n",
        "\n",
        "    if epoch % 10 == 0:\n",
        "        print(f\"ALDI Student Epoch {epoch}: Total Loss={loss_total.item():.4f}\")\n",
        "\n",
        "results5 = {\"Model\": \"ALDI (Student)\", \"Loss\": loss_total.item(), \"Accuracy\": acc,\n",
        "            \"Precision\": prec, \"Recall\": rec, \"F1\": f1}\n",
        "print(pd.DataFrame([results5]))\n",
        "\n",
        "# Compute confusion matrix on training data\n",
        "cm = confusion_matrix(truelabels, preds)\n",
        "print(\"Confusion Matrix:\")\n",
        "print(cm)\n",
        "\n",
        "# Plot and log the confusion matrix as an image to wandb\n",
        "plt.figure(figsize=(4,4))\n",
        "plt.imshow(cm, interpolation='nearest', cmap=plt.cm.Blues)\n",
        "plt.title(\"Confusion Matrix (ALDI Student)\")\n",
        "plt.colorbar()\n",
        "tick_marks = np.arange(2)\n",
        "plt.xticks(tick_marks, [\"Cold\", \"Warm\"])\n",
        "plt.yticks(tick_marks, [\"Cold\", \"Warm\"])\n",
        "plt.xlabel(\"Predicted label\")\n",
        "plt.ylabel(\"True label\")\n",
        "plt.tight_layout()\n",
        "wandb.log({\"confusion_matrix\": wandb.Image(plt)})\n",
        "plt.show()\n",
        "\n",
        "# Finish the wandb run\n",
        "wandb.finish()\n"
      ],
      "metadata": {
        "colab": {
          "base_uri": "https://localhost:8080/",
          "height": 1000
        },
        "id": "fTQwwvn0UsTy",
        "outputId": "4aff4ab7-b1b0-48e8-fad8-111ae301bd8b"
      },
      "execution_count": 12,
      "outputs": [
        {
          "output_type": "display_data",
          "data": {
            "text/plain": [
              "<IPython.core.display.HTML object>"
            ],
            "text/html": [
              "Tracking run with wandb version 0.19.6"
            ]
          },
          "metadata": {}
        },
        {
          "output_type": "display_data",
          "data": {
            "text/plain": [
              "<IPython.core.display.HTML object>"
            ],
            "text/html": [
              "Run data is saved locally in <code>/content/wandb/run-20250226_170902-gg6f52k5</code>"
            ]
          },
          "metadata": {}
        },
        {
          "output_type": "display_data",
          "data": {
            "text/plain": [
              "<IPython.core.display.HTML object>"
            ],
            "text/html": [
              "Syncing run <strong><a href='https://wandb.ai/pearlkakande-makerere-university/book-rmodel/runs/gg6f52k5' target=\"_blank\">fine-mountain-6</a></strong> to <a href='https://wandb.ai/pearlkakande-makerere-university/book-rmodel' target=\"_blank\">Weights & Biases</a> (<a href='https://wandb.me/developer-guide' target=\"_blank\">docs</a>)<br>"
            ]
          },
          "metadata": {}
        },
        {
          "output_type": "display_data",
          "data": {
            "text/plain": [
              "<IPython.core.display.HTML object>"
            ],
            "text/html": [
              " View project at <a href='https://wandb.ai/pearlkakande-makerere-university/book-rmodel' target=\"_blank\">https://wandb.ai/pearlkakande-makerere-university/book-rmodel</a>"
            ]
          },
          "metadata": {}
        },
        {
          "output_type": "display_data",
          "data": {
            "text/plain": [
              "<IPython.core.display.HTML object>"
            ],
            "text/html": [
              " View run at <a href='https://wandb.ai/pearlkakande-makerere-university/book-rmodel/runs/gg6f52k5' target=\"_blank\">https://wandb.ai/pearlkakande-makerere-university/book-rmodel/runs/gg6f52k5</a>"
            ]
          },
          "metadata": {}
        },
        {
          "output_type": "stream",
          "name": "stderr",
          "text": [
            "<ipython-input-12-1d61451ed60b>:66: UserWarning: Using a target size (torch.Size([8000, 1])) that is different to the input size (torch.Size([8000])). This will likely lead to incorrect results due to broadcasting. Please ensure they have the same size.\n",
            "  loss_teacher = F.mse_loss(emb.mean(dim=1), target)\n"
          ]
        },
        {
          "output_type": "stream",
          "name": "stdout",
          "text": [
            "ALDI Teacher Epoch 0: Loss=16.7122\n",
            "ALDI Teacher Epoch 10: Loss=11.1823\n",
            "ALDI Teacher Epoch 20: Loss=7.0279\n",
            "ALDI Student Epoch 0: Total Loss=6212.2817\n",
            "ALDI Student Epoch 10: Total Loss=19.2652\n",
            "ALDI Student Epoch 20: Total Loss=83.8919\n",
            "            Model        Loss  Accuracy  Precision  Recall        F1\n",
            "0  ALDI (Student)  102.097397    0.6775   0.607903     1.0  0.756144\n",
            "Confusion Matrix:\n",
            "[[1420 2580]\n",
            " [   0 4000]]\n"
          ]
        },
        {
          "output_type": "display_data",
          "data": {
            "text/plain": [
              "<Figure size 400x400 with 2 Axes>"
            ],
            "image/png": "[encoded data removed]"
          },
          "metadata": {}
        },
        {
          "output_type": "display_data",
          "data": {
            "text/plain": [
              "<IPython.core.display.HTML object>"
            ],
            "text/html": []
          },
          "metadata": {}
        },
        {
          "output_type": "display_data",
          "data": {
            "text/plain": [
              "<IPython.core.display.HTML object>"
            ],
            "text/html": [
              "<br>    <style><br>        .wandb-row {<br>            display: flex;<br>            flex-direction: row;<br>            flex-wrap: wrap;<br>            justify-content: flex-start;<br>            width: 100%;<br>        }<br>        .wandb-col {<br>            display: flex;<br>            flex-direction: column;<br>            flex-basis: 100%;<br>            flex: 1;<br>            padding: 10px;<br>        }<br>    </style><br><div class=\"wandb-row\"><div class=\"wandb-col\"><h3>Run history:</h3><br/><table class=\"wandb\"><tr><td>accuracy</td><td>▅▅▅▅▄▄▃▂▁▅▅▅▅▅▅▅▅▅▅▅▅▆▇▇▇▇████</td></tr><tr><td>class_loss</td><td>█▇▆▆▅▄▃▂▁▁▁▁▁▁▁▁▁▁▁▁▁▁▁▁▁▁▁▁▁▁</td></tr><tr><td>distill_loss</td><td>█▇▇▆▆▆▅▅▄▄▄▃▃▃▃▂▂▂▂▂▂▂▂▁▁▁▁▁▁▁</td></tr><tr><td>epoch</td><td>▁▁▁▂▂▃▃▄▄▄▅▅▆▆▆▇▇▇██▁▂▂▂▃▃▃▄▄▄▅▅▆▆▆▇▇▇██</td></tr><tr><td>f1</td><td>▁▁▁▁▁▁▁▁▁▇▇▇▇▇▇▇▇▇▇▇▇▇████████</td></tr><tr><td>loss</td><td>██▇▇▇▆▆▆▅▅▅▅▄▄▄▄▃▃▃▃▂▂▂▂▂▂▁▁▁▁</td></tr><tr><td>loss_total</td><td>█▇▆▆▅▄▃▂▁▁▁▁▁▁▁▁▁▁▁▁▁▁▁▁▁▁▁▁▁▁</td></tr><tr><td>precision</td><td>▁▁▁▁▁▁▁▁▁▇▇▇▇▇▇▇▇▇▇▇▇▇▇███████</td></tr><tr><td>recall</td><td>▁▁▁▁▁▁▁▁▁█████████████████████</td></tr></table><br/></div><div class=\"wandb-col\"><h3>Run summary:</h3><br/><table class=\"wandb\"><tr><td>Model</td><td>ALDI_Student</td></tr><tr><td>accuracy</td><td>0.6775</td></tr><tr><td>class_loss</td><td>254.44095</td></tr><tr><td>distill_loss</td><td>0.53503</td></tr><tr><td>epoch</td><td>29</td></tr><tr><td>f1</td><td>0.75614</td></tr><tr><td>loss</td><td>4.43753</td></tr><tr><td>loss_total</td><td>102.0974</td></tr><tr><td>precision</td><td>0.6079</td></tr><tr><td>recall</td><td>1</td></tr></table><br/></div></div>"
            ]
          },
          "metadata": {}
        },
        {
          "output_type": "display_data",
          "data": {
            "text/plain": [
              "<IPython.core.display.HTML object>"
            ],
            "text/html": [
              " View run <strong style=\"color:#cdcd00\">fine-mountain-6</strong> at: <a href='https://wandb.ai/pearlkakande-makerere-university/book-rmodel/runs/gg6f52k5' target=\"_blank\">https://wandb.ai/pearlkakande-makerere-university/book-rmodel/runs/gg6f52k5</a><br> View project at: <a href='https://wandb.ai/pearlkakande-makerere-university/book-rmodel' target=\"_blank\">https://wandb.ai/pearlkakande-makerere-university/book-rmodel</a><br>Synced 5 W&B file(s), 1 media file(s), 0 artifact file(s) and 0 other file(s)"
            ]
          },
          "metadata": {}
        },
        {
          "output_type": "display_data",
          "data": {
            "text/plain": [
              "<IPython.core.display.HTML object>"
            ],
            "text/html": [
              "Find logs at: <code>./wandb/run-20250226_170902-gg6f52k5/logs</code>"
            ]
          },
          "metadata": {}
        }
      ]
    },
    {
      "cell_type": "markdown",
      "source": [
        "MODEL 6 Meta-Learning on Knowledge Graph (MetaKG)"
      ],
      "metadata": {
        "id": "9Q0c1YBSWXX2"
      }
    },
    {
      "cell_type": "code",
      "source": [
        "import torch\n",
        "import torch.nn.functional as F\n",
        "from torch_geometric.nn import GCNConv\n",
        "from torch import nn\n",
        "from torch_geometric.utils import subgraph\n",
        "from sklearn.metrics import accuracy_score, precision_score, recall_score, f1_score, confusion_matrix\n",
        "import pandas as pd\n",
        "import wandb\n",
        "import matplotlib.pyplot as plt\n",
        "import numpy as np\n",
        "\n",
        "# Initialize wandb before training the model\n",
        "wandb.init(project=\"book-rmodel\",    # Replace with your project name\n",
        "           entity=\"pearlkakande-makerere-university\",  # Replace with your wandb username or team name\n",
        "           config={\"model\": \"MetaKG\", \"epochs\": 30, \"learning_rate\": 0.01})\n",
        "\n",
        "# Define warm items based on ratings_count > threshold.\n",
        "threshold = train_df['Num_Ratings'].median()\n",
        "labels = (train_df['Num_Ratings'] > threshold).astype(int).values\n",
        "labels = torch.tensor(labels, dtype=torch.long)\n",
        "\n",
        "class MetaGNN(nn.Module):\n",
        "    def __init__(self, in_channels, hidden_channels):\n",
        "        super(MetaGNN, self).__init__()\n",
        "        self.conv1 = GCNConv(in_channels, hidden_channels)\n",
        "        self.conv2 = GCNConv(hidden_channels, hidden_channels)\n",
        "        self.lin = nn.Linear(hidden_channels + 1, 2)\n",
        "\n",
        "    def forward(self, data):\n",
        "        x = F.relu(self.conv1(data['book'].x, data['book', 'similar_to', 'book'].edge_index))\n",
        "        x = self.conv2(x, data['book', 'similar_to', 'book'].edge_index)\n",
        "        ratings = data['book'].ratings_count.unsqueeze(1)\n",
        "        x_cat = torch.cat([x, ratings], dim=1)\n",
        "        out = self.lin(x_cat)\n",
        "        return out, x\n",
        "\n",
        "# Sampling function for meta-learning tasks with proper edge re-indexing\n",
        "def sample_task(data, labels, task_size=100):\n",
        "    idx = torch.randperm(data['book'].x.size(0))[:task_size]\n",
        "    task_data = data.clone()\n",
        "    # Subset node features and ratings\n",
        "    task_data['book'].x = data['book'].x[idx]\n",
        "    task_data['book'].ratings_count = data['book'].ratings_count[idx]\n",
        "    # Adjust edge indices for the sampled subgraph using subgraph utility\n",
        "    orig_edge_index = data['book', 'similar_to', 'book'].edge_index\n",
        "    new_edge_index, _ = subgraph(idx, orig_edge_index, relabel_nodes=True, num_nodes=data['book'].x.size(0))\n",
        "    task_data['book', 'similar_to', 'book'].edge_index = new_edge_index\n",
        "    return task_data, labels[idx]\n",
        "\n",
        "# Set device and create model instance\n",
        "device = torch.device('cuda' if torch.cuda.is_available() else 'cpu')\n",
        "meta_model = MetaGNN(in_channels=data['book'].x.size(1), hidden_channels=64).to(device)\n",
        "meta_optimizer = torch.optim.Adam(meta_model.parameters(), lr=0.005)\n",
        "\n",
        "# Move data and labels to device\n",
        "data['book'].x = data['book'].x.to(device)\n",
        "data['book', 'similar_to', 'book'].edge_index = data['book', 'similar_to', 'book'].edge_index.to(device)\n",
        "data['book'].ratings_count = data['book'].ratings_count.to(device)\n",
        "labels = labels.to(device)\n",
        "\n",
        "meta_epochs = 30\n",
        "meta_tasks = 5  # number of tasks per epoch\n",
        "\n",
        "meta_model.train()\n",
        "all_preds, all_labels = [], []\n",
        "for epoch in range(meta_epochs):\n",
        "    meta_loss = 0\n",
        "    epoch_preds, epoch_labels = [], []\n",
        "\n",
        "    for _ in range(meta_tasks):\n",
        "        task_data, task_labels = sample_task(data, labels, task_size=100)\n",
        "        task_data['book'].x = task_data['book'].x.to(device)\n",
        "        task_data['book', 'similar_to', 'book'].edge_index = task_data['book', 'similar_to', 'book'].edge_index.to(device)\n",
        "        task_data['book'].ratings_count = task_data['book'].ratings_count.to(device)\n",
        "        task_labels = task_labels.to(device)\n",
        "\n",
        "        out, _ = meta_model(task_data)\n",
        "        loss = F.cross_entropy(out, task_labels)\n",
        "        meta_loss += loss\n",
        "\n",
        "        preds = out.argmax(dim=1).cpu().numpy()\n",
        "        true_labels = task_labels.cpu().numpy()\n",
        "        epoch_preds.extend(preds)\n",
        "        epoch_labels.extend(true_labels)\n",
        "\n",
        "    meta_loss /= meta_tasks\n",
        "    meta_optimizer.zero_grad()\n",
        "    meta_loss.backward()\n",
        "    meta_optimizer.step()\n",
        "\n",
        "    # Compute metrics for the current epoch\n",
        "    acc = accuracy_score(epoch_labels, epoch_preds)\n",
        "    prec = precision_score(epoch_labels, epoch_preds, zero_division=0)\n",
        "    rec = recall_score(epoch_labels, epoch_preds, zero_division=0)\n",
        "    f1 = f1_score(epoch_labels, epoch_preds, zero_division=0)\n",
        "\n",
        "    wandb.log({\"Model\": \"MetaKG\", \"epoch\": epoch, \"loss\": meta_loss.item(),\n",
        "               \"accuracy\": acc, \"precision\": prec, \"recall\": rec, \"f1\": f1})\n",
        "\n",
        "    if epoch % 10 == 0:\n",
        "        print(f\"MetaKG Epoch {epoch}: Loss={meta_loss.item():.4f}, Acc={acc:.4f}\")\n",
        "\n",
        "    all_preds.extend(epoch_preds)\n",
        "    all_labels.extend(epoch_labels)\n",
        "\n",
        "# Compute confusion matrix on training data (across all tasks)\n",
        "cm = confusion_matrix(all_labels, all_preds)\n",
        "print(\"Confusion Matrix:\")\n",
        "print(cm)\n",
        "\n",
        "# Plot and log the confusion matrix as an image to wandb\n",
        "plt.figure(figsize=(4,4))\n",
        "plt.imshow(cm, interpolation='nearest', cmap=plt.cm.Blues)\n",
        "plt.title(\"Confusion Matrix (MetaKG)\")\n",
        "plt.colorbar()\n",
        "tick_marks = np.arange(2)\n",
        "plt.xticks(tick_marks, [\"Cold\", \"Warm\"])\n",
        "plt.yticks(tick_marks, [\"Cold\", \"Warm\"])\n",
        "plt.xlabel(\"Predicted label\")\n",
        "plt.ylabel(\"True label\")\n",
        "plt.tight_layout()\n",
        "wandb.log({\"confusion_matrix\": wandb.Image(plt)})\n",
        "plt.show()\n",
        "\n",
        "results6 = {\"Model\": \"MetaKG\", \"Loss\": meta_loss.item()}\n",
        "print(pd.DataFrame([results6]))\n",
        "\n",
        "wandb.finish()\n"
      ],
      "metadata": {
        "colab": {
          "base_uri": "https://localhost:8080/",
          "height": 1000
        },
        "id": "AmGlBnbdsJGo",
        "outputId": "5f30d118-a798-45cf-d7dd-a458f4fb86ec"
      },
      "execution_count": 14,
      "outputs": [
        {
          "output_type": "display_data",
          "data": {
            "text/plain": [
              "<IPython.core.display.HTML object>"
            ],
            "text/html": [
              "Tracking run with wandb version 0.19.6"
            ]
          },
          "metadata": {}
        },
        {
          "output_type": "display_data",
          "data": {
            "text/plain": [
              "<IPython.core.display.HTML object>"
            ],
            "text/html": [
              "Run data is saved locally in <code>/content/wandb/run-20250226_171308-457yw0uv</code>"
            ]
          },
          "metadata": {}
        },
        {
          "output_type": "display_data",
          "data": {
            "text/plain": [
              "<IPython.core.display.HTML object>"
            ],
            "text/html": [
              "Syncing run <strong><a href='https://wandb.ai/pearlkakande-makerere-university/book-rmodel/runs/457yw0uv' target=\"_blank\">neat-bush-7</a></strong> to <a href='https://wandb.ai/pearlkakande-makerere-university/book-rmodel' target=\"_blank\">Weights & Biases</a> (<a href='https://wandb.me/developer-guide' target=\"_blank\">docs</a>)<br>"
            ]
          },
          "metadata": {}
        },
        {
          "output_type": "display_data",
          "data": {
            "text/plain": [
              "<IPython.core.display.HTML object>"
            ],
            "text/html": [
              " View project at <a href='https://wandb.ai/pearlkakande-makerere-university/book-rmodel' target=\"_blank\">https://wandb.ai/pearlkakande-makerere-university/book-rmodel</a>"
            ]
          },
          "metadata": {}
        },
        {
          "output_type": "display_data",
          "data": {
            "text/plain": [
              "<IPython.core.display.HTML object>"
            ],
            "text/html": [
              " View run at <a href='https://wandb.ai/pearlkakande-makerere-university/book-rmodel/runs/457yw0uv' target=\"_blank\">https://wandb.ai/pearlkakande-makerere-university/book-rmodel/runs/457yw0uv</a>"
            ]
          },
          "metadata": {}
        },
        {
          "output_type": "stream",
          "name": "stdout",
          "text": [
            "MetaKG Epoch 0: Loss=68.4957, Acc=0.5160\n",
            "MetaKG Epoch 10: Loss=27.4309, Acc=0.6840\n",
            "MetaKG Epoch 20: Loss=47.1830, Acc=0.7700\n",
            "Confusion Matrix:\n",
            "[[3409 4079]\n",
            " [ 486 7026]]\n"
          ]
        },
        {
          "output_type": "display_data",
          "data": {
            "text/plain": [
              "<Figure size 400x400 with 2 Axes>"
            ],
            "image/png": "[encoded data removed]"
          },
          "metadata": {}
        },
        {
          "output_type": "stream",
          "name": "stdout",
          "text": [
            "    Model       Loss\n",
            "0  MetaKG  55.467567\n"
          ]
        },
        {
          "output_type": "display_data",
          "data": {
            "text/plain": [
              "<IPython.core.display.HTML object>"
            ],
            "text/html": []
          },
          "metadata": {}
        },
        {
          "output_type": "display_data",
          "data": {
            "text/plain": [
              "<IPython.core.display.HTML object>"
            ],
            "text/html": [
              "<br>    <style><br>        .wandb-row {<br>            display: flex;<br>            flex-direction: row;<br>            flex-wrap: wrap;<br>            justify-content: flex-start;<br>            width: 100%;<br>        }<br>        .wandb-col {<br>            display: flex;<br>            flex-direction: column;<br>            flex-basis: 100%;<br>            flex: 1;<br>            padding: 10px;<br>        }<br>    </style><br><div class=\"wandb-row\"><div class=\"wandb-col\"><h3>Run history:</h3><br/><table class=\"wandb\"><tr><td>accuracy</td><td>▁▂▃▄█▁▁▇▆▆▅▅▅▆▅▆▆▆▆▆▇▆█▇▇██▇██</td></tr><tr><td>epoch</td><td>▁▁▁▂▂▂▂▃▃▃▃▄▄▄▄▅▅▅▅▆▆▆▆▇▇▇▇███</td></tr><tr><td>f1</td><td>▇▇▇▇█▁▁██▇▇▇▇▇▇▇▇▇████████████</td></tr><tr><td>loss</td><td>▂▁▁▁▁█▄▁▁▁▁▁▁▁▂▁▂▂▂▂▁▂▁▂▂▂▂▂▂▂</td></tr><tr><td>precision</td><td>▆▆▇▇█▁▁▇▇▇▇▇▇▇▇▇▇▇▇▇█▇██▇█████</td></tr><tr><td>recall</td><td>█████▁▁███████████████████████</td></tr></table><br/></div><div class=\"wandb-col\"><h3>Run summary:</h3><br/><table class=\"wandb\"><tr><td>Model</td><td>MetaKG</td></tr><tr><td>accuracy</td><td>0.778</td></tr><tr><td>epoch</td><td>29</td></tr><tr><td>f1</td><td>0.81531</td></tr><tr><td>loss</td><td>55.46757</td></tr><tr><td>precision</td><td>0.6882</td></tr><tr><td>recall</td><td>1</td></tr></table><br/></div></div>"
            ]
          },
          "metadata": {}
        },
        {
          "output_type": "display_data",
          "data": {
            "text/plain": [
              "<IPython.core.display.HTML object>"
            ],
            "text/html": [
              " View run <strong style=\"color:#cdcd00\">neat-bush-7</strong> at: <a href='https://wandb.ai/pearlkakande-makerere-university/book-rmodel/runs/457yw0uv' target=\"_blank\">https://wandb.ai/pearlkakande-makerere-university/book-rmodel/runs/457yw0uv</a><br> View project at: <a href='https://wandb.ai/pearlkakande-makerere-university/book-rmodel' target=\"_blank\">https://wandb.ai/pearlkakande-makerere-university/book-rmodel</a><br>Synced 5 W&B file(s), 1 media file(s), 0 artifact file(s) and 0 other file(s)"
            ]
          },
          "metadata": {}
        },
        {
          "output_type": "display_data",
          "data": {
            "text/plain": [
              "<IPython.core.display.HTML object>"
            ],
            "text/html": [
              "Find logs at: <code>./wandb/run-20250226_171308-457yw0uv/logs</code>"
            ]
          },
          "metadata": {}
        }
      ]
    },
    {
      "cell_type": "markdown",
      "source": [
        "MODEL 7Graph Neural Network with Pseudo-Labelling over Knowledge Graph"
      ],
      "metadata": {
        "id": "XUmdxgSdujRi"
      }
    },
    {
      "cell_type": "code",
      "source": [
        "import torch\n",
        "import torch.nn.functional as F\n",
        "from torch_geometric.nn import GCNConv\n",
        "from torch import nn\n",
        "from sklearn.metrics import accuracy_score, precision_score, recall_score, f1_score, confusion_matrix\n",
        "import pandas as pd\n",
        "import wandb\n",
        "import matplotlib.pyplot as plt\n",
        "import numpy as np\n",
        "\n",
        "# Initialize wandb before training the model with increased timeout\n",
        "wandb.init(project=\"book-rmodel\",    # Replace with your project name\n",
        "           entity=\"pearlkakande-makerere-university\",  # Replace with your wandb username or team name\n",
        "           config={\"model\": \"PseudoLabelGNN\", \"epochs\": 30, \"learning_rate\": 0.01},\n",
        "           settings=wandb.Settings(init_timeout=300))  # Increase timeout to 300 sec\n",
        "\n",
        "# Define warm items based on ratings_count > threshold.\n",
        "threshold = train_df['Num_Ratings'].median()\n",
        "labels = (train_df['Num_Ratings'] > threshold).astype(int).values\n",
        "labels = torch.tensor(labels, dtype=torch.long)\n",
        "\n",
        "class PseudoLabelGNN(nn.Module):\n",
        "    def __init__(self, in_channels, hidden_channels):\n",
        "        super(PseudoLabelGNN, self).__init__()\n",
        "        self.conv1 = GCNConv(in_channels, hidden_channels)\n",
        "        self.conv2 = GCNConv(hidden_channels, hidden_channels)\n",
        "        self.lin = nn.Linear(hidden_channels + 1, 2)\n",
        "\n",
        "    def forward(self, data):\n",
        "        x = F.relu(self.conv1(data['book'].x, data['book', 'similar_to', 'book'].edge_index))\n",
        "        x = self.conv2(x, data['book', 'similar_to', 'book'].edge_index)\n",
        "        ratings = data['book'].ratings_count.unsqueeze(1)\n",
        "        x_cat = torch.cat([x, ratings], dim=1)\n",
        "        out = self.lin(x_cat)\n",
        "        return out\n",
        "\n",
        "model7 = PseudoLabelGNN(in_channels=data['book'].x.size(1), hidden_channels=64).to(device)\n",
        "optimizer7 = torch.optim.Adam(model7.parameters(), lr=0.005)\n",
        "\n",
        "# In each epoch, we generate pseudo-labels for books with low ratings_count.\n",
        "def generate_pseudo_labels(data, threshold_value=20):\n",
        "    # For simplicity, label as 1 (warm) if ratings_count > threshold_value else 0.\n",
        "    pseudo = (data['book'].ratings_count > threshold_value).long()\n",
        "    return pseudo\n",
        "\n",
        "model7.train()\n",
        "for epoch in range(num_epochs):\n",
        "    optimizer7.zero_grad()\n",
        "    pseudo_labels = generate_pseudo_labels(data)  # using a fixed threshold of 20\n",
        "    out = model7(data)\n",
        "    loss = F.cross_entropy(out, pseudo_labels.to(device))\n",
        "    loss.backward()\n",
        "    optimizer7.step()\n",
        "\n",
        "    preds = out.argmax(dim=1).cpu().numpy()\n",
        "    true_labels = pseudo_labels.cpu().numpy()\n",
        "    acc = accuracy_score(true_labels, preds)\n",
        "    prec = precision_score(true_labels, preds, zero_division=0)\n",
        "    rec = recall_score(true_labels, preds, zero_division=0)\n",
        "    f1 = f1_score(true_labels, preds, zero_division=0)\n",
        "\n",
        "    wandb.log({\n",
        "        \"Model\": \"PseudoLabelGNN\",\n",
        "        \"epoch\": epoch,\n",
        "        \"loss\": loss.item(),\n",
        "        \"accuracy\": acc,\n",
        "        \"precision\": prec,\n",
        "        \"recall\": rec,\n",
        "        \"f1\": f1\n",
        "    })\n",
        "\n",
        "    if epoch % 10 == 0:\n",
        "        print(f\"PseudoLabelGNN Epoch {epoch}: Loss={loss.item():.4f}\")\n",
        "\n",
        "results7 = {\"Model\": \"PseudoLabelGNN\", \"Loss\": loss.item(), \"Accuracy\": acc,\n",
        "            \"Precision\": prec, \"Recall\": rec, \"F1\": f1}\n",
        "print(pd.DataFrame([results7]))\n",
        "\n",
        "# Compute confusion matrix on training data\n",
        "cm = confusion_matrix(true_labels, preds)\n",
        "print(\"Confusion Matrix:\")\n",
        "print(cm)\n",
        "\n",
        "# Plot and log the confusion matrix as a plot to wandb\n",
        "plt.figure(figsize=(4,4))\n",
        "plt.imshow(cm, interpolation='nearest', cmap=plt.cm.Blues)\n",
        "plt.title(\"Confusion Matrix (PseudoLabelGNN)\")\n",
        "plt.colorbar()\n",
        "tick_marks = np.arange(2)\n",
        "plt.xticks(tick_marks, [\"Cold\", \"Warm\"])\n",
        "plt.yticks(tick_marks, [\"Cold\", \"Warm\"])\n",
        "plt.xlabel(\"Predicted label\")\n",
        "plt.ylabel(\"True label\")\n",
        "plt.tight_layout()\n",
        "wandb.log({\"confusion_matrix\": wandb.Image(plt)})\n",
        "plt.show()\n",
        "\n",
        "# Finish the wandb run\n",
        "wandb.finish()\n"
      ],
      "metadata": {
        "colab": {
          "base_uri": "https://localhost:8080/",
          "height": 437,
          "referenced_widgets": [
            "12feec7ff1824532a12abaae559371a3",
            "e88eaff76baf400ea942c273decf7eb2",
            "10a4c5c3907146ffbe84fdbde76fc727",
            "24e8fa91736e4baa83e1bad1990d6092",
            "e525effe0b1f43dfb1e6112095a900cc",
            "d014e149b8b34d278eae24030dd61e95",
            "75fd8fde301b4e6290cf8c75f699d35c",
            "5675a5eee68e4f708a3e0e1454c291b6"
          ]
        },
        "id": "62ODhRNU6rHz",
        "outputId": "3e331aa3-1f80-46a5-8ecf-cfce7bf14d61"
      },
      "execution_count": 21,
      "outputs": [
        {
          "output_type": "display_data",
          "data": {
            "text/plain": [
              "VBox(children=(Label(value='Waiting for wandb.init()...\\r'), FloatProgress(value=0.0033339265500004936, max=1.…"
            ],
            "application/vnd.jupyter.widget-view+json": {
              "version_major": 2,
              "version_minor": 0,
              "model_id": "12feec7ff1824532a12abaae559371a3"
            }
          },
          "metadata": {}
        },
        {
          "output_type": "error",
          "ename": "CommError",
          "evalue": "Run initialization has timed out after 300.0 sec. Please try increasing the timeout with the `init_timeout` setting: `wandb.init(settings=wandb.Settings(init_timeout=120))`.",
          "traceback": [
            "\u001b[0;31m---------------------------------------------------------------------------\u001b[0m",
            "\u001b[0;31mCommError\u001b[0m                                 Traceback (most recent call last)",
            "\u001b[0;32m<ipython-input-21-b3fb4f913b2d>\u001b[0m in \u001b[0;36m<cell line: 0>\u001b[0;34m()\u001b[0m\n\u001b[1;32m     10\u001b[0m \u001b[0;34m\u001b[0m\u001b[0m\n\u001b[1;32m     11\u001b[0m \u001b[0;31m# Initialize wandb before training the model with increased timeout\u001b[0m\u001b[0;34m\u001b[0m\u001b[0;34m\u001b[0m\u001b[0m\n\u001b[0;32m---> 12\u001b[0;31m wandb.init(project=\"book-rmodel\",    # Replace with your project name\n\u001b[0m\u001b[1;32m     13\u001b[0m            \u001b[0mentity\u001b[0m\u001b[0;34m=\u001b[0m\u001b[0;34m\"pearlkakande-makerere-university\"\u001b[0m\u001b[0;34m,\u001b[0m  \u001b[0;31m# Replace with your wandb username or team name\u001b[0m\u001b[0;34m\u001b[0m\u001b[0;34m\u001b[0m\u001b[0m\n\u001b[1;32m     14\u001b[0m            \u001b[0mconfig\u001b[0m\u001b[0;34m=\u001b[0m\u001b[0;34m{\u001b[0m\u001b[0;34m\"model\"\u001b[0m\u001b[0;34m:\u001b[0m \u001b[0;34m\"PseudoLabelGNN\"\u001b[0m\u001b[0;34m,\u001b[0m \u001b[0;34m\"epochs\"\u001b[0m\u001b[0;34m:\u001b[0m \u001b[0;36m30\u001b[0m\u001b[0;34m,\u001b[0m \u001b[0;34m\"learning_rate\"\u001b[0m\u001b[0;34m:\u001b[0m \u001b[0;36m0.01\u001b[0m\u001b[0;34m}\u001b[0m\u001b[0;34m,\u001b[0m\u001b[0;34m\u001b[0m\u001b[0;34m\u001b[0m\u001b[0m\n",
            "\u001b[0;32m/usr/local/lib/python3.11/dist-packages/wandb/sdk/wandb_init.py\u001b[0m in \u001b[0;36minit\u001b[0;34m(entity, project, dir, id, name, notes, tags, config, config_exclude_keys, config_include_keys, allow_val_change, group, job_type, mode, force, anonymous, reinit, resume, resume_from, fork_from, save_code, tensorboard, sync_tensorboard, monitor_gym, settings)\u001b[0m\n\u001b[1;32m   1483\u001b[0m         \u001b[0;31m# Need to build delay into this sentry capture because our exit hooks\u001b[0m\u001b[0;34m\u001b[0m\u001b[0;34m\u001b[0m\u001b[0m\n\u001b[1;32m   1484\u001b[0m         \u001b[0;31m# mess with sentry's ability to send out errors before the program ends.\u001b[0m\u001b[0;34m\u001b[0m\u001b[0;34m\u001b[0m\u001b[0m\n\u001b[0;32m-> 1485\u001b[0;31m         \u001b[0mwandb\u001b[0m\u001b[0;34m.\u001b[0m\u001b[0m_sentry\u001b[0m\u001b[0;34m.\u001b[0m\u001b[0mreraise\u001b[0m\u001b[0;34m(\u001b[0m\u001b[0me\u001b[0m\u001b[0;34m)\u001b[0m\u001b[0;34m\u001b[0m\u001b[0;34m\u001b[0m\u001b[0m\n\u001b[0m\u001b[1;32m   1486\u001b[0m         \u001b[0;32mraise\u001b[0m \u001b[0mAssertionError\u001b[0m\u001b[0;34m(\u001b[0m\u001b[0;34m)\u001b[0m  \u001b[0;31m# should never get here\u001b[0m\u001b[0;34m\u001b[0m\u001b[0;34m\u001b[0m\u001b[0m\n",
            "\u001b[0;32m/usr/local/lib/python3.11/dist-packages/wandb/analytics/sentry.py\u001b[0m in \u001b[0;36mreraise\u001b[0;34m(self, exc)\u001b[0m\n\u001b[1;32m    154\u001b[0m         \u001b[0;31m# this will messily add this \"reraise\" function to the stack trace,\u001b[0m\u001b[0;34m\u001b[0m\u001b[0;34m\u001b[0m\u001b[0m\n\u001b[1;32m    155\u001b[0m         \u001b[0;31m# but hopefully it's not too bad\u001b[0m\u001b[0;34m\u001b[0m\u001b[0;34m\u001b[0m\u001b[0m\n\u001b[0;32m--> 156\u001b[0;31m         \u001b[0;32mraise\u001b[0m \u001b[0mexc\u001b[0m\u001b[0;34m.\u001b[0m\u001b[0mwith_traceback\u001b[0m\u001b[0;34m(\u001b[0m\u001b[0msys\u001b[0m\u001b[0;34m.\u001b[0m\u001b[0mexc_info\u001b[0m\u001b[0;34m(\u001b[0m\u001b[0;34m)\u001b[0m\u001b[0;34m[\u001b[0m\u001b[0;36m2\u001b[0m\u001b[0;34m]\u001b[0m\u001b[0;34m)\u001b[0m\u001b[0;34m\u001b[0m\u001b[0;34m\u001b[0m\u001b[0m\n\u001b[0m\u001b[1;32m    157\u001b[0m \u001b[0;34m\u001b[0m\u001b[0m\n\u001b[1;32m    158\u001b[0m     \u001b[0;34m@\u001b[0m\u001b[0m_safe_noop\u001b[0m\u001b[0;34m\u001b[0m\u001b[0;34m\u001b[0m\u001b[0m\n",
            "\u001b[0;32m/usr/local/lib/python3.11/dist-packages/wandb/sdk/wandb_init.py\u001b[0m in \u001b[0;36minit\u001b[0;34m(entity, project, dir, id, name, notes, tags, config, config_exclude_keys, config_include_keys, allow_val_change, group, job_type, mode, force, anonymous, reinit, resume, resume_from, fork_from, save_code, tensorboard, sync_tensorboard, monitor_gym, settings)\u001b[0m\n\u001b[1;32m   1469\u001b[0m             \u001b[0minit_telemetry\u001b[0m\u001b[0;34m.\u001b[0m\u001b[0mfeature\u001b[0m\u001b[0;34m.\u001b[0m\u001b[0mtensorboard_sync\u001b[0m \u001b[0;34m=\u001b[0m \u001b[0;32mTrue\u001b[0m\u001b[0;34m\u001b[0m\u001b[0;34m\u001b[0m\u001b[0m\n\u001b[1;32m   1470\u001b[0m \u001b[0;34m\u001b[0m\u001b[0m\n\u001b[0;32m-> 1471\u001b[0;31m         \u001b[0;32mreturn\u001b[0m \u001b[0mwi\u001b[0m\u001b[0;34m.\u001b[0m\u001b[0minit\u001b[0m\u001b[0;34m(\u001b[0m\u001b[0mrun_settings\u001b[0m\u001b[0;34m,\u001b[0m \u001b[0mrun_config\u001b[0m\u001b[0;34m)\u001b[0m\u001b[0;34m\u001b[0m\u001b[0;34m\u001b[0m\u001b[0m\n\u001b[0m\u001b[1;32m   1472\u001b[0m \u001b[0;34m\u001b[0m\u001b[0m\n\u001b[1;32m   1473\u001b[0m     \u001b[0;32mexcept\u001b[0m \u001b[0mKeyboardInterrupt\u001b[0m \u001b[0;32mas\u001b[0m \u001b[0me\u001b[0m\u001b[0;34m:\u001b[0m\u001b[0;34m\u001b[0m\u001b[0;34m\u001b[0m\u001b[0m\n",
            "\u001b[0;32m/usr/local/lib/python3.11/dist-packages/wandb/sdk/wandb_init.py\u001b[0m in \u001b[0;36minit\u001b[0;34m(self, settings, config)\u001b[0m\n\u001b[1;32m    958\u001b[0m                 \u001b[0;31m# or a bug in the SDK (an Error). We cannot distinguish between\u001b[0m\u001b[0;34m\u001b[0m\u001b[0;34m\u001b[0m\u001b[0m\n\u001b[1;32m    959\u001b[0m                 \u001b[0;31m# the two causes here.\u001b[0m\u001b[0;34m\u001b[0m\u001b[0;34m\u001b[0m\u001b[0m\n\u001b[0;32m--> 960\u001b[0;31m                 raise CommError(\n\u001b[0m\u001b[1;32m    961\u001b[0m                     \u001b[0;34mf\"Run initialization has timed out after {timeout} sec.\"\u001b[0m\u001b[0;34m\u001b[0m\u001b[0;34m\u001b[0m\u001b[0m\n\u001b[1;32m    962\u001b[0m                     \u001b[0;34m\" Please try increasing the timeout with the `init_timeout`\"\u001b[0m\u001b[0;34m\u001b[0m\u001b[0;34m\u001b[0m\u001b[0m\n",
            "\u001b[0;31mCommError\u001b[0m: Run initialization has timed out after 300.0 sec. Please try increasing the timeout with the `init_timeout` setting: `wandb.init(settings=wandb.Settings(init_timeout=120))`."
          ]
        }
      ]
    },
    {
      "cell_type": "markdown",
      "source": [
        "MODEL 8  BERT-based Content Feature Learning"
      ],
      "metadata": {
        "id": "HobI1oNP9he5"
      }
    },
    {
      "cell_type": "code",
      "source": [
        "from transformers import DistilBertTokenizer, DistilBertForSequenceClassification, Trainer, TrainingArguments\n",
        "import wandb\n",
        "import torch\n",
        "import numpy as np\n",
        "import pandas as pd\n",
        "from sklearn.metrics import accuracy_score, precision_score, recall_score, f1_score, confusion_matrix\n",
        "import matplotlib.pyplot as plt\n",
        "\n",
        "# Initialize wandb before training the model\n",
        "wandb.init(project=\"book-model\",    # Replace with your project name\n",
        "           entity=\"pearlkakande-makerere-university\",  # Replace with your wandb username or team name\n",
        "           config={\"model\": \"BERT\", \"epochs\": 30, \"learning_rate\": 5e-5})\n",
        "\n",
        "# Define warm items based on ratings_count > threshold.\n",
        "# Here, we define a threshold based on the median of Num_Ratings in the training set.\n",
        "threshold = train_df['Num_Ratings'].median()\n",
        "\n",
        "# Fix the error by converting test_df['Num_Ratings'] to string before replacing commas.\n",
        "test_df['Num_Ratings'] = test_df['Num_Ratings'].astype(str).str.replace(',', '').astype(float)\n",
        "\n",
        "# Prepare the dataset for transformers (we assume Description and labels are available)\n",
        "train_texts = train_df['Description'].fillna(\"\").tolist()\n",
        "train_labels = ((train_df['Num_Ratings'] > threshold).astype(int)).tolist()\n",
        "test_texts = test_df['Description'].fillna(\"\").tolist()\n",
        "test_labels = ((test_df['Num_Ratings'] > threshold).astype(int)).tolist()\n",
        "\n",
        "tokenizer = DistilBertTokenizer.from_pretrained('distilbert-base-uncased')\n",
        "\n",
        "def tokenize_function(examples):\n",
        "    return tokenizer(examples, truncation=True, padding=\"max_length\", max_length=128)\n",
        "\n",
        "# Tokenize texts\n",
        "train_encodings = tokenizer(train_texts, truncation=True, padding=True, max_length=128)\n",
        "test_encodings = tokenizer(test_texts, truncation=True, padding=True, max_length=128)\n",
        "\n",
        "import datasets as ds\n",
        "train_dataset = ds.Dataset.from_dict({\n",
        "    'input_ids': train_encodings['input_ids'],\n",
        "    'attention_mask': train_encodings['attention_mask'],\n",
        "    'labels': train_labels\n",
        "})\n",
        "test_dataset = ds.Dataset.from_dict({\n",
        "    'input_ids': test_encodings['input_ids'],\n",
        "    'attention_mask': test_encodings['attention_mask'],\n",
        "    'labels': test_labels\n",
        "})\n",
        "\n",
        "# Load the pre-trained model for sequence classification.\n",
        "model8 = DistilBertForSequenceClassification.from_pretrained('distilbert-base-uncased', num_labels=2).to(torch.device(\"cuda\" if torch.cuda.is_available() else \"cpu\"))\n",
        "\n",
        "# Define training arguments\n",
        "training_args = TrainingArguments(\n",
        "    output_dir='./results',\n",
        "    num_train_epochs=30,\n",
        "    per_device_train_batch_size=16,\n",
        "    per_device_eval_batch_size=16,\n",
        "    evaluation_strategy=\"epoch\",\n",
        "    logging_dir='./logs',\n",
        "    report_to=\"wandb\"  # Logs metrics to wandb\n",
        ")\n",
        "\n",
        "# Define a function to compute metrics\n",
        "def compute_metrics(p):\n",
        "    preds = np.argmax(p.predictions, axis=1)\n",
        "    acc = accuracy_score(p.label_ids, preds)\n",
        "    prec = precision_score(p.label_ids, preds, zero_division=0)\n",
        "    rec = recall_score(p.label_ids, preds, zero_division=0)\n",
        "    f1 = f1_score(p.label_ids, preds, zero_division=0)\n",
        "    return {\"accuracy\": acc, \"precision\": prec, \"recall\": rec, \"f1\": f1}\n",
        "\n",
        "from transformers import Trainer\n",
        "\n",
        "trainer = Trainer(\n",
        "    model=model8,\n",
        "    args=training_args,\n",
        "    train_dataset=train_dataset,\n",
        "    eval_dataset=test_dataset,\n",
        "    compute_metrics=compute_metrics\n",
        ")\n",
        "\n",
        "# Train the model\n",
        "trainer.train()\n",
        "eval_results = trainer.evaluate()\n",
        "print(eval_results)\n",
        "\n",
        "# Compute predictions for the confusion matrix\n",
        "predictions = trainer.predict(test_dataset)\n",
        "preds = np.argmax(predictions.predictions, axis=1)\n",
        "cm = confusion_matrix(test_labels, preds)\n",
        "print(\"Confusion Matrix:\")\n",
        "print(cm)\n",
        "\n",
        "# Plot and log the confusion matrix as a plot to wandb\n",
        "plt.figure(figsize=(4,4))\n",
        "plt.imshow(cm, interpolation='nearest', cmap=plt.cm.Blues)\n",
        "plt.title(\"Confusion Matrix (BERT)\")\n",
        "plt.colorbar()\n",
        "tick_marks = np.arange(2)\n",
        "plt.xticks(tick_marks, [\"Non-fiction\", \"Fiction\"])\n",
        "plt.yticks(tick_marks, [\"Non-fiction\", \"Fiction\"])\n",
        "plt.xlabel(\"Predicted label\")\n",
        "plt.ylabel(\"True label\")\n",
        "plt.tight_layout()\n",
        "wandb.log({\"confusion_matrix\": wandb.Image(plt)})\n",
        "plt.show()\n",
        "\n",
        "wandb.finish()\n"
      ],
      "metadata": {
        "colab": {
          "base_uri": "https://localhost:8080/",
          "height": 498
        },
        "id": "8mPMNOD89uDN",
        "outputId": "46548ab5-55e5-47e3-b838-80c8fcc66709"
      },
      "execution_count": null,
      "outputs": [
        {
          "data": {
            "text/html": [
              "Tracking run with wandb version 0.19.6"
            ],
            "text/plain": [
              "<IPython.core.display.HTML object>"
            ]
          },
          "metadata": {},
          "output_type": "display_data"
        },
        {
          "data": {
            "text/html": [
              "Run data is saved locally in <code>/content/wandb/run-20250226_041124-nwdgcisp</code>"
            ],
            "text/plain": [
              "<IPython.core.display.HTML object>"
            ]
          },
          "metadata": {},
          "output_type": "display_data"
        },
        {
          "data": {
            "text/html": [
              "Syncing run <strong><a href='https://wandb.ai/pearlkakande-makerere-university/book-model/runs/nwdgcisp' target=\"_blank\">proud-galaxy-12</a></strong> to <a href='https://wandb.ai/pearlkakande-makerere-university/book-model' target=\"_blank\">Weights & Biases</a> (<a href='https://wandb.me/developer-guide' target=\"_blank\">docs</a>)<br>"
            ],
            "text/plain": [
              "<IPython.core.display.HTML object>"
            ]
          },
          "metadata": {},
          "output_type": "display_data"
        },
        {
          "data": {
            "text/html": [
              " View project at <a href='https://wandb.ai/pearlkakande-makerere-university/book-model' target=\"_blank\">https://wandb.ai/pearlkakande-makerere-university/book-model</a>"
            ],
            "text/plain": [
              "<IPython.core.display.HTML object>"
            ]
          },
          "metadata": {},
          "output_type": "display_data"
        },
        {
          "data": {
            "text/html": [
              " View run at <a href='https://wandb.ai/pearlkakande-makerere-university/book-model/runs/nwdgcisp' target=\"_blank\">https://wandb.ai/pearlkakande-makerere-university/book-model/runs/nwdgcisp</a>"
            ],
            "text/plain": [
              "<IPython.core.display.HTML object>"
            ]
          },
          "metadata": {},
          "output_type": "display_data"
        },
        {
          "metadata": {
            "tags": null
          },
          "name": "stderr",
          "output_type": "stream",
          "text": [
            "Some weights of DistilBertForSequenceClassification were not initialized from the model checkpoint at distilbert-base-uncased and are newly initialized: ['classifier.bias', 'classifier.weight', 'pre_classifier.bias', 'pre_classifier.weight']\n",
            "You should probably TRAIN this model on a down-stream task to be able to use it for predictions and inference.\n",
            "/usr/local/lib/python3.11/dist-packages/transformers/training_args.py:1575: FutureWarning: `evaluation_strategy` is deprecated and will be removed in version 4.46 of 🤗 Transformers. Use `eval_strategy` instead\n",
            "  warnings.warn(\n"
          ]
        },
        {
          "data": {
            "text/html": [
              "\n",
              "    <div>\n",
              "      \n",
              "      <progress value='1579' max='15000' style='width:300px; height:20px; vertical-align: middle;'></progress>\n",
              "      [ 1579/15000 3:17:02 < 27:56:53, 0.13 it/s, Epoch 3.16/30]\n",
              "    </div>\n",
              "    <table border=\"1\" class=\"dataframe\">\n",
              "  <thead>\n",
              " <tr style=\"text-align: left;\">\n",
              "      <th>Epoch</th>\n",
              "      <th>Training Loss</th>\n",
              "      <th>Validation Loss</th>\n",
              "      <th>Accuracy</th>\n",
              "      <th>Precision</th>\n",
              "      <th>Recall</th>\n",
              "      <th>F1</th>\n",
              "    </tr>\n",
              "  </thead>\n",
              "  <tbody>\n",
              "    <tr>\n",
              "      <td>1</td>\n",
              "      <td>0.644400</td>\n",
              "      <td>0.573413</td>\n",
              "      <td>0.692000</td>\n",
              "      <td>0.673362</td>\n",
              "      <td>0.761106</td>\n",
              "      <td>0.714551</td>\n",
              "    </tr>\n",
              "    <tr>\n",
              "      <td>2</td>\n",
              "      <td>0.451300</td>\n",
              "      <td>0.601066</td>\n",
              "      <td>0.698500</td>\n",
              "      <td>0.730337</td>\n",
              "      <td>0.641658</td>\n",
              "      <td>0.683132</td>\n",
              "    </tr>\n",
              "    <tr>\n",
              "      <td>3</td>\n",
              "      <td>0.219900</td>\n",
              "      <td>0.936959</td>\n",
              "      <td>0.685000</td>\n",
              "      <td>0.698035</td>\n",
              "      <td>0.666338</td>\n",
              "      <td>0.681818</td>\n",
              "    </tr>\n",
              "  </tbody>\n",
              "</table><p>"
            ],
            "text/plain": [
              "<IPython.core.display.HTML object>"
            ]
          },
          "metadata": {},
          "output_type": "display_data"
        },
        {
          "output_type": "display_data",
          "data": {
            "text/plain": [
              "<IPython.core.display.HTML object>"
            ],
            "text/html": [
              "\n",
              "    <div>\n",
              "      \n",
              "      <progress value='1833' max='15000' style='width:300px; height:20px; vertical-align: middle;'></progress>\n",
              "      [ 1833/15000 3:46:04 < 27:05:41, 0.13 it/s, Epoch 3.66/30]\n",
              "    </div>\n",
              "    <table border=\"1\" class=\"dataframe\">\n",
              "  <thead>\n",
              " <tr style=\"text-align: left;\">\n",
              "      <th>Epoch</th>\n",
              "      <th>Training Loss</th>\n",
              "      <th>Validation Loss</th>\n",
              "      <th>Accuracy</th>\n",
              "      <th>Precision</th>\n",
              "      <th>Recall</th>\n",
              "      <th>F1</th>\n",
              "    </tr>\n",
              "  </thead>\n",
              "  <tbody>\n",
              "    <tr>\n",
              "      <td>1</td>\n",
              "      <td>0.644400</td>\n",
              "      <td>0.573413</td>\n",
              "      <td>0.692000</td>\n",
              "      <td>0.673362</td>\n",
              "      <td>0.761106</td>\n",
              "      <td>0.714551</td>\n",
              "    </tr>\n",
              "    <tr>\n",
              "      <td>2</td>\n",
              "      <td>0.451300</td>\n",
              "      <td>0.601066</td>\n",
              "      <td>0.698500</td>\n",
              "      <td>0.730337</td>\n",
              "      <td>0.641658</td>\n",
              "      <td>0.683132</td>\n",
              "    </tr>\n",
              "    <tr>\n",
              "      <td>3</td>\n",
              "      <td>0.219900</td>\n",
              "      <td>0.936959</td>\n",
              "      <td>0.685000</td>\n",
              "      <td>0.698035</td>\n",
              "      <td>0.666338</td>\n",
              "      <td>0.681818</td>\n",
              "    </tr>\n",
              "  </tbody>\n",
              "</table><p>"
            ]
          },
          "metadata": {}
        }
      ]
    },
    {
      "cell_type": "markdown",
      "source": [
        "MODEL 9  Deep Genre Classification via Feature Learning"
      ],
      "metadata": {
        "id": "3kDaSK5c9u_7"
      }
    },
    {
      "cell_type": "code",
      "source": [
        "from sklearn.feature_extraction.text import TfidfVectorizer\n",
        "from sklearn.decomposition import PCA\n",
        "from sklearn.ensemble import AdaBoostClassifier\n",
        "from sklearn.metrics import classification_report, confusion_matrix\n",
        "import pandas as pd\n",
        "import wandb\n",
        "import matplotlib.pyplot as plt\n",
        "import numpy as np\n",
        "\n",
        "# Initialize wandb before training the model\n",
        "wandb.init(project=\"book-model\",    # Replace with your project name\n",
        "           entity=\"pearlkakande-makerere-university\",  # Replace with your wandb username or team name\n",
        "           config={\"model\": \"DeepGenre_AdaBoost\", \"epochs\": 30, \"learning_rate\": 0.01})\n",
        "\n",
        "# The classification target for Deep Genre Classification is based on genre,\n",
        "# so a warm-items label based on ratings_count is not necessary.\n",
        "# However, if you need to define warm items for any reason, you could do:\n",
        "# threshold = train_df['Num_Ratings'].median()\n",
        "# warm_labels = (train_df['Num_Ratings'] > threshold).astype(int).values\n",
        "# warm_labels = torch.tensor(warm_labels, dtype=torch.long)\n",
        "\n",
        "# Prepare the dataset for transformers-based genre classification\n",
        "# Here, we perform a binary classification: Fiction vs. Non-fiction.\n",
        "# Label as 1 if the genre contains \"Fiction\", else 0.\n",
        "train_texts = train_df['Description'].fillna(\"\").tolist()\n",
        "train_genres = train_df['Genres'].apply(lambda g: 1 if \"Fiction\" in g else 0).tolist()\n",
        "test_texts = test_df['Description'].fillna(\"\").tolist()\n",
        "test_genres = test_df['Genres'].apply(lambda g: 1 if \"Fiction\" in g else 0).tolist()\n",
        "\n",
        "# Vectorize the text using TF-IDF\n",
        "vectorizer = TfidfVectorizer(max_features=5000)\n",
        "X_train = vectorizer.fit_transform(train_texts)\n",
        "X_test = vectorizer.transform(test_texts)\n",
        "\n",
        "# Reduce dimensions using PCA\n",
        "pca = PCA(n_components=100)\n",
        "X_train_reduced = pca.fit_transform(X_train.toarray())\n",
        "X_test_reduced = pca.transform(X_test.toarray())\n",
        "\n",
        "# Train AdaBoost classifier\n",
        "clf = AdaBoostClassifier(n_estimators=50)\n",
        "clf.fit(X_train_reduced, train_genres)\n",
        "\n",
        "# Predict on test set\n",
        "preds = clf.predict(X_test_reduced)\n",
        "\n",
        "# Compute and log classification report\n",
        "report = classification_report(test_genres, preds, output_dict=True)\n",
        "wandb.log({\"Model\": \"DeepGenre_AdaBoost\", \"classification_report\": report})\n",
        "print(pd.DataFrame(report).transpose())\n",
        "\n",
        "# Compute confusion matrix\n",
        "cm = confusion_matrix(test_genres, preds)\n",
        "print(\"Confusion Matrix:\")\n",
        "print(cm)\n",
        "\n",
        "# Plot and log the confusion matrix to wandb\n",
        "plt.figure(figsize=(4,4))\n",
        "plt.imshow(cm, interpolation='nearest', cmap=plt.cm.Blues)\n",
        "plt.title(\"Confusion Matrix (DeepGenre_AdaBoost)\")\n",
        "plt.colorbar()\n",
        "tick_marks = np.arange(2)\n",
        "plt.xticks(tick_marks, [\"Non-fiction\", \"Fiction\"])\n",
        "plt.yticks(tick_marks, [\"Non-fiction\", \"Fiction\"])\n",
        "plt.xlabel(\"Predicted label\")\n",
        "plt.ylabel(\"True label\")\n",
        "plt.tight_layout()\n",
        "wandb.log({\"confusion_matrix\": wandb.Image(plt)})\n",
        "plt.show()\n",
        "\n",
        "wandb.finish()\n"
      ],
      "metadata": {
        "colab": {
          "base_uri": "https://localhost:8080/",
          "height": 758
        },
        "id": "VVSWKfjA90rp",
        "outputId": "ead9a90e-e336-4cdb-9ed4-a316eb02b2e6"
      },
      "execution_count": 35,
      "outputs": [
        {
          "output_type": "stream",
          "name": "stdout",
          "text": [
            "              precision    recall  f1-score    support\n",
            "0              0.715743  0.602454  0.654231   815.0000\n",
            "1              0.753425  0.835443  0.792317  1185.0000\n",
            "accuracy       0.740500  0.740500  0.740500     0.7405\n",
            "macro avg      0.734584  0.718949  0.723274  2000.0000\n",
            "weighted avg   0.738070  0.740500  0.736047  2000.0000\n",
            "Confusion Matrix:\n",
            "[[491 324]\n",
            " [195 990]]\n"
          ]
        },
        {
          "output_type": "display_data",
          "data": {
            "text/plain": [
              "<Figure size 400x400 with 2 Axes>"
            ],
            "image/png": "[encoded data removed]"
          },
          "metadata": {}
        },
        {
          "output_type": "display_data",
          "data": {
            "text/plain": [
              "<IPython.core.display.HTML object>"
            ],
            "text/html": []
          },
          "metadata": {}
        },
        {
          "output_type": "display_data",
          "data": {
            "text/plain": [
              "<IPython.core.display.HTML object>"
            ],
            "text/html": [
              "<br>    <style><br>        .wandb-row {<br>            display: flex;<br>            flex-direction: row;<br>            flex-wrap: wrap;<br>            justify-content: flex-start;<br>            width: 100%;<br>        }<br>        .wandb-col {<br>            display: flex;<br>            flex-direction: column;<br>            flex-basis: 100%;<br>            flex: 1;<br>            padding: 10px;<br>        }<br>    </style><br><div class=\"wandb-row\"><div class=\"wandb-col\"><h3>Run summary:</h3><br/><table class=\"wandb\"><tr><td>Model</td><td>DeepGenre_AdaBoost</td></tr></table><br/></div></div>"
            ]
          },
          "metadata": {}
        },
        {
          "output_type": "display_data",
          "data": {
            "text/plain": [
              "<IPython.core.display.HTML object>"
            ],
            "text/html": [
              " View run <strong style=\"color:#cdcd00\">azure-frog-11</strong> at: <a href='https://wandb.ai/pearlkakande-makerere-university/book-model/runs/9d9hr2ml' target=\"_blank\">https://wandb.ai/pearlkakande-makerere-university/book-model/runs/9d9hr2ml</a><br> View project at: <a href='https://wandb.ai/pearlkakande-makerere-university/book-model' target=\"_blank\">https://wandb.ai/pearlkakande-makerere-university/book-model</a><br>Synced 5 W&B file(s), 1 media file(s), 0 artifact file(s) and 0 other file(s)"
            ]
          },
          "metadata": {}
        },
        {
          "output_type": "display_data",
          "data": {
            "text/plain": [
              "<IPython.core.display.HTML object>"
            ],
            "text/html": [
              "Find logs at: <code>./wandb/run-20250226_040823-9d9hr2ml/logs</code>"
            ]
          },
          "metadata": {}
        }
      ]
    },
    {
      "cell_type": "markdown",
      "source": [
        "MODEL 10 Multi-View Graph Neural Network"
      ],
      "metadata": {
        "id": "LlxVT91u91Ko"
      }
    },
    {
      "cell_type": "code",
      "source": [
        "import torch\n",
        "import torch.nn.functional as F\n",
        "from torch_geometric.nn import GCNConv\n",
        "from torch import nn\n",
        "from sklearn.metrics import accuracy_score, precision_score, recall_score, f1_score, confusion_matrix\n",
        "import pandas as pd\n",
        "import wandb\n",
        "import matplotlib.pyplot as plt\n",
        "import numpy as np\n",
        "\n",
        "# Initialize wandb before training the model\n",
        "wandb.init(project=\"book-model\",    # Replace with your project name\n",
        "           entity=\"pearlkakande-makerere-university\",  # Replace with your wandb username or team name\n",
        "           config={\"model\": \"MultiViewGNN\", \"epochs\": 30, \"learning_rate\": 0.005})\n",
        "\n",
        "# Define warm items based on ratings_count > threshold.\n",
        "threshold = train_df['Num_Ratings'].median()\n",
        "labels = (train_df['Num_Ratings'] > threshold).astype(int).values\n",
        "labels = torch.tensor(labels, dtype=torch.long)\n",
        "\n",
        "class MultiViewGNN(nn.Module):\n",
        "    def __init__(self, in_channels, hidden_channels):\n",
        "        super(MultiViewGNN, self).__init__()\n",
        "        # Collaborative view branch (using popularity)\n",
        "        self.collab_conv = GCNConv(in_channels, hidden_channels)\n",
        "        # Content view branch\n",
        "        self.content_conv = GCNConv(in_channels, hidden_channels)\n",
        "        # Fusion: concatenate both views and popularity, then classify\n",
        "        self.fusion_lin = nn.Linear(hidden_channels * 2 + 1, 2)\n",
        "\n",
        "    def forward(self, data):\n",
        "        # Collaborative view: use the same edge_index for demo purposes\n",
        "        x_collab = F.relu(self.collab_conv(data['book'].x, data['book', 'similar_to', 'book'].edge_index))\n",
        "        # Content view: here, for simplicity, we use the same input features\n",
        "        x_content = F.relu(self.content_conv(data['book'].x, data['book', 'similar_to', 'book'].edge_index))\n",
        "        # Fusion: concatenate both views and the popularity signal\n",
        "        ratings = data['book'].ratings_count.unsqueeze(1)\n",
        "        x_fused = torch.cat([x_collab, x_content, ratings], dim=1)\n",
        "        out = self.fusion_lin(x_fused)\n",
        "        return out, x_collab, x_content\n",
        "\n",
        "# Set device and create model instance\n",
        "device = torch.device('cuda' if torch.cuda.is_available() else 'cpu')\n",
        "model10 = MultiViewGNN(in_channels=data['book'].x.size(1), hidden_channels=32).to(device)\n",
        "optimizer10 = torch.optim.Adam(model10.parameters(), lr=0.005)\n",
        "\n",
        "# Move data and labels to device\n",
        "data['book'].x = data['book'].x.to(device)\n",
        "data['book', 'similar_to', 'book'].edge_index = data['book', 'similar_to', 'book'].edge_index.to(device)\n",
        "data['book'].ratings_count = data['book'].ratings_count.to(device)\n",
        "labels = labels.to(device)\n",
        "\n",
        "# Training loop for 30 epochs\n",
        "num_epochs = 30\n",
        "model10.train()\n",
        "for epoch in range(num_epochs):\n",
        "    optimizer10.zero_grad()\n",
        "    out, view1, view2 = model10(data)\n",
        "    # Classification loss\n",
        "    loss_class = F.cross_entropy(out, labels)\n",
        "    # Alignment loss: force the two views to be close (MSE)\n",
        "    loss_align = F.mse_loss(view1, view2)\n",
        "    loss_total = loss_class + 0.5 * loss_align\n",
        "    loss_total.backward()\n",
        "    optimizer10.step()\n",
        "\n",
        "    preds = out.argmax(dim=1).cpu().numpy()\n",
        "    true_labels = labels.cpu().numpy()\n",
        "    acc = accuracy_score(true_labels, preds)\n",
        "    prec = precision_score(true_labels, preds, zero_division=0)\n",
        "    rec = recall_score(true_labels, preds, zero_division=0)\n",
        "    f1 = f1_score(true_labels, preds, zero_division=0)\n",
        "\n",
        "    wandb.log({\"Model\": \"MultiViewGNN\", \"epoch\": epoch, \"loss\": loss_total.item(),\n",
        "               \"accuracy\": acc, \"precision\": prec, \"recall\": rec, \"f1\": f1})\n",
        "\n",
        "    if epoch % 10 == 0:\n",
        "        print(f\"MultiViewGNN Epoch {epoch}: Loss={loss_total.item():.4f}\")\n",
        "\n",
        "results10 = {\"Model\": \"MultiViewGNN\", \"Loss\": loss_total.item(), \"Accuracy\": acc,\n",
        "             \"Precision\": prec, \"Recall\": rec, \"F1\": f1}\n",
        "print(pd.DataFrame([results10]))\n",
        "\n",
        "# Compute confusion matrix on training data\n",
        "cm = confusion_matrix(true_labels, preds)\n",
        "print(\"Confusion Matrix:\")\n",
        "print(cm)\n",
        "\n",
        "# Plot and log the confusion matrix as a plot to wandb\n",
        "plt.figure(figsize=(4,4))\n",
        "plt.imshow(cm, interpolation='nearest', cmap=plt.cm.Blues)\n",
        "plt.title(\"Confusion Matrix (MultiViewGNN)\")\n",
        "plt.colorbar()\n",
        "tick_marks = np.arange(2)\n",
        "plt.xticks(tick_marks, [\"Cold\", \"Warm\"])\n",
        "plt.yticks(tick_marks, [\"Cold\", \"Warm\"])\n",
        "plt.xlabel(\"Predicted label\")\n",
        "plt.ylabel(\"True label\")\n",
        "plt.tight_layout()\n",
        "wandb.log({\"confusion_matrix\": wandb.Image(plt)})\n",
        "plt.show()\n",
        "\n",
        "# Finish the wandb run\n",
        "wandb.finish()\n"
      ],
      "metadata": {
        "colab": {
          "base_uri": "https://localhost:8080/",
          "height": 1000
        },
        "id": "Htcd8g-1b0Ls",
        "outputId": "8e0b4d12-11b4-4c65-dd11-3818697ce1f6"
      },
      "execution_count": 33,
      "outputs": [
        {
          "output_type": "stream",
          "name": "stdout",
          "text": [
            "MultiViewGNN Epoch 0: Loss=77.4251\n",
            "MultiViewGNN Epoch 10: Loss=25.4374\n",
            "MultiViewGNN Epoch 20: Loss=43.6840\n",
            "          Model       Loss  Accuracy  Precision  Recall       F1\n",
            "0  MultiViewGNN  39.920635    0.7455   0.662691     1.0  0.79713\n",
            "Confusion Matrix:\n",
            "[[1964 2036]\n",
            " [   0 4000]]\n"
          ]
        },
        {
          "output_type": "display_data",
          "data": {
            "text/plain": [
              "<Figure size 400x400 with 2 Axes>"
            ],
            "image/png": "[encoded data removed]"
          },
          "metadata": {}
        },
        {
          "output_type": "display_data",
          "data": {
            "text/plain": [
              "<IPython.core.display.HTML object>"
            ],
            "text/html": []
          },
          "metadata": {}
        },
        {
          "output_type": "display_data",
          "data": {
            "text/plain": [
              "<IPython.core.display.HTML object>"
            ],
            "text/html": [
              "<br>    <style><br>        .wandb-row {<br>            display: flex;<br>            flex-direction: row;<br>            flex-wrap: wrap;<br>            justify-content: flex-start;<br>            width: 100%;<br>        }<br>        .wandb-col {<br>            display: flex;<br>            flex-direction: column;<br>            flex-basis: 100%;<br>            flex: 1;<br>            padding: 10px;<br>        }<br>    </style><br><div class=\"wandb-row\"><div class=\"wandb-col\"><h3>Run history:</h3><br/><table class=\"wandb\"><tr><td>accuracy</td><td>▁▁▂▃▅▁█▆▆▆▆▆▆▆▆▆▆▆▇▇▇▇▇▇▇▇████</td></tr><tr><td>epoch</td><td>▁▁▁▂▂▂▂▃▃▃▃▄▄▄▄▅▅▅▅▆▆▆▆▇▇▇▇███</td></tr><tr><td>eval/accuracy</td><td>▁</td></tr><tr><td>eval/f1</td><td>▁</td></tr><tr><td>eval/loss</td><td>▁</td></tr><tr><td>eval/precision</td><td>▁</td></tr><tr><td>eval/recall</td><td>▁</td></tr><tr><td>eval/runtime</td><td>▁</td></tr><tr><td>eval/samples_per_second</td><td>▁</td></tr><tr><td>eval/steps_per_second</td><td>▁</td></tr><tr><td>f1</td><td>▇▇▇▇▇▁████████████████████████</td></tr><tr><td>loss</td><td>▃▃▂▂▁█▁▁▁▂▂▂▂▂▂▂▂▂▂▂▂▂▂▂▂▂▂▂▂▂</td></tr><tr><td>precision</td><td>▆▆▆▇▇▁█▇▇▇▇▇▇▇▇▇▇█████████████</td></tr><tr><td>recall</td><td>█████▁████████████████████████</td></tr><tr><td>train/epoch</td><td>▁▁</td></tr><tr><td>train/global_step</td><td>▁▁▁▁▁▁▁▁▁▁▁▁▁▁▁▁▁▁▁▁▁▁▁▁▁▁▁▁▁▁▁▁▁</td></tr><tr><td>train/grad_norm</td><td>▁</td></tr><tr><td>train/learning_rate</td><td>▁</td></tr><tr><td>train/loss</td><td>▁</td></tr></table><br/></div><div class=\"wandb-col\"><h3>Run summary:</h3><br/><table class=\"wandb\"><tr><td>Model</td><td>MultiViewGNN</td></tr><tr><td>accuracy</td><td>0.7455</td></tr><tr><td>epoch</td><td>29</td></tr><tr><td>eval/accuracy</td><td>0.705</td></tr><tr><td>eval/f1</td><td>0.7323</td></tr><tr><td>eval/loss</td><td>0.56922</td></tr><tr><td>eval/precision</td><td>0.67758</td></tr><tr><td>eval/recall</td><td>0.79664</td></tr><tr><td>eval/runtime</td><td>270.1004</td></tr><tr><td>eval/samples_per_second</td><td>7.405</td></tr><tr><td>eval/steps_per_second</td><td>0.463</td></tr><tr><td>f1</td><td>0.79713</td></tr><tr><td>loss</td><td>39.92064</td></tr><tr><td>precision</td><td>0.66269</td></tr><tr><td>recall</td><td>1</td></tr><tr><td>train/epoch</td><td>1</td></tr><tr><td>train/global_step</td><td>500</td></tr><tr><td>train/grad_norm</td><td>5.79051</td></tr><tr><td>train/learning_rate</td><td>5e-05</td></tr><tr><td>train/loss</td><td>0.6335</td></tr></table><br/></div></div>"
            ]
          },
          "metadata": {}
        },
        {
          "output_type": "display_data",
          "data": {
            "text/plain": [
              "<IPython.core.display.HTML object>"
            ],
            "text/html": [
              " View run <strong style=\"color:#cdcd00\">resilient-grass-10</strong> at: <a href='https://wandb.ai/pearlkakande-makerere-university/book-model/runs/dpshdabx' target=\"_blank\">https://wandb.ai/pearlkakande-makerere-university/book-model/runs/dpshdabx</a><br> View project at: <a href='https://wandb.ai/pearlkakande-makerere-university/book-model' target=\"_blank\">https://wandb.ai/pearlkakande-makerere-university/book-model</a><br>Synced 5 W&B file(s), 1 media file(s), 0 artifact file(s) and 0 other file(s)"
            ]
          },
          "metadata": {}
        },
        {
          "output_type": "display_data",
          "data": {
            "text/plain": [
              "<IPython.core.display.HTML object>"
            ],
            "text/html": [
              "Find logs at: <code>./wandb/run-20250226_015703-dpshdabx/logs</code>"
            ]
          },
          "metadata": {}
        }
      ]
    }
  ]
}
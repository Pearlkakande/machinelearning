{
  "nbformat": 4,
  "nbformat_minor": 0,
  "metadata": {
    "colab": {
      "provenance": [],
      "authorship_tag": "ABX9TyN1qiAeocbZ5Tq0xMUTdd/g",
      "include_colab_link": true
    },
    "kernelspec": {
      "name": "python3",
      "display_name": "Python 3"
    },
    "language_info": {
      "name": "python"
    }
  },
  "cells": [
    {
      "cell_type": "markdown",
      "metadata": {
        "id": "view-in-github",
        "colab_type": "text"
      },
      "source": [
        "<a href=\"https://colab.research.google.com/github/Pearlkakande/machinelearning/blob/main/models/models6.ipynb\" target=\"_parent\"><img src=\"https://colab.research.google.com/assets/colab-badge.svg\" alt=\"Open In Colab\"/></a>"
      ]
    },
    {
      "cell_type": "markdown",
      "source": [
        "\n",
        "MODEL TRAINING FOR GRAPH-BASED KNOWLEDGE DISTILLATION AND FEATURE LEARNING FOR BOOK RECOMMENDATIONS\n",
        "\n",
        "Ten models are to be trained with model evaluation being handled by wandb\n",
        "\n",
        "dataset= Eitanli/goodreads for the hugging face dataset library\n",
        "\n",
        "SET UP\n",
        "\n",
        "packages, dataset, wandb"
      ],
      "metadata": {
        "id": "DJYQgjLTLE3l"
      }
    },
    {
      "cell_type": "code",
      "execution_count": 20,
      "metadata": {
        "colab": {
          "base_uri": "https://localhost:8080/"
        },
        "id": "99LipbECK65-",
        "outputId": "b419d9fe-e106-4f84-ee60-ad192a6ea5e5"
      },
      "outputs": [
        {
          "output_type": "stream",
          "name": "stdout",
          "text": [
            "Requirement already satisfied: datasets in /usr/local/lib/python3.11/dist-packages (3.3.2)\n",
            "Requirement already satisfied: torch in /usr/local/lib/python3.11/dist-packages (2.5.1+cu124)\n",
            "Requirement already satisfied: wandb in /usr/local/lib/python3.11/dist-packages (0.19.6)\n",
            "Requirement already satisfied: sentence-transformers in /usr/local/lib/python3.11/dist-packages (3.4.1)\n",
            "Requirement already satisfied: scikit-learn in /usr/local/lib/python3.11/dist-packages (1.6.1)\n",
            "Requirement already satisfied: filelock in /usr/local/lib/python3.11/dist-packages (from datasets) (3.17.0)\n",
            "Requirement already satisfied: numpy>=1.17 in /usr/local/lib/python3.11/dist-packages (from datasets) (1.26.4)\n",
            "Requirement already satisfied: pyarrow>=15.0.0 in /usr/local/lib/python3.11/dist-packages (from datasets) (17.0.0)\n",
            "Requirement already satisfied: dill<0.3.9,>=0.3.0 in /usr/local/lib/python3.11/dist-packages (from datasets) (0.3.8)\n",
            "Requirement already satisfied: pandas in /usr/local/lib/python3.11/dist-packages (from datasets) (2.2.2)\n",
            "Requirement already satisfied: requests>=2.32.2 in /usr/local/lib/python3.11/dist-packages (from datasets) (2.32.3)\n",
            "Requirement already satisfied: tqdm>=4.66.3 in /usr/local/lib/python3.11/dist-packages (from datasets) (4.67.1)\n",
            "Requirement already satisfied: xxhash in /usr/local/lib/python3.11/dist-packages (from datasets) (3.5.0)\n",
            "Requirement already satisfied: multiprocess<0.70.17 in /usr/local/lib/python3.11/dist-packages (from datasets) (0.70.16)\n",
            "Requirement already satisfied: fsspec<=2024.12.0,>=2023.1.0 in /usr/local/lib/python3.11/dist-packages (from fsspec[http]<=2024.12.0,>=2023.1.0->datasets) (2024.10.0)\n",
            "Requirement already satisfied: aiohttp in /usr/local/lib/python3.11/dist-packages (from datasets) (3.11.12)\n",
            "Requirement already satisfied: huggingface-hub>=0.24.0 in /usr/local/lib/python3.11/dist-packages (from datasets) (0.28.1)\n",
            "Requirement already satisfied: packaging in /usr/local/lib/python3.11/dist-packages (from datasets) (24.2)\n",
            "Requirement already satisfied: pyyaml>=5.1 in /usr/local/lib/python3.11/dist-packages (from datasets) (6.0.2)\n",
            "Requirement already satisfied: typing-extensions>=4.8.0 in /usr/local/lib/python3.11/dist-packages (from torch) (4.12.2)\n",
            "Requirement already satisfied: networkx in /usr/local/lib/python3.11/dist-packages (from torch) (3.4.2)\n",
            "Requirement already satisfied: jinja2 in /usr/local/lib/python3.11/dist-packages (from torch) (3.1.5)\n",
            "Requirement already satisfied: nvidia-cuda-nvrtc-cu12==12.4.127 in /usr/local/lib/python3.11/dist-packages (from torch) (12.4.127)\n",
            "Requirement already satisfied: nvidia-cuda-runtime-cu12==12.4.127 in /usr/local/lib/python3.11/dist-packages (from torch) (12.4.127)\n",
            "Requirement already satisfied: nvidia-cuda-cupti-cu12==12.4.127 in /usr/local/lib/python3.11/dist-packages (from torch) (12.4.127)\n",
            "Requirement already satisfied: nvidia-cudnn-cu12==9.1.0.70 in /usr/local/lib/python3.11/dist-packages (from torch) (9.1.0.70)\n",
            "Requirement already satisfied: nvidia-cublas-cu12==12.4.5.8 in /usr/local/lib/python3.11/dist-packages (from torch) (12.4.5.8)\n",
            "Requirement already satisfied: nvidia-cufft-cu12==11.2.1.3 in /usr/local/lib/python3.11/dist-packages (from torch) (11.2.1.3)\n",
            "Requirement already satisfied: nvidia-curand-cu12==10.3.5.147 in /usr/local/lib/python3.11/dist-packages (from torch) (10.3.5.147)\n",
            "Requirement already satisfied: nvidia-cusolver-cu12==11.6.1.9 in /usr/local/lib/python3.11/dist-packages (from torch) (11.6.1.9)\n",
            "Requirement already satisfied: nvidia-cusparse-cu12==12.3.1.170 in /usr/local/lib/python3.11/dist-packages (from torch) (12.3.1.170)\n",
            "Requirement already satisfied: nvidia-nccl-cu12==2.21.5 in /usr/local/lib/python3.11/dist-packages (from torch) (2.21.5)\n",
            "Requirement already satisfied: nvidia-nvtx-cu12==12.4.127 in /usr/local/lib/python3.11/dist-packages (from torch) (12.4.127)\n",
            "Requirement already satisfied: nvidia-nvjitlink-cu12==12.4.127 in /usr/local/lib/python3.11/dist-packages (from torch) (12.4.127)\n",
            "Requirement already satisfied: triton==3.1.0 in /usr/local/lib/python3.11/dist-packages (from torch) (3.1.0)\n",
            "Requirement already satisfied: sympy==1.13.1 in /usr/local/lib/python3.11/dist-packages (from torch) (1.13.1)\n",
            "Requirement already satisfied: mpmath<1.4,>=1.1.0 in /usr/local/lib/python3.11/dist-packages (from sympy==1.13.1->torch) (1.3.0)\n",
            "Requirement already satisfied: click!=8.0.0,>=7.1 in /usr/local/lib/python3.11/dist-packages (from wandb) (8.1.8)\n",
            "Requirement already satisfied: docker-pycreds>=0.4.0 in /usr/local/lib/python3.11/dist-packages (from wandb) (0.4.0)\n",
            "Requirement already satisfied: gitpython!=3.1.29,>=1.0.0 in /usr/local/lib/python3.11/dist-packages (from wandb) (3.1.44)\n",
            "Requirement already satisfied: platformdirs in /usr/local/lib/python3.11/dist-packages (from wandb) (4.3.6)\n",
            "Requirement already satisfied: protobuf!=4.21.0,!=5.28.0,<6,>=3.19.0 in /usr/local/lib/python3.11/dist-packages (from wandb) (4.25.6)\n",
            "Requirement already satisfied: psutil>=5.0.0 in /usr/local/lib/python3.11/dist-packages (from wandb) (5.9.5)\n",
            "Requirement already satisfied: pydantic<3,>=2.6 in /usr/local/lib/python3.11/dist-packages (from wandb) (2.10.6)\n",
            "Requirement already satisfied: sentry-sdk>=2.0.0 in /usr/local/lib/python3.11/dist-packages (from wandb) (2.22.0)\n",
            "Requirement already satisfied: setproctitle in /usr/local/lib/python3.11/dist-packages (from wandb) (1.3.4)\n",
            "Requirement already satisfied: setuptools in /usr/local/lib/python3.11/dist-packages (from wandb) (75.1.0)\n",
            "Requirement already satisfied: transformers<5.0.0,>=4.41.0 in /usr/local/lib/python3.11/dist-packages (from sentence-transformers) (4.48.3)\n",
            "Requirement already satisfied: scipy in /usr/local/lib/python3.11/dist-packages (from sentence-transformers) (1.13.1)\n",
            "Requirement already satisfied: Pillow in /usr/local/lib/python3.11/dist-packages (from sentence-transformers) (11.1.0)\n",
            "Requirement already satisfied: joblib>=1.2.0 in /usr/local/lib/python3.11/dist-packages (from scikit-learn) (1.4.2)\n",
            "Requirement already satisfied: threadpoolctl>=3.1.0 in /usr/local/lib/python3.11/dist-packages (from scikit-learn) (3.5.0)\n",
            "Requirement already satisfied: six>=1.4.0 in /usr/local/lib/python3.11/dist-packages (from docker-pycreds>=0.4.0->wandb) (1.17.0)\n",
            "Requirement already satisfied: aiohappyeyeballs>=2.3.0 in /usr/local/lib/python3.11/dist-packages (from aiohttp->datasets) (2.4.6)\n",
            "Requirement already satisfied: aiosignal>=1.1.2 in /usr/local/lib/python3.11/dist-packages (from aiohttp->datasets) (1.3.2)\n",
            "Requirement already satisfied: attrs>=17.3.0 in /usr/local/lib/python3.11/dist-packages (from aiohttp->datasets) (25.1.0)\n",
            "Requirement already satisfied: frozenlist>=1.1.1 in /usr/local/lib/python3.11/dist-packages (from aiohttp->datasets) (1.5.0)\n",
            "Requirement already satisfied: multidict<7.0,>=4.5 in /usr/local/lib/python3.11/dist-packages (from aiohttp->datasets) (6.1.0)\n",
            "Requirement already satisfied: propcache>=0.2.0 in /usr/local/lib/python3.11/dist-packages (from aiohttp->datasets) (0.2.1)\n",
            "Requirement already satisfied: yarl<2.0,>=1.17.0 in /usr/local/lib/python3.11/dist-packages (from aiohttp->datasets) (1.18.3)\n",
            "Requirement already satisfied: gitdb<5,>=4.0.1 in /usr/local/lib/python3.11/dist-packages (from gitpython!=3.1.29,>=1.0.0->wandb) (4.0.12)\n",
            "Requirement already satisfied: annotated-types>=0.6.0 in /usr/local/lib/python3.11/dist-packages (from pydantic<3,>=2.6->wandb) (0.7.0)\n",
            "Requirement already satisfied: pydantic-core==2.27.2 in /usr/local/lib/python3.11/dist-packages (from pydantic<3,>=2.6->wandb) (2.27.2)\n",
            "Requirement already satisfied: charset-normalizer<4,>=2 in /usr/local/lib/python3.11/dist-packages (from requests>=2.32.2->datasets) (3.4.1)\n",
            "Requirement already satisfied: idna<4,>=2.5 in /usr/local/lib/python3.11/dist-packages (from requests>=2.32.2->datasets) (3.10)\n",
            "Requirement already satisfied: urllib3<3,>=1.21.1 in /usr/local/lib/python3.11/dist-packages (from requests>=2.32.2->datasets) (2.3.0)\n",
            "Requirement already satisfied: certifi>=2017.4.17 in /usr/local/lib/python3.11/dist-packages (from requests>=2.32.2->datasets) (2025.1.31)\n",
            "Requirement already satisfied: regex!=2019.12.17 in /usr/local/lib/python3.11/dist-packages (from transformers<5.0.0,>=4.41.0->sentence-transformers) (2024.11.6)\n",
            "Requirement already satisfied: tokenizers<0.22,>=0.21 in /usr/local/lib/python3.11/dist-packages (from transformers<5.0.0,>=4.41.0->sentence-transformers) (0.21.0)\n",
            "Requirement already satisfied: safetensors>=0.4.1 in /usr/local/lib/python3.11/dist-packages (from transformers<5.0.0,>=4.41.0->sentence-transformers) (0.5.2)\n",
            "Requirement already satisfied: MarkupSafe>=2.0 in /usr/local/lib/python3.11/dist-packages (from jinja2->torch) (3.0.2)\n",
            "Requirement already satisfied: python-dateutil>=2.8.2 in /usr/local/lib/python3.11/dist-packages (from pandas->datasets) (2.8.2)\n",
            "Requirement already satisfied: pytz>=2020.1 in /usr/local/lib/python3.11/dist-packages (from pandas->datasets) (2025.1)\n",
            "Requirement already satisfied: tzdata>=2022.7 in /usr/local/lib/python3.11/dist-packages (from pandas->datasets) (2025.1)\n",
            "Requirement already satisfied: smmap<6,>=3.0.1 in /usr/local/lib/python3.11/dist-packages (from gitdb<5,>=4.0.1->gitpython!=3.1.29,>=1.0.0->wandb) (5.0.2)\n",
            "Looking in links: https://data.pyg.org/whl/torch-2.0.0+cpu.html\n",
            "Requirement already satisfied: torch-scatter in /usr/local/lib/python3.11/dist-packages (2.1.2+pt20cpu)\n",
            "Requirement already satisfied: torch-sparse in /usr/local/lib/python3.11/dist-packages (0.6.18+pt20cpu)\n",
            "Requirement already satisfied: torch-cluster in /usr/local/lib/python3.11/dist-packages (1.6.3+pt20cpu)\n",
            "Requirement already satisfied: torch-geometric in /usr/local/lib/python3.11/dist-packages (2.6.1)\n",
            "Requirement already satisfied: scipy in /usr/local/lib/python3.11/dist-packages (from torch-sparse) (1.13.1)\n",
            "Requirement already satisfied: aiohttp in /usr/local/lib/python3.11/dist-packages (from torch-geometric) (3.11.12)\n",
            "Requirement already satisfied: fsspec in /usr/local/lib/python3.11/dist-packages (from torch-geometric) (2024.10.0)\n",
            "Requirement already satisfied: jinja2 in /usr/local/lib/python3.11/dist-packages (from torch-geometric) (3.1.5)\n",
            "Requirement already satisfied: numpy in /usr/local/lib/python3.11/dist-packages (from torch-geometric) (1.26.4)\n",
            "Requirement already satisfied: psutil>=5.8.0 in /usr/local/lib/python3.11/dist-packages (from torch-geometric) (5.9.5)\n",
            "Requirement already satisfied: pyparsing in /usr/local/lib/python3.11/dist-packages (from torch-geometric) (3.2.1)\n",
            "Requirement already satisfied: requests in /usr/local/lib/python3.11/dist-packages (from torch-geometric) (2.32.3)\n",
            "Requirement already satisfied: tqdm in /usr/local/lib/python3.11/dist-packages (from torch-geometric) (4.67.1)\n",
            "Requirement already satisfied: aiohappyeyeballs>=2.3.0 in /usr/local/lib/python3.11/dist-packages (from aiohttp->torch-geometric) (2.4.6)\n",
            "Requirement already satisfied: aiosignal>=1.1.2 in /usr/local/lib/python3.11/dist-packages (from aiohttp->torch-geometric) (1.3.2)\n",
            "Requirement already satisfied: attrs>=17.3.0 in /usr/local/lib/python3.11/dist-packages (from aiohttp->torch-geometric) (25.1.0)\n",
            "Requirement already satisfied: frozenlist>=1.1.1 in /usr/local/lib/python3.11/dist-packages (from aiohttp->torch-geometric) (1.5.0)\n",
            "Requirement already satisfied: multidict<7.0,>=4.5 in /usr/local/lib/python3.11/dist-packages (from aiohttp->torch-geometric) (6.1.0)\n",
            "Requirement already satisfied: propcache>=0.2.0 in /usr/local/lib/python3.11/dist-packages (from aiohttp->torch-geometric) (0.2.1)\n",
            "Requirement already satisfied: yarl<2.0,>=1.17.0 in /usr/local/lib/python3.11/dist-packages (from aiohttp->torch-geometric) (1.18.3)\n",
            "Requirement already satisfied: MarkupSafe>=2.0 in /usr/local/lib/python3.11/dist-packages (from jinja2->torch-geometric) (3.0.2)\n",
            "Requirement already satisfied: charset-normalizer<4,>=2 in /usr/local/lib/python3.11/dist-packages (from requests->torch-geometric) (3.4.1)\n",
            "Requirement already satisfied: idna<4,>=2.5 in /usr/local/lib/python3.11/dist-packages (from requests->torch-geometric) (3.10)\n",
            "Requirement already satisfied: urllib3<3,>=1.21.1 in /usr/local/lib/python3.11/dist-packages (from requests->torch-geometric) (2.3.0)\n",
            "Requirement already satisfied: certifi>=2017.4.17 in /usr/local/lib/python3.11/dist-packages (from requests->torch-geometric) (2025.1.31)\n"
          ]
        }
      ],
      "source": [
        "# Install necessary packages (uncomment if needed)\n",
        "!pip install datasets torch wandb sentence-transformers scikit-learn\n",
        "!pip install torch-scatter torch-sparse torch-cluster torch-geometric -f https://data.pyg.org/whl/torch-2.0.0+cpu.html\n",
        "import torch\n",
        "import torch.nn.functional as F\n",
        "from torch_geometric.data import HeteroData, DataLoader\n",
        "from torch_geometric.nn import GCNConv, GATConv  # and other layers as needed\n",
        "from datasets import load_dataset\n",
        "from sentence_transformers import SentenceTransformer\n",
        "from sklearn.metrics import accuracy_score, precision_score, recall_score, f1_score\n",
        "import wandb\n",
        "import numpy as np\n",
        "import pandas as pd"
      ]
    },
    {
      "cell_type": "markdown",
      "source": [
        "WANDB"
      ],
      "metadata": {
        "id": "wqUMxbAwMuPa"
      }
    },
    {
      "cell_type": "code",
      "source": [
        "# (Global W&B login is fine to do once)\n",
        "wandb.login()"
      ],
      "metadata": {
        "colab": {
          "base_uri": "https://localhost:8080/",
          "height": 173
        },
        "id": "tNCHfaKDMv9x",
        "outputId": "0609db40-9159-4692-d02a-df74f3c31141"
      },
      "execution_count": null,
      "outputs": [
        {
          "output_type": "display_data",
          "data": {
            "text/plain": [
              "<IPython.core.display.Javascript object>"
            ],
            "application/javascript": [
              "\n",
              "        window._wandbApiKey = new Promise((resolve, reject) => {\n",
              "            function loadScript(url) {\n",
              "            return new Promise(function(resolve, reject) {\n",
              "                let newScript = document.createElement(\"script\");\n",
              "                newScript.onerror = reject;\n",
              "                newScript.onload = resolve;\n",
              "                document.body.appendChild(newScript);\n",
              "                newScript.src = url;\n",
              "            });\n",
              "            }\n",
              "            loadScript(\"https://cdn.jsdelivr.net/npm/postmate/build/postmate.min.js\").then(() => {\n",
              "            const iframe = document.createElement('iframe')\n",
              "            iframe.style.cssText = \"width:0;height:0;border:none\"\n",
              "            document.body.appendChild(iframe)\n",
              "            const handshake = new Postmate({\n",
              "                container: iframe,\n",
              "                url: 'https://wandb.ai/authorize'\n",
              "            });\n",
              "            const timeout = setTimeout(() => reject(\"Couldn't auto authenticate\"), 5000)\n",
              "            handshake.then(function(child) {\n",
              "                child.on('authorize', data => {\n",
              "                    clearTimeout(timeout)\n",
              "                    resolve(data)\n",
              "                });\n",
              "            });\n",
              "            })\n",
              "        });\n",
              "    "
            ]
          },
          "metadata": {}
        },
        {
          "output_type": "stream",
          "name": "stderr",
          "text": [
            "\u001b[34m\u001b[1mwandb\u001b[0m: Logging into wandb.ai. (Learn how to deploy a W&B server locally: https://wandb.me/wandb-server)\n",
            "\u001b[34m\u001b[1mwandb\u001b[0m: You can find your API key in your browser here: https://wandb.ai/authorize\n",
            "wandb: Paste an API key from your profile and hit enter:"
          ]
        },
        {
          "name": "stdout",
          "output_type": "stream",
          "text": [
            " ··········\n"
          ]
        },
        {
          "output_type": "stream",
          "name": "stderr",
          "text": [
            "\u001b[34m\u001b[1mwandb\u001b[0m: \u001b[33mWARNING\u001b[0m If you're specifying your api key in code, ensure this code is not shared publicly.\n",
            "\u001b[34m\u001b[1mwandb\u001b[0m: \u001b[33mWARNING\u001b[0m Consider setting the WANDB_API_KEY environment variable, or running `wandb login` from the command line.\n",
            "\u001b[34m\u001b[1mwandb\u001b[0m: Appending key for api.wandb.ai to your netrc file: /root/.netrc\n",
            "\u001b[34m\u001b[1mwandb\u001b[0m: Currently logged in as: \u001b[33mpearlkakande\u001b[0m (\u001b[33mpearlkakande-makerere-university\u001b[0m) to \u001b[32mhttps://api.wandb.ai\u001b[0m. Use \u001b[1m`wandb login --relogin`\u001b[0m to force relogin\n"
          ]
        },
        {
          "output_type": "execute_result",
          "data": {
            "text/plain": [
              "True"
            ]
          },
          "metadata": {},
          "execution_count": 2
        }
      ]
    },
    {
      "cell_type": "markdown",
      "source": [
        "Dataset Loading"
      ],
      "metadata": {
        "id": "qdcPd3-ON1iS"
      }
    },
    {
      "cell_type": "code",
      "source": [
        "# Load the dataset from Hugging Face\n",
        "dataset = load_dataset(\"Eitanli/goodreads\")[\"train\"]  # assume 'train' split\n",
        "df = pd.DataFrame(dataset)\n",
        "print(df.columns.tolist())\n"
      ],
      "metadata": {
        "colab": {
          "base_uri": "https://localhost:8080/"
        },
        "id": "xBkE1RjcN81e",
        "outputId": "5637a353-6aae-43c7-cebf-0d78427aca2d"
      },
      "execution_count": 21,
      "outputs": [
        {
          "output_type": "stream",
          "name": "stderr",
          "text": [
            "Repo card metadata block was not found. Setting CardData to empty.\n",
            "WARNING:huggingface_hub.repocard:Repo card metadata block was not found. Setting CardData to empty.\n"
          ]
        },
        {
          "output_type": "stream",
          "name": "stdout",
          "text": [
            "['Unnamed: 0', 'Book', 'Author', 'Description', 'Genres', 'Avg_Rating', 'Num_Ratings', 'URL']\n"
          ]
        }
      ]
    },
    {
      "cell_type": "markdown",
      "source": [
        "GRAPH CONSTUCTION\n",
        "\n",
        "Description embedding, spliting of dataset\n",
        "\n",
        "the book, author and genre are nodes\n",
        "\n",
        "edges show relationship and addding rating-based popularity as a node attribute or as edge weight"
      ],
      "metadata": {
        "id": "km7l4-XFQgyL"
      }
    },
    {
      "cell_type": "code",
      "source": [
        "# Use a pre-trained sentence transformer to embed the book descriptions.\n",
        "model_st = SentenceTransformer('all-MiniLM-L6-v2')\n",
        "df['desc_emb'] = df['Description'].fillna(\"\").apply(lambda x: model_st.encode(x))\n",
        "\n",
        "\n",
        "# Split into train/test (e.g., 80/20 split by index for simplicity)\n",
        "train_df = df.sample(frac=0.8, random_state=42)\n",
        "test_df = df.drop(train_df.index)\n",
        "\n",
        "# Build a simple heterogeneous graph (using PyG's HeteroData):\n",
        "def build_hetero_graph(df):\n",
        "    data = HeteroData()\n",
        "\n",
        "    # Create book nodes: use description embeddings as features.\n",
        "    book_emb = np.stack(df['desc_emb'].values)\n",
        "    data['book'].x = torch.tensor(book_emb, dtype=torch.float)\n",
        "\n",
        "    # For authors and genres, create a mapping.\n",
        "    authors = list(df['Author'].unique())\n",
        "    genres = list(df['Genres'].unique())\n",
        "    author2id = {a: i for i, a in enumerate(authors)}\n",
        "    genre2id = {g: i for i, g in enumerate(genres)}\n",
        "\n",
        "    # Create author nodes with one-hot features.\n",
        "    data['author'].num_nodes = len(authors)\n",
        "    data['author'].x = F.one_hot(torch.arange(len(authors)), num_classes=len(authors)).float()\n",
        "\n",
        "    # Create genre nodes.\n",
        "    data['genre'].num_nodes = len(genres)\n",
        "    data['genre'].x = F.one_hot(torch.arange(len(genres)), num_classes=len(genres)).float()\n",
        "\n",
        "    # Build edges: book -> author and book -> genre.\n",
        "    book_ids = np.arange(len(df))\n",
        "    author_ids = [author2id[a] for a in df['Author']]\n",
        "    genre_ids = [genre2id[g] for g in df['Genres']]\n",
        "\n",
        "    data['book', 'written_by', 'author'].edge_index = torch.tensor([book_ids, author_ids], dtype=torch.long)\n",
        "    data['book', 'has_genre', 'genre'].edge_index = torch.tensor([book_ids, genre_ids], dtype=torch.long)\n",
        "\n",
        "    # (Optional) Build book-to-book similarity edges based on cosine similarity between description embeddings:\n",
        "    # For simplicity, here we add edges for pairs with similarity > 0.9.\n",
        "    from sklearn.metrics.pairwise import cosine_similarity\n",
        "    sim_matrix = cosine_similarity(book_emb)\n",
        "    src, dst = np.where(sim_matrix > 0.9)\n",
        "    # remove self-loops:\n",
        "    mask = src != dst\n",
        "    data['book', 'similar_to', 'book'].edge_index = torch.tensor([src[mask], dst[mask]], dtype=torch.long)\n",
        "\n",
        "    # You can also include rating-based popularity as a node attribute or as edge weight.\n",
        "    # For example, store ratings_count and average_rating in a separate tensor.\n",
        "    #convert num ratings to int type for later manipulation\n",
        "    df['Num_Ratings'] = df['Num_Ratings'].str.replace(',', '').astype(int)\n",
        "    data['book'].ratings_count = torch.tensor(df['Num_Ratings'].values.astype(float), dtype=torch.float)\n",
        "    data['book'].average_rating = torch.tensor(df['Avg_Rating'].values.astype(float), dtype=torch.float)\n",
        "\n",
        "    return data\n",
        "\n",
        "data = build_hetero_graph(train_df)  # build graph from training data"
      ],
      "metadata": {
        "id": "Redz0Ifg8wIu"
      },
      "execution_count": 22,
      "outputs": []
    },
    {
      "cell_type": "markdown",
      "source": [
        "MODEL 1 LightGCN for Book Recommendation\n",
        "\n"
      ],
      "metadata": {
        "id": "CzptPv-rvluf"
      }
    },
    {
      "cell_type": "code",
      "source": [
        "import torch\n",
        "import torch.nn.functional as F\n",
        "from torch_geometric.nn import GCNConv\n",
        "from torch import nn\n",
        "from sklearn.metrics import accuracy_score, precision_score, recall_score, f1_score, confusion_matrix\n",
        "import pandas as pd\n",
        "import wandb\n",
        "import matplotlib.pyplot as plt\n",
        "import numpy as np\n",
        "\n",
        "# Initialize wandb before training the model\n",
        "wandb.init(project=\"book-model\",    # Replace with your project name\n",
        "           entity=\"pearlkakande-makerere-university\",       # Replace with your wandb username or team name\n",
        "           config={\"model\": \"LightGCN\", \"epochs\": 30, \"learning_rate\": 0.01})\n",
        "\n",
        "# Assume wandb.login() was called in an earlier cell\n",
        "\n",
        "class LightGCN(nn.Module):\n",
        "    def __init__(self, in_channels, hidden_channels, num_layers=2):\n",
        "        super(LightGCN, self).__init__()\n",
        "        self.convs = nn.ModuleList()\n",
        "        self.convs.append(GCNConv(in_channels, hidden_channels))\n",
        "        for _ in range(num_layers - 1):\n",
        "            self.convs.append(GCNConv(hidden_channels, hidden_channels))\n",
        "        # Final linear layer: note we later concatenate popularity signal so input dims change.\n",
        "        # Here we assume hidden_channels remains unchanged; adjust if needed.\n",
        "        self.lin = nn.Linear(hidden_channels + 1, 2)  # binary classification: warm vs cold\n",
        "\n",
        "    def forward(self, data):\n",
        "        # Use only 'book' nodes for prediction.\n",
        "        x = data['book'].x  # initial features from description embeddings\n",
        "        for conv in self.convs:\n",
        "            x = conv(x, data['book', 'similar_to', 'book'].edge_index)\n",
        "            x = F.relu(x)\n",
        "        # Concatenate popularity signal (ratings_count)\n",
        "        ratings = data['book'].ratings_count.unsqueeze(1)\n",
        "        x_cat = torch.cat([x, ratings], dim=1)\n",
        "        out = self.lin(x_cat)\n",
        "        return out, x_cat  # also return latent embedding for potential distillation\n",
        "\n",
        "# Define warm items based on ratings_count > threshold.\n",
        "threshold = train_df['Num_Ratings'].median()\n",
        "labels = (train_df['Num_Ratings'] > threshold).astype(int).values\n",
        "labels = torch.tensor(labels, dtype=torch.long)\n",
        "\n",
        "# Set device and create model instance\n",
        "device = torch.device('cuda' if torch.cuda.is_available() else 'cpu')\n",
        "model1 = LightGCN(in_channels=data['book'].x.size(1), hidden_channels=64, num_layers=2).to(device)\n",
        "optimizer = torch.optim.Adam(model1.parameters(), lr=0.01)\n",
        "\n",
        "# Move data to device\n",
        "data['book'].x = data['book'].x.to(device)\n",
        "data['book', 'similar_to', 'book'].edge_index = data['book', 'similar_to', 'book'].edge_index.to(device)\n",
        "data['book'].ratings_count = data['book'].ratings_count.to(device)\n",
        "labels = labels.to(device)\n",
        "\n",
        "# Training loop for 30 epochs\n",
        "num_epochs = 30\n",
        "model1.train()\n",
        "for epoch in range(num_epochs):\n",
        "    optimizer.zero_grad()\n",
        "    out, _ = model1(data)\n",
        "    loss = F.cross_entropy(out, labels)\n",
        "    loss.backward()\n",
        "    optimizer.step()\n",
        "\n",
        "    # Evaluate on training data (for demo purposes)\n",
        "    preds = out.argmax(dim=1).cpu().numpy()\n",
        "    truelabels = labels.cpu().numpy()\n",
        "    acc = accuracy_score(truelabels, preds)\n",
        "    prec = precision_score(truelabels, preds, zero_division=0)\n",
        "    rec = recall_score(truelabels, preds, zero_division=0)\n",
        "    f1 = f1_score(truelabels, preds, zero_division=0)\n",
        "\n",
        "    wandb.log({\n",
        "        \"Model\": \"LightGCN\",\n",
        "        \"epoch\": epoch,\n",
        "        \"loss\": loss.item(),\n",
        "        \"accuracy\": acc,\n",
        "        \"precision\": prec,\n",
        "        \"recall\": rec,\n",
        "        \"f1\": f1\n",
        "    })\n",
        "\n",
        "    if epoch % 10 == 0:\n",
        "        print(f\"Epoch {epoch}: Loss={loss.item():.4f}, Acc={acc:.4f}, Prec={prec:.4f}, Rec={rec:.4f}, F1={f1:.4f}\")\n",
        "\n",
        "# After training, create a summary table for the training set.\n",
        "results = {\"Model\": \"LightGCN\", \"Loss\": loss.item(), \"Accuracy\": acc, \"Precision\": prec, \"Recall\": rec, \"F1\": f1}\n",
        "print(pd.DataFrame([results]))\n",
        "\n",
        "# Compute confusion matrix on training data\n",
        "cm = confusion_matrix(truelabels, preds)\n",
        "print(\"Confusion Matrix:\")\n",
        "print(cm)\n",
        "\n",
        "# Optionally, log the confusion matrix as a plot to wandb:\n",
        "plt.figure(figsize=(4,4))\n",
        "plt.imshow(cm, interpolation='nearest', cmap=plt.cm.Blues)\n",
        "plt.title(\"Confusion Matrix\")\n",
        "plt.colorbar()\n",
        "tick_marks = np.arange(2)\n",
        "plt.xticks(tick_marks, [\"Cold\", \"Warm\"])\n",
        "plt.yticks(tick_marks, [\"Cold\", \"Warm\"])\n",
        "plt.xlabel(\"Predicted label\")\n",
        "plt.ylabel(\"True label\")\n",
        "plt.tight_layout()\n",
        "wandb.log({\"confusion_matrix\": wandb.Image(plt)})\n",
        "plt.show()\n",
        "\n",
        "# Finish the wandb run\n",
        "wandb.finish()\n"
      ],
      "metadata": {
        "colab": {
          "base_uri": "https://localhost:8080/",
          "height": 1000
        },
        "id": "GG1-ZQuub2Z_",
        "outputId": "e7c542d8-c903-4c38-b1fa-ff6bd947879f"
      },
      "execution_count": null,
      "outputs": [
        {
          "output_type": "stream",
          "name": "stdout",
          "text": [
            "Epoch 0: Loss=1151.8820, Acc=0.4813, Prec=0.0000, Rec=0.0000, F1=0.0000\n",
            "Epoch 10: Loss=104.4055, Acc=0.5106, Prec=0.5054, Rec=1.0000, F1=0.6714\n",
            "Epoch 20: Loss=117.1444, Acc=0.6120, Prec=0.5631, Rec=1.0000, F1=0.7205\n",
            "      Model       Loss  Accuracy  Precision  Recall        F1\n",
            "0  LightGCN  99.778412  0.712375    0.63482     1.0  0.776624\n",
            "Confusion Matrix:\n",
            "[[1699 2301]\n",
            " [   0 4000]]\n"
          ]
        },
        {
          "output_type": "display_data",
          "data": {
            "text/plain": [
              "<Figure size 400x400 with 2 Axes>"
            ],
            "image/png": "[encoded data removed]"
          },
          "metadata": {}
        },
        {
          "output_type": "display_data",
          "data": {
            "text/plain": [
              "<IPython.core.display.HTML object>"
            ],
            "text/html": []
          },
          "metadata": {}
        },
        {
          "output_type": "display_data",
          "data": {
            "text/plain": [
              "<IPython.core.display.HTML object>"
            ],
            "text/html": [
              "<br>    <style><br>        .wandb-row {<br>            display: flex;<br>            flex-direction: row;<br>            flex-wrap: wrap;<br>            justify-content: flex-start;<br>            width: 100%;<br>        }<br>        .wandb-col {<br>            display: flex;<br>            flex-direction: column;<br>            flex-basis: 100%;<br>            flex: 1;<br>            padding: 10px;<br>        }<br>    </style><br><div class=\"wandb-row\"><div class=\"wandb-col\"><h3>Run history:</h3><br/><table class=\"wandb\"><tr><td>accuracy</td><td>▁▂▂▂▂▂▂▂▂▂▂▂▂▃▃▃▃▄▄▅▅▅▆▆▆▇▇▇██</td></tr><tr><td>epoch</td><td>▁▁▁▂▂▂▂▃▃▃▃▄▄▄▄▅▅▅▅▆▆▆▆▇▇▇▇███</td></tr><tr><td>f1</td><td>▁▇▇▇▇▇▇▇▇▇▇▇▇▇▇▇▇▇▇▇▇█████████</td></tr><tr><td>loss</td><td>█▁▁▁▁▁▁▁▂▂▂▂▂▂▂▂▂▂▂▂▂▂▂▂▂▂▂▂▂▂</td></tr><tr><td>precision</td><td>▁▇▇▇▇▇▇▇▇▇▇▇▇▇▇▇▇▇▇▇▇▇▇▇██████</td></tr><tr><td>recall</td><td>▁█████████████████████████████</td></tr></table><br/></div><div class=\"wandb-col\"><h3>Run summary:</h3><br/><table class=\"wandb\"><tr><td>Model</td><td>LightGCN</td></tr><tr><td>accuracy</td><td>0.71237</td></tr><tr><td>epoch</td><td>29</td></tr><tr><td>f1</td><td>0.77662</td></tr><tr><td>loss</td><td>99.77841</td></tr><tr><td>precision</td><td>0.63482</td></tr><tr><td>recall</td><td>1</td></tr></table><br/></div></div>"
            ]
          },
          "metadata": {}
        },
        {
          "output_type": "display_data",
          "data": {
            "text/plain": [
              "<IPython.core.display.HTML object>"
            ],
            "text/html": [
              " View run <strong style=\"color:#cdcd00\">fresh-fog-1</strong> at: <a href='https://wandb.ai/pearlkakande-makerere-university/book-model/runs/jax94vmp' target=\"_blank\">https://wandb.ai/pearlkakande-makerere-university/book-model/runs/jax94vmp</a><br> View project at: <a href='https://wandb.ai/pearlkakande-makerere-university/book-model' target=\"_blank\">https://wandb.ai/pearlkakande-makerere-university/book-model</a><br>Synced 5 W&B file(s), 1 media file(s), 0 artifact file(s) and 0 other file(s)"
            ]
          },
          "metadata": {}
        },
        {
          "output_type": "display_data",
          "data": {
            "text/plain": [
              "<IPython.core.display.HTML object>"
            ],
            "text/html": [
              "Find logs at: <code>./wandb/run-20250225_222537-jax94vmp/logs</code>"
            ]
          },
          "metadata": {}
        }
      ]
    },
    {
      "cell_type": "markdown",
      "source": [
        "MODEL 2 Graph Attention Network (GAT) for Books\n"
      ],
      "metadata": {
        "id": "nPWE6ZTSh77N"
      }
    },
    {
      "cell_type": "code",
      "source": [
        "import torch\n",
        "import torch.nn.functional as F\n",
        "from torch_geometric.nn import GATConv\n",
        "from torch import nn\n",
        "from sklearn.metrics import accuracy_score, precision_score, recall_score, f1_score, confusion_matrix\n",
        "import pandas as pd\n",
        "import seaborn as sns\n",
        "import matplotlib.pyplot as plt\n",
        "import wandb\n",
        "\n",
        "# Initialize wandb before training the model\n",
        "wandb.init(project=\"book-model\",    # Replace with your project name\n",
        "           entity=\"pearlkakande-makerere-university\",     # Replace with your wandb username or team name\n",
        "           config={\"model\": \"GATBook\", \"epochs\": 30, \"learning_rate\": 0.01})\n",
        "\n",
        "class GATBook(nn.Module):\n",
        "    def __init__(self, in_channels, hidden_channels, heads=2, num_layers=2):\n",
        "        super(GATBook, self).__init__()\n",
        "        self.gat_layers = nn.ModuleList()\n",
        "        self.gat_layers.append(GATConv(in_channels, hidden_channels, heads=heads))\n",
        "        for _ in range(num_layers - 1):\n",
        "            self.gat_layers.append(GATConv(hidden_channels * heads, hidden_channels, heads=heads))\n",
        "        self.lin = nn.Linear(hidden_channels * heads + 1, 2)  # add ratings_count\n",
        "\n",
        "    def forward(self, data):\n",
        "        x = data['book'].x\n",
        "        for gat in self.gat_layers:\n",
        "            x = gat(x, data['book', 'similar_to', 'book'].edge_index)\n",
        "            x = F.elu(x)\n",
        "        ratings = data['book'].ratings_count.unsqueeze(1)\n",
        "        x = torch.cat([x, ratings], dim=1)\n",
        "        out = self.lin(x)\n",
        "        return out\n",
        "\n",
        "# Define warm items based on ratings_count > threshold.\n",
        "threshold = train_df['Num_Ratings'].median()\n",
        "labels = (train_df['Num_Ratings'] > threshold).astype(int).values\n",
        "labels = torch.tensor(labels, dtype=torch.long)\n",
        "\n",
        "# Set device and create model instance\n",
        "device = torch.device('cuda' if torch.cuda.is_available() else 'cpu')\n",
        "model2 = GATBook(in_channels=data['book'].x.size(1), hidden_channels=32, heads=2).to(device)\n",
        "optimizer2 = torch.optim.Adam(model2.parameters(), lr=0.005)\n",
        "\n",
        "# Move data to device\n",
        "data['book'].x = data['book'].x.to(device)\n",
        "data['book', 'similar_to', 'book'].edge_index = data['book', 'similar_to', 'book'].edge_index.to(device)\n",
        "data['book'].ratings_count = data['book'].ratings_count.to(device)\n",
        "labels = labels.to(device)\n",
        "\n",
        "# Training loop for 30 epochs\n",
        "num_epochs = 30\n",
        "model2.train()\n",
        "for epoch in range(num_epochs):\n",
        "    optimizer2.zero_grad()\n",
        "    out = model2(data)\n",
        "    loss = F.cross_entropy(out, labels)\n",
        "    loss.backward()\n",
        "    optimizer2.step()\n",
        "\n",
        "    # Evaluate on training data (for demo purposes)\n",
        "    preds = out.argmax(dim=1).cpu().numpy()\n",
        "    truelabels = labels.cpu().numpy()\n",
        "    acc = accuracy_score(truelabels, preds)\n",
        "    prec = precision_score(truelabels, preds, zero_division=0)\n",
        "    rec = recall_score(truelabels, preds, zero_division=0)\n",
        "    f1 = f1_score(truelabels, preds, zero_division=0)\n",
        "\n",
        "    # Compute confusion matrix\n",
        "    cm = confusion_matrix(truelabels, preds)\n",
        "\n",
        "    # Log metrics and confusion matrix to wandb\n",
        "    wandb.log({\n",
        "        \"Model\": \"GATBook\",\n",
        "        \"epoch\": epoch,\n",
        "        \"loss\": loss.item(),\n",
        "        \"accuracy\": acc,\n",
        "        \"precision\": prec,\n",
        "        \"recall\": rec,\n",
        "        \"f1\": f1,\n",
        "        \"confusion_matrix\": wandb.plot.confusion_matrix(probs=None,\n",
        "                                                        y_true=truelabels,\n",
        "                                                        preds=preds,\n",
        "                                                        class_names=[\"Cold\", \"Warm\"])\n",
        "    })\n",
        "\n",
        "    if epoch % 10 == 0:\n",
        "        print(f\"GAT Epoch {epoch}: Loss={loss.item():.4f}, Acc={acc:.4f}, Prec={prec:.4f}, Rec={rec:.4f}, F1={f1:.4f}\")\n",
        "\n",
        "# After training, create a summary table for the training set.\n",
        "results2 = {\"Model\": \"GATBook\", \"Loss\": loss.item(), \"Accuracy\": acc, \"Precision\": prec, \"Recall\": rec, \"F1\": f1}\n",
        "print(pd.DataFrame([results2]))\n",
        "\n",
        "# Finish the wandb run\n",
        "wandb.finish()\n"
      ],
      "metadata": {
        "colab": {
          "base_uri": "https://localhost:8080/",
          "height": 745
        },
        "id": "6ovH_ZRDjihL",
        "outputId": "112d69e5-466c-4396-dfb6-218a28a75561"
      },
      "execution_count": null,
      "outputs": [
        {
          "output_type": "display_data",
          "data": {
            "text/plain": [
              "<IPython.core.display.HTML object>"
            ],
            "text/html": [
              "Tracking run with wandb version 0.19.6"
            ]
          },
          "metadata": {}
        },
        {
          "output_type": "display_data",
          "data": {
            "text/plain": [
              "<IPython.core.display.HTML object>"
            ],
            "text/html": [
              "Run data is saved locally in <code>/content/wandb/run-20250225_230647-kr4ccoih</code>"
            ]
          },
          "metadata": {}
        },
        {
          "output_type": "display_data",
          "data": {
            "text/plain": [
              "<IPython.core.display.HTML object>"
            ],
            "text/html": [
              "Syncing run <strong><a href='https://wandb.ai/pearlkakande-makerere-university/book-model/runs/kr4ccoih' target=\"_blank\">avid-firefly-2</a></strong> to <a href='https://wandb.ai/pearlkakande-makerere-university/book-model' target=\"_blank\">Weights & Biases</a> (<a href='https://wandb.me/developer-guide' target=\"_blank\">docs</a>)<br>"
            ]
          },
          "metadata": {}
        },
        {
          "output_type": "display_data",
          "data": {
            "text/plain": [
              "<IPython.core.display.HTML object>"
            ],
            "text/html": [
              " View project at <a href='https://wandb.ai/pearlkakande-makerere-university/book-model' target=\"_blank\">https://wandb.ai/pearlkakande-makerere-university/book-model</a>"
            ]
          },
          "metadata": {}
        },
        {
          "output_type": "display_data",
          "data": {
            "text/plain": [
              "<IPython.core.display.HTML object>"
            ],
            "text/html": [
              " View run at <a href='https://wandb.ai/pearlkakande-makerere-university/book-model/runs/kr4ccoih' target=\"_blank\">https://wandb.ai/pearlkakande-makerere-university/book-model/runs/kr4ccoih</a>"
            ]
          },
          "metadata": {}
        },
        {
          "output_type": "stream",
          "name": "stdout",
          "text": [
            "GAT Epoch 0: Loss=66.6111, Acc=0.4999, Prec=0.0000, Rec=0.0000, F1=0.0000\n",
            "GAT Epoch 10: Loss=60.7780, Acc=0.6148, Prec=0.5648, Rec=1.0000, F1=0.7219\n",
            "GAT Epoch 20: Loss=63.3041, Acc=0.7324, Prec=0.6514, Rec=1.0000, F1=0.7889\n",
            "     Model       Loss  Accuracy  Precision  Recall        F1\n",
            "0  GATBook  47.351501   0.79275   0.706964     1.0  0.828329\n"
          ]
        },
        {
          "output_type": "display_data",
          "data": {
            "text/plain": [
              "<IPython.core.display.HTML object>"
            ],
            "text/html": []
          },
          "metadata": {}
        },
        {
          "output_type": "display_data",
          "data": {
            "text/plain": [
              "<IPython.core.display.HTML object>"
            ],
            "text/html": [
              "<br>    <style><br>        .wandb-row {<br>            display: flex;<br>            flex-direction: row;<br>            flex-wrap: wrap;<br>            justify-content: flex-start;<br>            width: 100%;<br>        }<br>        .wandb-col {<br>            display: flex;<br>            flex-direction: column;<br>            flex-basis: 100%;<br>            flex: 1;<br>            padding: 10px;<br>        }<br>    </style><br><div class=\"wandb-row\"><div class=\"wandb-col\"><h3>Run history:</h3><br/><table class=\"wandb\"><tr><td>accuracy</td><td>▁▁▁▁▂▂▂▃▃▃▄▄▄▅▅▅▆▆▆▆▇▇▇▇▇▇████</td></tr><tr><td>epoch</td><td>▁▁▁▂▂▂▂▃▃▃▃▄▄▄▄▅▅▅▅▆▆▆▆▇▇▇▇███</td></tr><tr><td>f1</td><td>▁▇▇▇▇▇▇▇▇▇▇▇▇▇▇▇▇█████████████</td></tr><tr><td>loss</td><td>█▁▂▄▄▅▆▆▇▇▇▇█████████▇▇▇▇▇▆▆▆▅</td></tr><tr><td>precision</td><td>▁▆▆▆▆▆▆▆▆▆▇▇▇▇▇▇▇▇▇▇▇█████████</td></tr><tr><td>recall</td><td>▁█████████████████████████████</td></tr></table><br/></div><div class=\"wandb-col\"><h3>Run summary:</h3><br/><table class=\"wandb\"><tr><td>Model</td><td>GATBook</td></tr><tr><td>accuracy</td><td>0.79275</td></tr><tr><td>epoch</td><td>29</td></tr><tr><td>f1</td><td>0.82833</td></tr><tr><td>loss</td><td>47.3515</td></tr><tr><td>precision</td><td>0.70696</td></tr><tr><td>recall</td><td>1</td></tr></table><br/></div></div>"
            ]
          },
          "metadata": {}
        },
        {
          "output_type": "display_data",
          "data": {
            "text/plain": [
              "<IPython.core.display.HTML object>"
            ],
            "text/html": [
              " View run <strong style=\"color:#cdcd00\">avid-firefly-2</strong> at: <a href='https://wandb.ai/pearlkakande-makerere-university/book-model/runs/kr4ccoih' target=\"_blank\">https://wandb.ai/pearlkakande-makerere-university/book-model/runs/kr4ccoih</a><br> View project at: <a href='https://wandb.ai/pearlkakande-makerere-university/book-model' target=\"_blank\">https://wandb.ai/pearlkakande-makerere-university/book-model</a><br>Synced 5 W&B file(s), 30 media file(s), 60 artifact file(s) and 0 other file(s)"
            ]
          },
          "metadata": {}
        },
        {
          "output_type": "display_data",
          "data": {
            "text/plain": [
              "<IPython.core.display.HTML object>"
            ],
            "text/html": [
              "Find logs at: <code>./wandb/run-20250225_230647-kr4ccoih/logs</code>"
            ]
          },
          "metadata": {}
        }
      ]
    },
    {
      "cell_type": "markdown",
      "source": [
        "MODEL 3"
      ],
      "metadata": {
        "id": "_zdfIKYCp4YW"
      }
    },
    {
      "cell_type": "code",
      "source": [
        "import torch\n",
        "import torch.nn.functional as F\n",
        "from torch_geometric.nn import GCNConv\n",
        "from torch import nn\n",
        "from sklearn.metrics import accuracy_score, precision_score, recall_score, f1_score, confusion_matrix\n",
        "import pandas as pd\n",
        "import wandb\n",
        "import matplotlib.pyplot as plt\n",
        "import numpy as np\n",
        "\n",
        "# Initialize wandb before training the model\n",
        "wandb.init(project=\"book-model\",    # Replace with your project name\n",
        "           entity=\"pearlkakande-makerere-university\",  # your wandb username or team name\n",
        "           config={\"model\": \"PGD\", \"epochs\": 30, \"learning_rate\": 0.01})\n",
        "\n",
        "# Define Teacher and Student models for PGD\n",
        "class TeacherGCN(nn.Module):\n",
        "    def __init__(self, in_channels, hidden_channels):\n",
        "        super(TeacherGCN, self).__init__()\n",
        "        self.conv1 = GCNConv(in_channels, hidden_channels)\n",
        "        self.conv2 = GCNConv(hidden_channels, hidden_channels)\n",
        "\n",
        "    def forward(self, data):\n",
        "        x = data['book'].x\n",
        "        x = F.relu(self.conv1(x, data['book', 'similar_to', 'book'].edge_index))\n",
        "        x = self.conv2(x, data['book', 'similar_to', 'book'].edge_index)\n",
        "        return x\n",
        "\n",
        "class StudentGCN(nn.Module):\n",
        "    def __init__(self, in_channels, hidden_channels):\n",
        "        super(StudentGCN, self).__init__()\n",
        "        self.conv1 = GCNConv(in_channels, hidden_channels)\n",
        "        self.conv2 = GCNConv(hidden_channels, hidden_channels)\n",
        "        self.lin = nn.Linear(hidden_channels + 1, 2)  # +1 for ratings_count feature\n",
        "\n",
        "    def forward(self, data):\n",
        "        x = data['book'].x\n",
        "        x = F.relu(self.conv1(x, data['book', 'similar_to', 'book'].edge_index))\n",
        "        x = self.conv2(x, data['book', 'similar_to', 'book'].edge_index)\n",
        "        ratings = data['book'].ratings_count.unsqueeze(1)\n",
        "        x_cat = torch.cat([x, ratings], dim=1)\n",
        "        out = self.lin(x_cat)\n",
        "        return out, x\n",
        "\n",
        "# Define warm items based on ratings_count > threshold.\n",
        "# Here we use 'Num_Ratings' from train_df for labeling and 'average_rating' as teacher target.\n",
        "threshold = train_df['Num_Ratings'].median()\n",
        "labels = (train_df['Num_Ratings'] > threshold).astype(int).values\n",
        "labels = torch.tensor(labels, dtype=torch.long)\n",
        "\n",
        "# Set device and create model instances\n",
        "device = torch.device('cuda' if torch.cuda.is_available() else 'cpu')\n",
        "teacher = TeacherGCN(in_channels=data['book'].x.size(1), hidden_channels=64).to(device)\n",
        "student = StudentGCN(in_channels=data['book'].x.size(1), hidden_channels=64).to(device)\n",
        "\n",
        "optimizer_teacher = torch.optim.Adam(teacher.parameters(), lr=0.01)\n",
        "optimizer_student = torch.optim.Adam(student.parameters(), lr=0.01)\n",
        "\n",
        "# Move data and labels to device\n",
        "data['book'].x = data['book'].x.to(device)\n",
        "data['book', 'similar_to', 'book'].edge_index = data['book', 'similar_to', 'book'].edge_index.to(device)\n",
        "data['book'].ratings_count = data['book'].ratings_count.to(device)\n",
        "data['book'].average_rating = data['book'].average_rating.to(device)  # used as target for teacher\n",
        "labels = labels.to(device)\n",
        "\n",
        "num_epochs = 30\n",
        "\n",
        "# --- Teacher Training ---\n",
        "teacher.train()\n",
        "for epoch in range(num_epochs):\n",
        "    optimizer_teacher.zero_grad()\n",
        "    teacher_emb = teacher(data)\n",
        "    # Use a regression loss to predict average_rating as a proxy for CF signals.\n",
        "    target = data['book'].average_rating.unsqueeze(1)\n",
        "    # Here we take the mean over the embedding dimensions as a simple proxy.\n",
        "    loss_teacher = F.mse_loss(teacher_emb.mean(dim=1, keepdim=True), target)\n",
        "    loss_teacher.backward()\n",
        "    optimizer_teacher.step()\n",
        "    wandb.log({\"Model\": \"PGD_Teacher\", \"epoch\": epoch, \"loss\": loss_teacher.item()})\n",
        "    if epoch % 10 == 0:\n",
        "        print(f\"Teacher Epoch {epoch}: Loss={loss_teacher.item():.4f}\")\n",
        "\n",
        "# Freeze teacher parameters\n",
        "for param in teacher.parameters():\n",
        "    param.requires_grad = False\n",
        "\n",
        "# --- Student Training with Knowledge Distillation ---\n",
        "student.train()\n",
        "alpha = 0.7  # weight for distillation loss; 0.3 for ground truth classification\n",
        "for epoch in range(num_epochs):\n",
        "    optimizer_student.zero_grad()\n",
        "    out_student, student_emb = student(data)\n",
        "    with torch.no_grad():\n",
        "        teacher_emb = teacher(data)\n",
        "    # Distillation loss: MSE between student and teacher embeddings.\n",
        "    loss_distill = F.mse_loss(student_emb, teacher_emb)\n",
        "    # Classification loss: cross-entropy loss against warm/cold labels.\n",
        "    loss_class = F.cross_entropy(out_student, labels)\n",
        "    loss_total = alpha * loss_distill + (1 - alpha) * loss_class\n",
        "    loss_total.backward()\n",
        "    optimizer_student.step()\n",
        "\n",
        "    preds = out_student.argmax(dim=1).cpu().numpy()\n",
        "    truelabels = labels.cpu().numpy()\n",
        "    acc = accuracy_score(truelabels, preds)\n",
        "    prec = precision_score(truelabels, preds, zero_division=0)\n",
        "    rec = recall_score(truelabels, preds, zero_division=0)\n",
        "    f1 = f1_score(truelabels, preds, zero_division=0)\n",
        "\n",
        "    wandb.log({\"Model\": \"PGD_Student\", \"epoch\": epoch, \"loss_total\": loss_total.item(),\n",
        "               \"distill_loss\": loss_distill.item(), \"class_loss\": loss_class.item(),\n",
        "               \"accuracy\": acc, \"precision\": prec, \"recall\": rec, \"f1\": f1})\n",
        "    if epoch % 10 == 0:\n",
        "        print(f\"Student Epoch {epoch}: Total Loss={loss_total.item():.4f}\")\n",
        "\n",
        "results3 = {\"Model\": \"PGD (Student)\", \"Loss\": loss_total.item(), \"Accuracy\": acc,\n",
        "            \"Precision\": prec, \"Recall\": rec, \"F1\": f1}\n",
        "print(pd.DataFrame([results3]))\n",
        "\n",
        "# Compute confusion matrix on training data using final predictions\n",
        "cm = confusion_matrix(truelabels, preds)\n",
        "print(\"Confusion Matrix:\")\n",
        "print(cm)\n",
        "\n",
        "# Plot and log the confusion matrix to wandb\n",
        "plt.figure(figsize=(4,4))\n",
        "plt.imshow(cm, interpolation='nearest', cmap=plt.cm.Blues)\n",
        "plt.title(\"Confusion Matrix (PGD Student)\")\n",
        "plt.colorbar()\n",
        "tick_marks = np.arange(2)\n",
        "plt.xticks(tick_marks, [\"Cold\", \"Warm\"])\n",
        "plt.yticks(tick_marks, [\"Cold\", \"Warm\"])\n",
        "plt.xlabel(\"Predicted label\")\n",
        "plt.ylabel(\"True label\")\n",
        "plt.tight_layout()\n",
        "wandb.log({\"confusion_matrix\": wandb.Image(plt)})\n",
        "plt.show()\n",
        "\n",
        "# Finish the wandb run\n",
        "wandb.finish()\n"
      ],
      "metadata": {
        "colab": {
          "base_uri": "https://localhost:8080/",
          "height": 1000
        },
        "id": "xe--QZEMvQ3O",
        "outputId": "c2cb9126-a2af-4422-815c-ee0177524564"
      },
      "execution_count": null,
      "outputs": [
        {
          "output_type": "display_data",
          "data": {
            "text/plain": [
              "<IPython.core.display.HTML object>"
            ],
            "text/html": [
              "Tracking run with wandb version 0.19.6"
            ]
          },
          "metadata": {}
        },
        {
          "output_type": "display_data",
          "data": {
            "text/plain": [
              "<IPython.core.display.HTML object>"
            ],
            "text/html": [
              "Run data is saved locally in <code>/content/wandb/run-20250225_235732-z1fiku6d</code>"
            ]
          },
          "metadata": {}
        },
        {
          "output_type": "display_data",
          "data": {
            "text/plain": [
              "<IPython.core.display.HTML object>"
            ],
            "text/html": [
              "Syncing run <strong><a href='https://wandb.ai/pearlkakande-makerere-university/book-model/runs/z1fiku6d' target=\"_blank\">glowing-sun-3</a></strong> to <a href='https://wandb.ai/pearlkakande-makerere-university/book-model' target=\"_blank\">Weights & Biases</a> (<a href='https://wandb.me/developer-guide' target=\"_blank\">docs</a>)<br>"
            ]
          },
          "metadata": {}
        },
        {
          "output_type": "display_data",
          "data": {
            "text/plain": [
              "<IPython.core.display.HTML object>"
            ],
            "text/html": [
              " View project at <a href='https://wandb.ai/pearlkakande-makerere-university/book-model' target=\"_blank\">https://wandb.ai/pearlkakande-makerere-university/book-model</a>"
            ]
          },
          "metadata": {}
        },
        {
          "output_type": "display_data",
          "data": {
            "text/plain": [
              "<IPython.core.display.HTML object>"
            ],
            "text/html": [
              " View run at <a href='https://wandb.ai/pearlkakande-makerere-university/book-model/runs/z1fiku6d' target=\"_blank\">https://wandb.ai/pearlkakande-makerere-university/book-model/runs/z1fiku6d</a>"
            ]
          },
          "metadata": {}
        },
        {
          "output_type": "stream",
          "name": "stdout",
          "text": [
            "Teacher Epoch 0: Loss=16.6825\n",
            "Teacher Epoch 10: Loss=1.5315\n",
            "Teacher Epoch 20: Loss=0.9638\n",
            "Student Epoch 0: Total Loss=50.0902\n",
            "Student Epoch 10: Total Loss=18.2100\n",
            "Student Epoch 20: Total Loss=37.1157\n",
            "           Model       Loss  Accuracy  Precision  Recall       F1\n",
            "0  PGD (Student)  37.840187    0.7835   0.697837     1.0  0.82203\n",
            "Confusion Matrix:\n",
            "[[2268 1732]\n",
            " [   0 4000]]\n"
          ]
        },
        {
          "output_type": "display_data",
          "data": {
            "text/plain": [
              "<Figure size 400x400 with 2 Axes>"
            ],
            "image/png": "[encoded data removed]"
          },
          "metadata": {}
        },
        {
          "output_type": "display_data",
          "data": {
            "text/plain": [
              "<IPython.core.display.HTML object>"
            ],
            "text/html": []
          },
          "metadata": {}
        },
        {
          "output_type": "display_data",
          "data": {
            "text/plain": [
              "<IPython.core.display.HTML object>"
            ],
            "text/html": [
              "<br>    <style><br>        .wandb-row {<br>            display: flex;<br>            flex-direction: row;<br>            flex-wrap: wrap;<br>            justify-content: flex-start;<br>            width: 100%;<br>        }<br>        .wandb-col {<br>            display: flex;<br>            flex-direction: column;<br>            flex-basis: 100%;<br>            flex: 1;<br>            padding: 10px;<br>        }<br>    </style><br><div class=\"wandb-row\"><div class=\"wandb-col\"><h3>Run history:</h3><br/><table class=\"wandb\"><tr><td>accuracy</td><td>▁▁▂▄▇▁▁▇▇▇▇▇▇▇▇▇▇▇▇▇▇▇▇███████</td></tr><tr><td>class_loss</td><td>▂▂▁▁▁█▃▁▁▁▁▁▁▁▁▁▂▂▂▂▂▂▂▂▂▂▂▂▂▂</td></tr><tr><td>distill_loss</td><td>██▇▇▆▅▄▃▂▂▁▁▂▂▂▃▂▂▂▁▁▁▁▁▁▁▁▁▁▂</td></tr><tr><td>epoch</td><td>▁▁▁▂▂▃▃▃▄▄▅▅▅▅▅▇▇▇▇█▁▁▁▂▂▃▃▃▃▃▅▅▅▅▆▆▇▇▇█</td></tr><tr><td>f1</td><td>▇▇▇▇█▁▁███████████████████████</td></tr><tr><td>loss</td><td>██▇▇▆▅▄▄▃▂▁▁▁▂▂▂▂▂▁▁▁▁▁▁▁▁▁▁▁▁</td></tr><tr><td>loss_total</td><td>▂▂▁▁▁█▃▁▁▁▁▁▁▁▁▁▁▂▂▂▂▂▂▂▂▂▂▂▂▂</td></tr><tr><td>precision</td><td>▆▆▆▇█▁▁██▇████████████████████</td></tr><tr><td>recall</td><td>█████▁▁███████████████████████</td></tr></table><br/></div><div class=\"wandb-col\"><h3>Run summary:</h3><br/><table class=\"wandb\"><tr><td>Model</td><td>PGD_Student</td></tr><tr><td>accuracy</td><td>0.7835</td></tr><tr><td>class_loss</td><td>123.32014</td></tr><tr><td>distill_loss</td><td>1.20592</td></tr><tr><td>epoch</td><td>29</td></tr><tr><td>f1</td><td>0.82203</td></tr><tr><td>loss</td><td>1.1399</td></tr><tr><td>loss_total</td><td>37.84019</td></tr><tr><td>precision</td><td>0.69784</td></tr><tr><td>recall</td><td>1</td></tr></table><br/></div></div>"
            ]
          },
          "metadata": {}
        },
        {
          "output_type": "display_data",
          "data": {
            "text/plain": [
              "<IPython.core.display.HTML object>"
            ],
            "text/html": [
              " View run <strong style=\"color:#cdcd00\">glowing-sun-3</strong> at: <a href='https://wandb.ai/pearlkakande-makerere-university/book-model/runs/z1fiku6d' target=\"_blank\">https://wandb.ai/pearlkakande-makerere-university/book-model/runs/z1fiku6d</a><br> View project at: <a href='https://wandb.ai/pearlkakande-makerere-university/book-model' target=\"_blank\">https://wandb.ai/pearlkakande-makerere-university/book-model</a><br>Synced 5 W&B file(s), 1 media file(s), 0 artifact file(s) and 0 other file(s)"
            ]
          },
          "metadata": {}
        },
        {
          "output_type": "display_data",
          "data": {
            "text/plain": [
              "<IPython.core.display.HTML object>"
            ],
            "text/html": [
              "Find logs at: <code>./wandb/run-20250225_235732-z1fiku6d/logs</code>"
            ]
          },
          "metadata": {}
        }
      ]
    },
    {
      "cell_type": "markdown",
      "source": [
        "MODEL 4 Hybrid Graph-based Model for Cold-Start Recommendations"
      ],
      "metadata": {
        "id": "ZSp4b1mEx-F1"
      }
    },
    {
      "cell_type": "code",
      "source": [
        "import torch\n",
        "import torch.nn.functional as F\n",
        "from torch_geometric.nn import GCNConv\n",
        "from torch import nn\n",
        "from sklearn.metrics import accuracy_score, precision_score, recall_score, f1_score, confusion_matrix\n",
        "import pandas as pd\n",
        "import wandb\n",
        "import matplotlib.pyplot as plt\n",
        "import numpy as np\n",
        "\n",
        "# Initialize wandb before training the model\n",
        "wandb.init(project=\"book-model\",\n",
        "           entity=\"pearlkakande-makerere-university\",\n",
        "           config={\"model\": \"Hybrid\", \"epochs\": 30, \"learning_rate\": 0.005})\n",
        "\n",
        "class HybridModel(nn.Module):\n",
        "    def __init__(self, in_channels, hidden_channels, text_dim):\n",
        "        super(HybridModel, self).__init__()\n",
        "        # Graph branch\n",
        "        self.gcn1 = GCNConv(in_channels, hidden_channels)\n",
        "        self.gcn2 = GCNConv(hidden_channels, hidden_channels)\n",
        "        # Text branch\n",
        "        self.fc_text = nn.Linear(text_dim, hidden_channels)\n",
        "        # Fusion and final classifier (with popularity)\n",
        "        self.fc_final = nn.Linear(hidden_channels * 2 + 1, 2)\n",
        "\n",
        "    def forward(self, data):\n",
        "        # Graph branch\n",
        "        x_graph = F.relu(self.gcn1(data['book'].x, data['book', 'similar_to', 'book'].edge_index))\n",
        "        x_graph = self.gcn2(x_graph, data['book', 'similar_to', 'book'].edge_index)\n",
        "        # Text branch\n",
        "        x_text = F.relu(self.fc_text(data['book'].x))\n",
        "        # Combine graph, text, and popularity features\n",
        "        ratings = data['book'].ratings_count.unsqueeze(1)\n",
        "        x_comb = torch.cat([x_graph, x_text, ratings], dim=1)\n",
        "        out = self.fc_final(x_comb)\n",
        "        return out\n",
        "\n",
        "# Define warm items based on ratings_count > threshold.\n",
        "threshold = train_df['Num_Ratings'].median()\n",
        "labels = (train_df['Num_Ratings'] > threshold).astype(int).values\n",
        "labels = torch.tensor(labels, dtype=torch.long)\n",
        "\n",
        "# Set device and create model instance\n",
        "device = torch.device('cuda' if torch.cuda.is_available() else 'cpu')\n",
        "model4 = HybridModel(in_channels=data['book'].x.size(1), hidden_channels=32, text_dim=data['book'].x.size(1)).to(device)\n",
        "optimizer4 = torch.optim.Adam(model4.parameters(), lr=0.005)\n",
        "\n",
        "# Move data to device\n",
        "data['book'].x = data['book'].x.to(device)\n",
        "data['book', 'similar_to', 'book'].edge_index = data['book', 'similar_to', 'book'].edge_index.to(device)\n",
        "data['book'].ratings_count = data['book'].ratings_count.to(device)\n",
        "labels = labels.to(device)\n",
        "\n",
        "# Training loop for 30 epochs\n",
        "num_epochs = 30\n",
        "model4.train()\n",
        "for epoch in range(num_epochs):\n",
        "    optimizer4.zero_grad()\n",
        "    out = model4(data)\n",
        "    loss = F.cross_entropy(out, labels)\n",
        "    loss.backward()\n",
        "    optimizer4.step()\n",
        "\n",
        "    # Evaluate on training data\n",
        "    preds = out.argmax(dim=1).cpu().numpy()\n",
        "    truelabels = labels.cpu().numpy()\n",
        "    acc = accuracy_score(truelabels, preds)\n",
        "    prec = precision_score(truelabels, preds, zero_division=0)\n",
        "    rec = recall_score(truelabels, preds, zero_division=0)\n",
        "    f1 = f1_score(truelabels, preds, zero_division=0)\n",
        "\n",
        "    wandb.log({\n",
        "        \"Model\": \"Hybrid\",\n",
        "        \"epoch\": epoch,\n",
        "        \"loss\": loss.item(),\n",
        "        \"accuracy\": acc,\n",
        "        \"precision\": prec,\n",
        "        \"recall\": rec,\n",
        "        \"f1\": f1\n",
        "    })\n",
        "\n",
        "    if epoch % 10 == 0:\n",
        "        print(f\"Hybrid Epoch {epoch}: Loss={loss.item():.4f}\")\n",
        "\n",
        "# Compute confusion matrix\n",
        "cm = confusion_matrix(truelabels, preds)\n",
        "print(\"Confusion Matrix:\")\n",
        "print(cm)\n",
        "\n",
        "# Plot and log the confusion matrix as an image to wandb\n",
        "plt.figure(figsize=(4,4))\n",
        "plt.imshow(cm, interpolation='nearest', cmap=plt.cm.Blues)\n",
        "plt.title(\"Confusion Matrix (Hybrid Model)\")\n",
        "plt.colorbar()\n",
        "tick_marks = np.arange(2)\n",
        "plt.xticks(tick_marks, [\"Cold\", \"Warm\"])\n",
        "plt.yticks(tick_marks, [\"Cold\", \"Warm\"])\n",
        "plt.xlabel(\"Predicted label\")\n",
        "plt.ylabel(\"True label\")\n",
        "plt.tight_layout()\n",
        "wandb.log({\"confusion_matrix\": wandb.Image(plt)})\n",
        "plt.show()\n",
        "\n",
        "results4 = {\"Model\": \"Hybrid\", \"Loss\": loss.item(), \"Accuracy\": acc, \"Precision\": prec, \"Recall\": rec, \"F1\": f1}\n",
        "print(pd.DataFrame([results4]))\n",
        "\n",
        "# Finish the wandb run\n",
        "wandb.finish()\n"
      ],
      "metadata": {
        "colab": {
          "base_uri": "https://localhost:8080/",
          "height": 1000
        },
        "id": "p1nlLLH7HJmn",
        "outputId": "42c6d57c-e0cc-4ad7-b63c-5b793ad82816"
      },
      "execution_count": null,
      "outputs": [
        {
          "output_type": "display_data",
          "data": {
            "text/plain": [
              "<IPython.core.display.HTML object>"
            ],
            "text/html": [
              "Tracking run with wandb version 0.19.6"
            ]
          },
          "metadata": {}
        },
        {
          "output_type": "display_data",
          "data": {
            "text/plain": [
              "<IPython.core.display.HTML object>"
            ],
            "text/html": [
              "Run data is saved locally in <code>/content/wandb/run-20250226_001056-yasd14lt</code>"
            ]
          },
          "metadata": {}
        },
        {
          "output_type": "display_data",
          "data": {
            "text/plain": [
              "<IPython.core.display.HTML object>"
            ],
            "text/html": [
              "Syncing run <strong><a href='https://wandb.ai/pearlkakande-makerere-university/book-model/runs/yasd14lt' target=\"_blank\">cool-pine-6</a></strong> to <a href='https://wandb.ai/pearlkakande-makerere-university/book-model' target=\"_blank\">Weights & Biases</a> (<a href='https://wandb.me/developer-guide' target=\"_blank\">docs</a>)<br>"
            ]
          },
          "metadata": {}
        },
        {
          "output_type": "display_data",
          "data": {
            "text/plain": [
              "<IPython.core.display.HTML object>"
            ],
            "text/html": [
              " View project at <a href='https://wandb.ai/pearlkakande-makerere-university/book-model' target=\"_blank\">https://wandb.ai/pearlkakande-makerere-university/book-model</a>"
            ]
          },
          "metadata": {}
        },
        {
          "output_type": "display_data",
          "data": {
            "text/plain": [
              "<IPython.core.display.HTML object>"
            ],
            "text/html": [
              " View run at <a href='https://wandb.ai/pearlkakande-makerere-university/book-model/runs/yasd14lt' target=\"_blank\">https://wandb.ai/pearlkakande-makerere-university/book-model/runs/yasd14lt</a>"
            ]
          },
          "metadata": {}
        },
        {
          "output_type": "stream",
          "name": "stdout",
          "text": [
            "Hybrid Epoch 0: Loss=55.8003\n",
            "Hybrid Epoch 10: Loss=41.4788\n",
            "Hybrid Epoch 20: Loss=73.1341\n",
            "Confusion Matrix:\n",
            "[[1968 2032]\n",
            " [   0 4000]]\n"
          ]
        },
        {
          "output_type": "display_data",
          "data": {
            "text/plain": [
              "<Figure size 400x400 with 2 Axes>"
            ],
            "image/png": "[encoded data removed]"
          },
          "metadata": {}
        },
        {
          "output_type": "stream",
          "name": "stdout",
          "text": [
            "    Model       Loss  Accuracy  Precision  Recall        F1\n",
            "0  Hybrid  73.800804     0.746    0.66313     1.0  0.797448\n"
          ]
        },
        {
          "output_type": "display_data",
          "data": {
            "text/plain": [
              "<IPython.core.display.HTML object>"
            ],
            "text/html": []
          },
          "metadata": {}
        },
        {
          "output_type": "display_data",
          "data": {
            "text/plain": [
              "<IPython.core.display.HTML object>"
            ],
            "text/html": [
              "<br>    <style><br>        .wandb-row {<br>            display: flex;<br>            flex-direction: row;<br>            flex-wrap: wrap;<br>            justify-content: flex-start;<br>            width: 100%;<br>        }<br>        .wandb-col {<br>            display: flex;<br>            flex-direction: column;<br>            flex-basis: 100%;<br>            flex: 1;<br>            padding: 10px;<br>        }<br>    </style><br><div class=\"wandb-row\"><div class=\"wandb-col\"><h3>Run history:</h3><br/><table class=\"wandb\"><tr><td>accuracy</td><td>▁▁▂▅▁▁▅▅▄▄▄▄▄▅▅▅▅▅▆▆▆▆▇▇▇▇▇███</td></tr><tr><td>epoch</td><td>▁▁▁▂▂▂▂▃▃▃▃▄▄▄▄▅▅▅▅▆▆▆▆▇▇▇▇███</td></tr><tr><td>f1</td><td>▇▇▇▇▁▁█▇▇▇▇▇▇▇▇▇▇█████████████</td></tr><tr><td>loss</td><td>▂▁▁▁█▂▁▁▁▁▁▂▂▂▂▂▂▂▂▂▂▂▂▂▂▂▂▂▂▂</td></tr><tr><td>precision</td><td>▆▆▇▇▁▁▇▇▇▇▇▇▇▇▇▇▇▇▇▇▇█████████</td></tr><tr><td>recall</td><td>████▁▁████████████████████████</td></tr></table><br/></div><div class=\"wandb-col\"><h3>Run summary:</h3><br/><table class=\"wandb\"><tr><td>Model</td><td>Hybrid</td></tr><tr><td>accuracy</td><td>0.746</td></tr><tr><td>epoch</td><td>29</td></tr><tr><td>f1</td><td>0.79745</td></tr><tr><td>loss</td><td>73.8008</td></tr><tr><td>precision</td><td>0.66313</td></tr><tr><td>recall</td><td>1</td></tr></table><br/></div></div>"
            ]
          },
          "metadata": {}
        },
        {
          "output_type": "display_data",
          "data": {
            "text/plain": [
              "<IPython.core.display.HTML object>"
            ],
            "text/html": [
              " View run <strong style=\"color:#cdcd00\">cool-pine-6</strong> at: <a href='https://wandb.ai/pearlkakande-makerere-university/book-model/runs/yasd14lt' target=\"_blank\">https://wandb.ai/pearlkakande-makerere-university/book-model/runs/yasd14lt</a><br> View project at: <a href='https://wandb.ai/pearlkakande-makerere-university/book-model' target=\"_blank\">https://wandb.ai/pearlkakande-makerere-university/book-model</a><br>Synced 5 W&B file(s), 1 media file(s), 0 artifact file(s) and 0 other file(s)"
            ]
          },
          "metadata": {}
        },
        {
          "output_type": "display_data",
          "data": {
            "text/plain": [
              "<IPython.core.display.HTML object>"
            ],
            "text/html": [
              "Find logs at: <code>./wandb/run-20250226_001056-yasd14lt/logs</code>"
            ]
          },
          "metadata": {}
        }
      ]
    },
    {
      "cell_type": "markdown",
      "source": [
        "MODEL 5 Knowledge Distillation with ALDI Framework"
      ],
      "metadata": {
        "id": "a4Z9JrMpR6CH"
      }
    },
    {
      "cell_type": "code",
      "source": [
        "import torch\n",
        "import torch.nn.functional as F\n",
        "from torch_geometric.nn import GCNConv\n",
        "from torch import nn\n",
        "from sklearn.metrics import accuracy_score, precision_score, recall_score, f1_score, confusion_matrix\n",
        "import pandas as pd\n",
        "import wandb\n",
        "import matplotlib.pyplot as plt\n",
        "import numpy as np\n",
        "\n",
        "# Initialize wandb before training the model\n",
        "wandb.init(project=\"book-model\",    # Replace with your project name\n",
        "           entity=\"pearlkakande-makerere-university\",  # your wandb username or team name\n",
        "           config={\"model\": \"ALDI\", \"epochs\": 30, \"learning_rate\": 0.01})\n",
        "\n",
        "class ALDITeacher(nn.Module):\n",
        "    def __init__(self, in_channels, hidden_channels):\n",
        "        super(ALDITeacher, self).__init__()\n",
        "        self.conv = GCNConv(in_channels, hidden_channels)\n",
        "\n",
        "    def forward(self, data):\n",
        "        x = self.conv(data['book'].x, data['book', 'similar_to', 'book'].edge_index)\n",
        "        return x\n",
        "\n",
        "class ALDIStudent(nn.Module):\n",
        "    def __init__(self, in_channels, hidden_channels):\n",
        "        super(ALDIStudent, self).__init__()\n",
        "        self.conv = GCNConv(in_channels, hidden_channels)\n",
        "        self.lin = nn.Linear(hidden_channels + 1, 2)  # +1 for ratings_count\n",
        "\n",
        "    def forward(self, data):\n",
        "        x = self.conv(data['book'].x, data['book', 'similar_to', 'book'].edge_index)\n",
        "        ratings = data['book'].ratings_count.unsqueeze(1)\n",
        "        x_cat = torch.cat([x, ratings], dim=1)\n",
        "        out = self.lin(x_cat)\n",
        "        return out, x\n",
        "\n",
        "# Create model instances\n",
        "teacher_aldi = ALDITeacher(in_channels=data['book'].x.size(1), hidden_channels=64).to(device)\n",
        "student_aldi = ALDIStudent(in_channels=data['book'].x.size(1), hidden_channels=64).to(device)\n",
        "\n",
        "optimizer_teacher_aldi = torch.optim.Adam(teacher_aldi.parameters(), lr=0.01)\n",
        "optimizer_student_aldi = torch.optim.Adam(student_aldi.parameters(), lr=0.01)\n",
        "\n",
        "# Define warm items based on ratings_count > threshold.\n",
        "threshold = train_df['Num_Ratings'].median()\n",
        "labels = (train_df['Num_Ratings'] > threshold).astype(int).values\n",
        "labels = torch.tensor(labels, dtype=torch.long)\n",
        "\n",
        "# Move data and labels to device\n",
        "data['book'].x = data['book'].x.to(device)\n",
        "data['book', 'similar_to', 'book'].edge_index = data['book', 'similar_to', 'book'].edge_index.to(device)\n",
        "data['book'].ratings_count = data['book'].ratings_count.to(device)\n",
        "data['book'].average_rating = data['book'].average_rating.to(device)\n",
        "labels = labels.to(device)\n",
        "\n",
        "num_epochs = 30\n",
        "\n",
        "# --- Teacher Training ---\n",
        "teacher_aldi.train()\n",
        "for epoch in range(num_epochs):\n",
        "    optimizer_teacher_aldi.zero_grad()\n",
        "    emb = teacher_aldi(data)\n",
        "    # Use MSE loss to predict the average rating as a proxy for CF signals.\n",
        "    target = data['book'].average_rating.unsqueeze(1)\n",
        "    loss_teacher = F.mse_loss(emb.mean(dim=1), target)\n",
        "    loss_teacher.backward()\n",
        "    optimizer_teacher_aldi.step()\n",
        "    wandb.log({\"Model\": \"ALDI_Teacher\", \"epoch\": epoch, \"loss\": loss_teacher.item()})\n",
        "    if epoch % 10 == 0:\n",
        "        print(f\"ALDI Teacher Epoch {epoch}: Loss={loss_teacher.item():.4f}\")\n",
        "\n",
        "# Freeze teacher parameters\n",
        "for param in teacher_aldi.parameters():\n",
        "    param.requires_grad = False\n",
        "\n",
        "# --- Student Training with Knowledge Distillation ---\n",
        "student_aldi.train()\n",
        "alpha = 0.6  # weight for distillation loss; 0.4 for ground truth classification\n",
        "for epoch in range(num_epochs):\n",
        "    optimizer_student_aldi.zero_grad()\n",
        "    out_student, emb_student = student_aldi(data)\n",
        "    with torch.no_grad():\n",
        "        teacher_emb = teacher_aldi(data)\n",
        "    # Distillation loss: MSE between student and teacher embeddings.\n",
        "    loss_distill = F.mse_loss(emb_student, teacher_emb)\n",
        "    # Classification loss: cross-entropy loss against warm/cold labels.\n",
        "    loss_class = F.cross_entropy(out_student, labels)\n",
        "    loss_total = alpha * loss_distill + (1 - alpha) * loss_class\n",
        "    loss_total.backward()\n",
        "    optimizer_student_aldi.step()\n",
        "\n",
        "    preds = out_student.argmax(dim=1).cpu().numpy()\n",
        "    truelabels = labels.cpu().numpy()\n",
        "    acc = accuracy_score(truelabels, preds)\n",
        "    prec = precision_score(truelabels, preds, zero_division=0)\n",
        "    rec = recall_score(truelabels, preds, zero_division=0)\n",
        "    f1 = f1_score(truelabels, preds, zero_division=0)\n",
        "\n",
        "    wandb.log({\"Model\": \"ALDI_Student\", \"epoch\": epoch, \"loss_total\": loss_total.item(),\n",
        "               \"distill_loss\": loss_distill.item(), \"class_loss\": loss_class.item(),\n",
        "               \"accuracy\": acc, \"precision\": prec, \"recall\": rec, \"f1\": f1})\n",
        "\n",
        "    if epoch % 10 == 0:\n",
        "        print(f\"ALDI Student Epoch {epoch}: Total Loss={loss_total.item():.4f}\")\n",
        "\n",
        "results5 = {\"Model\": \"ALDI (Student)\", \"Loss\": loss_total.item(), \"Accuracy\": acc,\n",
        "            \"Precision\": prec, \"Recall\": rec, \"F1\": f1}\n",
        "print(pd.DataFrame([results5]))\n",
        "\n",
        "# Compute confusion matrix on training data\n",
        "cm = confusion_matrix(truelabels, preds)\n",
        "print(\"Confusion Matrix:\")\n",
        "print(cm)\n",
        "\n",
        "# Plot and log the confusion matrix as an image to wandb\n",
        "plt.figure(figsize=(4,4))\n",
        "plt.imshow(cm, interpolation='nearest', cmap=plt.cm.Blues)\n",
        "plt.title(\"Confusion Matrix (ALDI Student)\")\n",
        "plt.colorbar()\n",
        "tick_marks = np.arange(2)\n",
        "plt.xticks(tick_marks, [\"Cold\", \"Warm\"])\n",
        "plt.yticks(tick_marks, [\"Cold\", \"Warm\"])\n",
        "plt.xlabel(\"Predicted label\")\n",
        "plt.ylabel(\"True label\")\n",
        "plt.tight_layout()\n",
        "wandb.log({\"confusion_matrix\": wandb.Image(plt)})\n",
        "plt.show()\n",
        "\n",
        "# Finish the wandb run\n",
        "wandb.finish()\n"
      ],
      "metadata": {
        "colab": {
          "base_uri": "https://localhost:8080/",
          "height": 1000
        },
        "id": "fTQwwvn0UsTy",
        "outputId": "e024824c-bff9-473f-ecf1-d7857367d9e1"
      },
      "execution_count": null,
      "outputs": [
        {
          "output_type": "display_data",
          "data": {
            "text/plain": [
              "<IPython.core.display.HTML object>"
            ],
            "text/html": [
              "Tracking run with wandb version 0.19.6"
            ]
          },
          "metadata": {}
        },
        {
          "output_type": "display_data",
          "data": {
            "text/plain": [
              "<IPython.core.display.HTML object>"
            ],
            "text/html": [
              "Run data is saved locally in <code>/content/wandb/run-20250226_001655-v7n0azn6</code>"
            ]
          },
          "metadata": {}
        },
        {
          "output_type": "display_data",
          "data": {
            "text/plain": [
              "<IPython.core.display.HTML object>"
            ],
            "text/html": [
              "Syncing run <strong><a href='https://wandb.ai/pearlkakande-makerere-university/book-model/runs/v7n0azn6' target=\"_blank\">flowing-water-7</a></strong> to <a href='https://wandb.ai/pearlkakande-makerere-university/book-model' target=\"_blank\">Weights & Biases</a> (<a href='https://wandb.me/developer-guide' target=\"_blank\">docs</a>)<br>"
            ]
          },
          "metadata": {}
        },
        {
          "output_type": "display_data",
          "data": {
            "text/plain": [
              "<IPython.core.display.HTML object>"
            ],
            "text/html": [
              " View project at <a href='https://wandb.ai/pearlkakande-makerere-university/book-model' target=\"_blank\">https://wandb.ai/pearlkakande-makerere-university/book-model</a>"
            ]
          },
          "metadata": {}
        },
        {
          "output_type": "display_data",
          "data": {
            "text/plain": [
              "<IPython.core.display.HTML object>"
            ],
            "text/html": [
              " View run at <a href='https://wandb.ai/pearlkakande-makerere-university/book-model/runs/v7n0azn6' target=\"_blank\">https://wandb.ai/pearlkakande-makerere-university/book-model/runs/v7n0azn6</a>"
            ]
          },
          "metadata": {}
        },
        {
          "output_type": "stream",
          "name": "stderr",
          "text": [
            "<ipython-input-18-23592702bdc8>:66: UserWarning: Using a target size (torch.Size([8000, 1])) that is different to the input size (torch.Size([8000])). This will likely lead to incorrect results due to broadcasting. Please ensure they have the same size.\n",
            "  loss_teacher = F.mse_loss(emb.mean(dim=1), target)\n"
          ]
        },
        {
          "output_type": "stream",
          "name": "stdout",
          "text": [
            "ALDI Teacher Epoch 0: Loss=16.6653\n",
            "ALDI Teacher Epoch 10: Loss=11.1444\n",
            "ALDI Teacher Epoch 20: Loss=6.9988\n",
            "ALDI Student Epoch 0: Total Loss=479.8659\n",
            "ALDI Student Epoch 10: Total Loss=41.5132\n",
            "ALDI Student Epoch 20: Total Loss=42.9137\n",
            "            Model       Loss  Accuracy  Precision  Recall        F1\n",
            "0  ALDI (Student)  33.467648  0.783375   0.697715     1.0  0.821946\n",
            "Confusion Matrix:\n",
            "[[2267 1733]\n",
            " [   0 4000]]\n"
          ]
        },
        {
          "output_type": "display_data",
          "data": {
            "text/plain": [
              "<Figure size 400x400 with 2 Axes>"
            ],
            "image/png": "[encoded data removed]"
          },
          "metadata": {}
        },
        {
          "output_type": "display_data",
          "data": {
            "text/plain": [
              "<IPython.core.display.HTML object>"
            ],
            "text/html": []
          },
          "metadata": {}
        },
        {
          "output_type": "display_data",
          "data": {
            "text/plain": [
              "<IPython.core.display.HTML object>"
            ],
            "text/html": [
              "<br>    <style><br>        .wandb-row {<br>            display: flex;<br>            flex-direction: row;<br>            flex-wrap: wrap;<br>            justify-content: flex-start;<br>            width: 100%;<br>        }<br>        .wandb-col {<br>            display: flex;<br>            flex-direction: column;<br>            flex-basis: 100%;<br>            flex: 1;<br>            padding: 10px;<br>        }<br>    </style><br><div class=\"wandb-row\"><div class=\"wandb-col\"><h3>Run history:</h3><br/><table class=\"wandb\"><tr><td>accuracy</td><td>▁▃▃▃▄▄▄▅▅▅▅▆▆▆▆▆▆▇▇▇▇▇▇▇▇█████</td></tr><tr><td>class_loss</td><td>█▁▁▁▁▁▁▁▁▂▂▂▂▂▂▂▂▂▂▂▂▂▂▂▂▂▁▁▁▁</td></tr><tr><td>distill_loss</td><td>██▇▇▆▆▅▅▅▄▄▄▃▃▃▃▂▂▂▂▂▁▁▁▁▁▁▁▁▁</td></tr><tr><td>epoch</td><td>▁▁▂▂▂▃▃▃▄▄▄▅▅▅▆▆▇▇▇▇█▁▁▂▂▃▃▃▃▄▄▅▅▅▆▆▇▇▇█</td></tr><tr><td>f1</td><td>▁▇▇▇▇▇▇▇▇▇▇▇██████████████████</td></tr><tr><td>loss</td><td>██▇▇▇▆▆▆▅▅▅▅▄▄▄▄▃▃▃▃▂▂▂▂▂▂▁▁▁▁</td></tr><tr><td>loss_total</td><td>█▁▁▁▁▁▁▁▁▁▂▂▂▂▂▂▂▂▂▂▂▂▂▁▁▁▁▁▁▁</td></tr><tr><td>precision</td><td>▁▆▆▆▇▇▇▇▇▇▇▇▇▇▇▇▇█████████████</td></tr><tr><td>recall</td><td>▁█████████████████████████████</td></tr></table><br/></div><div class=\"wandb-col\"><h3>Run summary:</h3><br/><table class=\"wandb\"><tr><td>Model</td><td>ALDI_Student</td></tr><tr><td>accuracy</td><td>0.78338</td></tr><tr><td>class_loss</td><td>83.63888</td></tr><tr><td>distill_loss</td><td>0.02016</td></tr><tr><td>epoch</td><td>29</td></tr><tr><td>f1</td><td>0.82195</td></tr><tr><td>loss</td><td>4.41597</td></tr><tr><td>loss_total</td><td>33.46765</td></tr><tr><td>precision</td><td>0.69771</td></tr><tr><td>recall</td><td>1</td></tr></table><br/></div></div>"
            ]
          },
          "metadata": {}
        },
        {
          "output_type": "display_data",
          "data": {
            "text/plain": [
              "<IPython.core.display.HTML object>"
            ],
            "text/html": [
              " View run <strong style=\"color:#cdcd00\">flowing-water-7</strong> at: <a href='https://wandb.ai/pearlkakande-makerere-university/book-model/runs/v7n0azn6' target=\"_blank\">https://wandb.ai/pearlkakande-makerere-university/book-model/runs/v7n0azn6</a><br> View project at: <a href='https://wandb.ai/pearlkakande-makerere-university/book-model' target=\"_blank\">https://wandb.ai/pearlkakande-makerere-university/book-model</a><br>Synced 5 W&B file(s), 1 media file(s), 0 artifact file(s) and 0 other file(s)"
            ]
          },
          "metadata": {}
        },
        {
          "output_type": "display_data",
          "data": {
            "text/plain": [
              "<IPython.core.display.HTML object>"
            ],
            "text/html": [
              "Find logs at: <code>./wandb/run-20250226_001655-v7n0azn6/logs</code>"
            ]
          },
          "metadata": {}
        }
      ]
    },
    {
      "cell_type": "markdown",
      "source": [
        "MODEL 6 Meta-Learning on Knowledge Graph (MetaKG)"
      ],
      "metadata": {
        "id": "9Q0c1YBSWXX2"
      }
    },
    {
      "cell_type": "code",
      "source": [
        "import torch\n",
        "import torch.nn.functional as F\n",
        "from torch_geometric.nn import GCNConv\n",
        "from torch import nn\n",
        "from torch_geometric.utils import subgraph\n",
        "from sklearn.metrics import accuracy_score, precision_score, recall_score, f1_score, confusion_matrix\n",
        "import pandas as pd\n",
        "import wandb\n",
        "import matplotlib.pyplot as plt\n",
        "import numpy as np\n",
        "\n",
        "# Initialize wandb before training the model\n",
        "wandb.init(project=\"book-model\",    # Replace with your project name\n",
        "           entity=\"pearlkakande-makerere-university\",  # Replace with your wandb username or team name\n",
        "           config={\"model\": \"MetaKG\", \"epochs\": 30, \"learning_rate\": 0.01})\n",
        "\n",
        "# Define warm items based on ratings_count > threshold.\n",
        "threshold = train_df['Num_Ratings'].median()\n",
        "labels = (train_df['Num_Ratings'] > threshold).astype(int).values\n",
        "labels = torch.tensor(labels, dtype=torch.long)\n",
        "\n",
        "class MetaGNN(nn.Module):\n",
        "    def __init__(self, in_channels, hidden_channels):\n",
        "        super(MetaGNN, self).__init__()\n",
        "        self.conv1 = GCNConv(in_channels, hidden_channels)\n",
        "        self.conv2 = GCNConv(hidden_channels, hidden_channels)\n",
        "        self.lin = nn.Linear(hidden_channels + 1, 2)\n",
        "\n",
        "    def forward(self, data):\n",
        "        x = F.relu(self.conv1(data['book'].x, data['book', 'similar_to', 'book'].edge_index))\n",
        "        x = self.conv2(x, data['book', 'similar_to', 'book'].edge_index)\n",
        "        ratings = data['book'].ratings_count.unsqueeze(1)\n",
        "        x_cat = torch.cat([x, ratings], dim=1)\n",
        "        out = self.lin(x_cat)\n",
        "        return out, x\n",
        "\n",
        "# Sampling function for meta-learning tasks with proper edge re-indexing\n",
        "def sample_task(data, labels, task_size=100):\n",
        "    idx = torch.randperm(data['book'].x.size(0))[:task_size]\n",
        "    task_data = data.clone()\n",
        "    # Subset node features and ratings\n",
        "    task_data['book'].x = data['book'].x[idx]\n",
        "    task_data['book'].ratings_count = data['book'].ratings_count[idx]\n",
        "    # Adjust edge indices for the sampled subgraph using subgraph utility\n",
        "    orig_edge_index = data['book', 'similar_to', 'book'].edge_index\n",
        "    new_edge_index, _ = subgraph(idx, orig_edge_index, relabel_nodes=True, num_nodes=data['book'].x.size(0))\n",
        "    task_data['book', 'similar_to', 'book'].edge_index = new_edge_index\n",
        "    return task_data, labels[idx]\n",
        "\n",
        "# Set device and create model instance\n",
        "device = torch.device('cuda' if torch.cuda.is_available() else 'cpu')\n",
        "meta_model = MetaGNN(in_channels=data['book'].x.size(1), hidden_channels=64).to(device)\n",
        "meta_optimizer = torch.optim.Adam(meta_model.parameters(), lr=0.005)\n",
        "\n",
        "# Move data and labels to device\n",
        "data['book'].x = data['book'].x.to(device)\n",
        "data['book', 'similar_to', 'book'].edge_index = data['book', 'similar_to', 'book'].edge_index.to(device)\n",
        "data['book'].ratings_count = data['book'].ratings_count.to(device)\n",
        "labels = labels.to(device)\n",
        "\n",
        "meta_epochs = 30\n",
        "meta_tasks = 5  # number of tasks per epoch\n",
        "\n",
        "meta_model.train()\n",
        "all_preds, all_labels = [], []\n",
        "for epoch in range(meta_epochs):\n",
        "    meta_loss = 0\n",
        "    epoch_preds, epoch_labels = [], []\n",
        "\n",
        "    for _ in range(meta_tasks):\n",
        "        task_data, task_labels = sample_task(data, labels, task_size=100)\n",
        "        task_data['book'].x = task_data['book'].x.to(device)\n",
        "        task_data['book', 'similar_to', 'book'].edge_index = task_data['book', 'similar_to', 'book'].edge_index.to(device)\n",
        "        task_data['book'].ratings_count = task_data['book'].ratings_count.to(device)\n",
        "        task_labels = task_labels.to(device)\n",
        "\n",
        "        out, _ = meta_model(task_data)\n",
        "        loss = F.cross_entropy(out, task_labels)\n",
        "        meta_loss += loss\n",
        "\n",
        "        preds = out.argmax(dim=1).cpu().numpy()\n",
        "        true_labels = task_labels.cpu().numpy()\n",
        "        epoch_preds.extend(preds)\n",
        "        epoch_labels.extend(true_labels)\n",
        "\n",
        "    meta_loss /= meta_tasks\n",
        "    meta_optimizer.zero_grad()\n",
        "    meta_loss.backward()\n",
        "    meta_optimizer.step()\n",
        "\n",
        "    # Compute metrics for the current epoch\n",
        "    acc = accuracy_score(epoch_labels, epoch_preds)\n",
        "    prec = precision_score(epoch_labels, epoch_preds, zero_division=0)\n",
        "    rec = recall_score(epoch_labels, epoch_preds, zero_division=0)\n",
        "    f1 = f1_score(epoch_labels, epoch_preds, zero_division=0)\n",
        "\n",
        "    wandb.log({\"Model\": \"MetaKG\", \"epoch\": epoch, \"loss\": meta_loss.item(),\n",
        "               \"accuracy\": acc, \"precision\": prec, \"recall\": rec, \"f1\": f1})\n",
        "\n",
        "    if epoch % 10 == 0:\n",
        "        print(f\"MetaKG Epoch {epoch}: Loss={meta_loss.item():.4f}, Acc={acc:.4f}\")\n",
        "\n",
        "    all_preds.extend(epoch_preds)\n",
        "    all_labels.extend(epoch_labels)\n",
        "\n",
        "# Compute confusion matrix on training data (across all tasks)\n",
        "cm = confusion_matrix(all_labels, all_preds)\n",
        "print(\"Confusion Matrix:\")\n",
        "print(cm)\n",
        "\n",
        "# Plot and log the confusion matrix as an image to wandb\n",
        "plt.figure(figsize=(4,4))\n",
        "plt.imshow(cm, interpolation='nearest', cmap=plt.cm.Blues)\n",
        "plt.title(\"Confusion Matrix (MetaKG)\")\n",
        "plt.colorbar()\n",
        "tick_marks = np.arange(2)\n",
        "plt.xticks(tick_marks, [\"Cold\", \"Warm\"])\n",
        "plt.yticks(tick_marks, [\"Cold\", \"Warm\"])\n",
        "plt.xlabel(\"Predicted label\")\n",
        "plt.ylabel(\"True label\")\n",
        "plt.tight_layout()\n",
        "wandb.log({\"confusion_matrix\": wandb.Image(plt)})\n",
        "plt.show()\n",
        "\n",
        "results6 = {\"Model\": \"MetaKG\", \"Loss\": meta_loss.item()}\n",
        "print(pd.DataFrame([results6]))\n",
        "\n",
        "wandb.finish()\n"
      ],
      "metadata": {
        "colab": {
          "base_uri": "https://localhost:8080/",
          "height": 1000
        },
        "id": "AmGlBnbdsJGo",
        "outputId": "59a63dab-9a85-484f-de3d-59577b439ff1"
      },
      "execution_count": 23,
      "outputs": [
        {
          "output_type": "stream",
          "name": "stdout",
          "text": [
            "MetaKG Epoch 0: Loss=105.3194, Acc=0.5320\n",
            "MetaKG Epoch 10: Loss=13.1248, Acc=0.7520\n",
            "MetaKG Epoch 20: Loss=33.9277, Acc=0.7640\n",
            "Confusion Matrix:\n",
            "[[3819 3710]\n",
            " [ 237 7234]]\n"
          ]
        },
        {
          "output_type": "display_data",
          "data": {
            "text/plain": [
              "<Figure size 400x400 with 2 Axes>"
            ],
            "image/png": "[encoded data removed]"
          },
          "metadata": {}
        },
        {
          "output_type": "stream",
          "name": "stdout",
          "text": [
            "    Model       Loss\n",
            "0  MetaKG  14.582858\n"
          ]
        },
        {
          "output_type": "display_data",
          "data": {
            "text/plain": [
              "<IPython.core.display.HTML object>"
            ],
            "text/html": []
          },
          "metadata": {}
        },
        {
          "output_type": "display_data",
          "data": {
            "text/plain": [
              "<IPython.core.display.HTML object>"
            ],
            "text/html": [
              "<br>    <style><br>        .wandb-row {<br>            display: flex;<br>            flex-direction: row;<br>            flex-wrap: wrap;<br>            justify-content: flex-start;<br>            width: 100%;<br>        }<br>        .wandb-col {<br>            display: flex;<br>            flex-direction: column;<br>            flex-basis: 100%;<br>            flex: 1;<br>            padding: 10px;<br>        }<br>    </style><br><div class=\"wandb-row\"><div class=\"wandb-col\"><h3>Run history:</h3><br/><table class=\"wandb\"><tr><td>accuracy</td><td>▁▁▁▃▃▃▆▁█▅▅▄▆▅▅▄▅▅▅▅▅▅▆▆▇▇▆▇▇▇</td></tr><tr><td>epoch</td><td>▁▁▁▂▂▂▂▃▃▃▃▄▄▄▄▅▅▅▅▆▆▆▆▇▇▇▇███</td></tr><tr><td>f1</td><td>▆▆▆▇▆▇▇▁█▇▇▇▇▇▇▇▇▇▇▇▇▇▇▇██▇███</td></tr><tr><td>loss</td><td>▃▃▃▂▂▂▁█▁▁▁▁▁▂▂▂▂▂▂▂▂▂▂▂▁▁▂▂▁▁</td></tr><tr><td>precision</td><td>▅▅▅▆▆▆▇▁█▇▇▆▇▇▇▆▇▆▇▆▇▇▇▇▇▇▇▇▇█</td></tr><tr><td>recall</td><td>███████▁██████████████████████</td></tr></table><br/></div><div class=\"wandb-col\"><h3>Run summary:</h3><br/><table class=\"wandb\"><tr><td>Model</td><td>MetaKG</td></tr><tr><td>accuracy</td><td>0.872</td></tr><tr><td>epoch</td><td>29</td></tr><tr><td>f1</td><td>0.8853</td></tr><tr><td>loss</td><td>14.58286</td></tr><tr><td>precision</td><td>0.79421</td></tr><tr><td>recall</td><td>1</td></tr></table><br/></div></div>"
            ]
          },
          "metadata": {}
        },
        {
          "output_type": "display_data",
          "data": {
            "text/plain": [
              "<IPython.core.display.HTML object>"
            ],
            "text/html": [
              " View run <strong style=\"color:#cdcd00\">fluent-aardvark-8</strong> at: <a href='https://wandb.ai/pearlkakande-makerere-university/book-model/runs/7op5mx9j' target=\"_blank\">https://wandb.ai/pearlkakande-makerere-university/book-model/runs/7op5mx9j</a><br> View project at: <a href='https://wandb.ai/pearlkakande-makerere-university/book-model' target=\"_blank\">https://wandb.ai/pearlkakande-makerere-university/book-model</a><br>Synced 5 W&B file(s), 1 media file(s), 0 artifact file(s) and 0 other file(s)"
            ]
          },
          "metadata": {}
        },
        {
          "output_type": "display_data",
          "data": {
            "text/plain": [
              "<IPython.core.display.HTML object>"
            ],
            "text/html": [
              "Find logs at: <code>./wandb/run-20250226_004505-7op5mx9j/logs</code>"
            ]
          },
          "metadata": {}
        }
      ]
    },
    {
      "cell_type": "markdown",
      "source": [
        "MODEL 7Graph Neural Network with Pseudo-Labelling over Knowledge Graph"
      ],
      "metadata": {
        "id": "XUmdxgSdujRi"
      }
    }
  ]
}